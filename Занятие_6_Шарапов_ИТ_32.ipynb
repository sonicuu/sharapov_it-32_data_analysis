{
  "cells": [
    {
      "cell_type": "markdown",
      "metadata": {
        "id": "view-in-github",
        "colab_type": "text"
      },
      "source": [
        "<a href=\"https://colab.research.google.com/github/sonicuu/sharapov_it-32_data_analysis/blob/main/%D0%97%D0%B0%D0%BD%D1%8F%D1%82%D0%B8%D0%B5_6_%D0%A8%D0%B0%D1%80%D0%B0%D0%BF%D0%BE%D0%B2_%D0%98%D0%A2_32.ipynb\" target=\"_parent\"><img src=\"https://colab.research.google.com/assets/colab-badge.svg\" alt=\"Open In Colab\"/></a>"
      ]
    },
    {
      "cell_type": "markdown",
      "metadata": {
        "id": "xLIz0oW7N6MI"
      },
      "source": [
        "# Изменение типов данных\n",
        "\n",
        "Данные бывают разных типов, не всегда подходящих для анализа. В этой теме вы узнаете, как изменять типы данных для удобства расчётов.\n",
        "\n",
        "Задачи сегодняшнего занятия:\n",
        "\n",
        "•\tПереводить строку в форматы даты и времени;\n",
        "\n",
        "•\tПревращать строковые значения в числовые методами **to_numeric()** и **astype()**;\n",
        "\n",
        "•\tСоединять таблицы методом **merge()**;\n",
        "\n",
        "•\tСоздавать сводные таблицы методом **pivot_table()**.\n"
      ]
    },
    {
      "cell_type": "markdown",
      "metadata": {
        "id": "ehDyV3zoN6MK"
      },
      "source": [
        "Задача: SEO-оптимизаторы поставили задачу \"Определить, какие товарные категории и подкатегории на сайте представлены в поисковиках хуже всего\". В ответ на просьбу направить таблицы с источниками трафика, товарными категориями и подкатегориями, разработчики прислали экселевский файл.\n",
        "\n",
        "Ранее мы встречались только с форматом **.csv** и методом **read_csv()**. Для прочтения файлов **Excel** есть особый метод **read_excel()**. Он похож на **read_csv()**, но в отличие от него, **read_excel()** нужно два аргумента: строка с именем самого файла или пути к нему, и имя листа **sheet_name**.\n",
        "\n",
        "**import pandas as pd**\n",
        "\n",
        "**df = pd.read_excel('/datasets/Экселевский файл.xlsx', sheet_name='Самый первый лист')**\n",
        "\n",
        "Можно вызвать **read_excel()** и без второго аргумента. Тогда будет взят первый по счёту лист.\n",
        "Вооружившись методом **read_excel()**, прочитаем файл с таблицами от разработчиков.\n"
      ]
    },
    {
      "cell_type": "markdown",
      "metadata": {
        "id": "_U-5tdY2N6MK"
      },
      "source": [
        "## Задача\n",
        "\n",
        "1. Методом **read_excel()** прочтите первый лист **'traffic_data'**, сохраните его в переменной **data**. Выведите на экран первые 5 строк листа методом **head()**. Прочитайте названия столбцов:\n",
        "\n",
        "•\t**subcategory_id** — идентификатор товарной подкатегории, или её зашифрованное название;\n",
        "\n",
        "•\t**source** — источник трафика. В нашем случае источников два: прямой заход на сайт в таблице обозначен как direct, переход из поисковых систем — **organic**;\n",
        "\n",
        "•\t**visits** — количество визитов на страницу подкатегории за отчётный период.\n",
        "\n"
      ]
    },
    {
      "cell_type": "code",
      "execution_count": null,
      "metadata": {
        "id": "IMhI2NUbN6ML",
        "outputId": "3e3c0958-8852-4291-d99b-478ffc6c0b59"
      },
      "outputs": [
        {
          "name": "stdout",
          "output_type": "stream",
          "text": [
            "  subcategory_id  source         visits\n",
            "0     cf2e61c7af  direct  501165.668858\n",
            "1     0cd903d1cc  direct  126342.359505\n",
            "2     ef35bc88a7  direct   95626.321402\n",
            "3     6ff9f4014c  direct   75680.653002\n",
            "4     72bc238e4d  direct   64435.934651\n",
            "Index(['subcategory_id', 'source', 'visits'], dtype='object')\n"
          ]
        }
      ],
      "source": [
        "import pandas as pd\n",
        "data = pd.read_excel('seo_data.xlsx', sheet_name='traffic_data')\n",
        "print(data.head())\n",
        "\n",
        "print(data.columns)\n",
        "\n"
      ]
    },
    {
      "cell_type": "markdown",
      "metadata": {
        "id": "g2aMYaGfN6MM"
      },
      "source": [
        "Пока в первых 5 строчках таблицы виден только один источник трафика direct. Проверьте, какие источники есть в столбце source. Выведите на экран список уникальных значений этого столбца.\n"
      ]
    },
    {
      "cell_type": "code",
      "execution_count": null,
      "metadata": {
        "id": "9673k5ZYN6MM",
        "outputId": "b27379f0-6763-46d2-de34-7b5e5aed1c26"
      },
      "outputs": [
        {
          "name": "stdout",
          "output_type": "stream",
          "text": [
            "['direct' 'organic']\n"
          ]
        }
      ],
      "source": [
        "unique_sources = data['source'].unique()\n",
        "\n",
        "print(unique_sources)\n"
      ]
    },
    {
      "cell_type": "markdown",
      "metadata": {
        "id": "pQ-KwnrqN6MN"
      },
      "source": [
        "Методом **read_excel()** прочтите второй лист **'subcategory_ids'** и сохраните его в переменной **subcategory_dict**. Выведите на экран его первые 5 строк методом **head()**.\n",
        "Обратите внимание на названия столбцов: к знакомым нам идентификаторам подкатегорий **(subcategory_id)** добавились идентификаторы категорий **(category_id)** и названия подкатегорий **(subcategory_name)**.\n",
        "Всё это похоже на словарь, где идентификаторам подкатегорий из цифр и латинских букв соответствуют понятные нам названия. Поэтому датафрейм называется **subcategory_dict**.\n"
      ]
    },
    {
      "cell_type": "code",
      "execution_count": null,
      "metadata": {
        "id": "cUBCYbdfN6MN",
        "outputId": "16013044-46e2-45c8-e3dc-7cee9eab12c2"
      },
      "outputs": [
        {
          "name": "stdout",
          "output_type": "stream",
          "text": [
            "  subcategory_id                subcategory_name category_id\n",
            "0     cf2e61c7af              Мобильные телефоны  09f279a643\n",
            "1     0cd903d1cc                        Ноутбуки  3509869a61\n",
            "2     ef35bc88a7                      Телевизоры  09f279a643\n",
            "3     6ff9f4014c                        Планшеты  3509869a61\n",
            "4     72bc238e4d  Наушники и Bluetooth-гарнитуры  09f279a643\n"
          ]
        }
      ],
      "source": [
        "subcategory_dict = pd.read_excel('seo_data.xlsx', sheet_name='subcategory_ids')\n",
        "\n",
        "print(subcategory_dict.head())\n"
      ]
    },
    {
      "cell_type": "markdown",
      "metadata": {
        "id": "Z0bDvTLaN6MN"
      },
      "source": [
        "Наконец, методом **read_excel()** прочтём третий лист **category_ids** и сохраним его в переменной **category_dict**. Выведите на экран первые 5 строк листа методом **head()**."
      ]
    },
    {
      "cell_type": "code",
      "execution_count": null,
      "metadata": {
        "id": "poYIkosjN6MN",
        "outputId": "5754f3a2-2a7a-4e2e-9aff-f1f07ebecc91"
      },
      "outputs": [
        {
          "name": "stdout",
          "output_type": "stream",
          "text": [
            "  category_id               category_name\n",
            "0  09f279a643                 Электроника\n",
            "1  3509869a61        Компьютерная техника\n",
            "2  65922fa39c                        Авто\n",
            "3  6074ad29ac  Одежда, обувь и аксессуары\n",
            "4  10a493e03b         Товары для здоровья\n"
          ]
        }
      ],
      "source": [
        "category_dict = pd.read_excel('seo_data.xlsx', sheet_name='category_ids')\n",
        "print(category_dict.head())\n"
      ]
    },
    {
      "cell_type": "markdown",
      "metadata": {
        "id": "qnMcVe7uN6MN"
      },
      "source": [
        "# Перевод строковых значений в числа\n",
        "\n",
        "Читая данные, Pandas автоматически переводит их в подходящий формат. У него порой не получается, тогда приходится измениять тип данных вручную.\n",
        "\n",
        "Рассмотрим файл со списком транзакций (платежей за одну покупку). Для каждой категории (буква в столбце **'category'**) посчитаем сумму продаж (значения в столбце **'amount'**)."
      ]
    },
    {
      "cell_type": "code",
      "execution_count": null,
      "metadata": {
        "id": "_W5HFFdoN6MN",
        "outputId": "f86d6d40-10fc-45ee-ca8b-38d4764fe657"
      },
      "outputs": [
        {
          "data": {
            "text/html": [
              "<div>\n",
              "<style scoped>\n",
              "    .dataframe tbody tr th:only-of-type {\n",
              "        vertical-align: middle;\n",
              "    }\n",
              "\n",
              "    .dataframe tbody tr th {\n",
              "        vertical-align: top;\n",
              "    }\n",
              "\n",
              "    .dataframe thead th {\n",
              "        text-align: right;\n",
              "    }\n",
              "</style>\n",
              "<table border=\"1\" class=\"dataframe\">\n",
              "  <thead>\n",
              "    <tr style=\"text-align: right;\">\n",
              "      <th></th>\n",
              "      <th>id</th>\n",
              "      <th>category</th>\n",
              "      <th>amount</th>\n",
              "    </tr>\n",
              "  </thead>\n",
              "  <tbody>\n",
              "    <tr>\n",
              "      <th>0</th>\n",
              "      <td>600748331392</td>\n",
              "      <td>C</td>\n",
              "      <td>17515.36</td>\n",
              "    </tr>\n",
              "    <tr>\n",
              "      <th>1</th>\n",
              "      <td>600748331404</td>\n",
              "      <td>B</td>\n",
              "      <td>10117.56</td>\n",
              "    </tr>\n",
              "    <tr>\n",
              "      <th>2</th>\n",
              "      <td>600748331412</td>\n",
              "      <td>B</td>\n",
              "      <td>18489.26</td>\n",
              "    </tr>\n",
              "    <tr>\n",
              "      <th>3</th>\n",
              "      <td>600748331430</td>\n",
              "      <td>B</td>\n",
              "      <td>6620.22</td>\n",
              "    </tr>\n",
              "    <tr>\n",
              "      <th>4</th>\n",
              "      <td>600748331447</td>\n",
              "      <td>C</td>\n",
              "      <td>7559.9</td>\n",
              "    </tr>\n",
              "  </tbody>\n",
              "</table>\n",
              "</div>"
            ],
            "text/plain": [
              "             id category    amount\n",
              "0  600748331392        C  17515.36\n",
              "1  600748331404        B  10117.56\n",
              "2  600748331412        B  18489.26\n",
              "3  600748331430        B   6620.22\n",
              "4  600748331447        C    7559.9"
            ]
          },
          "execution_count": 5,
          "metadata": {},
          "output_type": "execute_result"
        }
      ],
      "source": [
        "transactions = pd.read_excel('ids.xlsx')\n",
        "transactions.head()\n"
      ]
    },
    {
      "cell_type": "markdown",
      "metadata": {
        "id": "-qp2XtVoN6MO"
      },
      "source": [
        "Пока всё распознано корректно. В столбце **'id'** стоят идентификаторы транзакций, в столбце **category** — категории проданных товаров, в **amount** — стоимость каждого товара. Методом **info()** установим, как Pandas определил типы столбцов."
      ]
    },
    {
      "cell_type": "code",
      "execution_count": null,
      "metadata": {
        "id": "P_eqYFWIN6MO",
        "outputId": "6eed8fca-d36b-466a-fac8-230b82ec1a0b"
      },
      "outputs": [
        {
          "name": "stdout",
          "output_type": "stream",
          "text": [
            "<class 'pandas.core.frame.DataFrame'>\n",
            "RangeIndex: 49 entries, 0 to 48\n",
            "Data columns (total 3 columns):\n",
            " #   Column    Non-Null Count  Dtype \n",
            "---  ------    --------------  ----- \n",
            " 0   id        49 non-null     object\n",
            " 1   category  49 non-null     object\n",
            " 2   amount    49 non-null     object\n",
            "dtypes: object(3)\n",
            "memory usage: 1.3+ KB\n"
          ]
        }
      ],
      "source": [
        "transactions.info()"
      ]
    },
    {
      "cell_type": "markdown",
      "metadata": {
        "id": "4ZCDutUoN6MO"
      },
      "source": [
        "А вот и подозрительное поведение: столбцы **'id'** и **'amount'** распознаны как строки — тип **object**. Это значит, что в столбцах есть нечисловые значения или пропуски, а они помешают нашим расчётам.\n",
        "\n",
        "К примеру, попробуем вычислить сумму продаж:"
      ]
    },
    {
      "cell_type": "code",
      "execution_count": null,
      "metadata": {
        "id": "uI5UFYfnN6MO",
        "outputId": "bc2b6195-ca60-4533-8f1d-b3005843ab47"
      },
      "outputs": [
        {
          "ename": "TypeError",
          "evalue": "unsupported operand type(s) for +: 'float' and 'str'",
          "output_type": "error",
          "traceback": [
            "\u001b[1;31m---------------------------------------------------------------------------\u001b[0m",
            "\u001b[1;31mTypeError\u001b[0m                                 Traceback (most recent call last)",
            "Cell \u001b[1;32mIn[19], line 1\u001b[0m\n\u001b[1;32m----> 1\u001b[0m \u001b[38;5;28mprint\u001b[39m(\u001b[43mtransactions\u001b[49m\u001b[43m[\u001b[49m\u001b[38;5;124;43m'\u001b[39;49m\u001b[38;5;124;43mamount\u001b[39;49m\u001b[38;5;124;43m'\u001b[39;49m\u001b[43m]\u001b[49m\u001b[38;5;241;43m.\u001b[39;49m\u001b[43msum\u001b[49m\u001b[43m(\u001b[49m\u001b[43m)\u001b[49m) \n",
            "File \u001b[1;32m~\\AppData\\Local\\Packages\\PythonSoftwareFoundation.Python.3.11_qbz5n2kfra8p0\\LocalCache\\local-packages\\Python311\\site-packages\\pandas\\core\\series.py:6528\u001b[0m, in \u001b[0;36mSeries.sum\u001b[1;34m(self, axis, skipna, numeric_only, min_count, **kwargs)\u001b[0m\n\u001b[0;32m   6519\u001b[0m \u001b[38;5;129m@doc\u001b[39m(make_doc(\u001b[38;5;124m\"\u001b[39m\u001b[38;5;124msum\u001b[39m\u001b[38;5;124m\"\u001b[39m, ndim\u001b[38;5;241m=\u001b[39m\u001b[38;5;241m1\u001b[39m))\n\u001b[0;32m   6520\u001b[0m \u001b[38;5;28;01mdef\u001b[39;00m \u001b[38;5;21msum\u001b[39m(\n\u001b[0;32m   6521\u001b[0m     \u001b[38;5;28mself\u001b[39m,\n\u001b[1;32m   (...)\u001b[0m\n\u001b[0;32m   6526\u001b[0m     \u001b[38;5;241m*\u001b[39m\u001b[38;5;241m*\u001b[39mkwargs,\n\u001b[0;32m   6527\u001b[0m ):\n\u001b[1;32m-> 6528\u001b[0m     \u001b[38;5;28;01mreturn\u001b[39;00m \u001b[43mNDFrame\u001b[49m\u001b[38;5;241;43m.\u001b[39;49m\u001b[43msum\u001b[49m\u001b[43m(\u001b[49m\u001b[38;5;28;43mself\u001b[39;49m\u001b[43m,\u001b[49m\u001b[43m \u001b[49m\u001b[43maxis\u001b[49m\u001b[43m,\u001b[49m\u001b[43m \u001b[49m\u001b[43mskipna\u001b[49m\u001b[43m,\u001b[49m\u001b[43m \u001b[49m\u001b[43mnumeric_only\u001b[49m\u001b[43m,\u001b[49m\u001b[43m \u001b[49m\u001b[43mmin_count\u001b[49m\u001b[43m,\u001b[49m\u001b[43m \u001b[49m\u001b[38;5;241;43m*\u001b[39;49m\u001b[38;5;241;43m*\u001b[39;49m\u001b[43mkwargs\u001b[49m\u001b[43m)\u001b[49m\n",
            "File \u001b[1;32m~\\AppData\\Local\\Packages\\PythonSoftwareFoundation.Python.3.11_qbz5n2kfra8p0\\LocalCache\\local-packages\\Python311\\site-packages\\pandas\\core\\generic.py:12506\u001b[0m, in \u001b[0;36mNDFrame.sum\u001b[1;34m(self, axis, skipna, numeric_only, min_count, **kwargs)\u001b[0m\n\u001b[0;32m  12498\u001b[0m \u001b[38;5;28;01mdef\u001b[39;00m \u001b[38;5;21msum\u001b[39m(\n\u001b[0;32m  12499\u001b[0m     \u001b[38;5;28mself\u001b[39m,\n\u001b[0;32m  12500\u001b[0m     axis: Axis \u001b[38;5;241m|\u001b[39m \u001b[38;5;28;01mNone\u001b[39;00m \u001b[38;5;241m=\u001b[39m \u001b[38;5;241m0\u001b[39m,\n\u001b[1;32m   (...)\u001b[0m\n\u001b[0;32m  12504\u001b[0m     \u001b[38;5;241m*\u001b[39m\u001b[38;5;241m*\u001b[39mkwargs,\n\u001b[0;32m  12505\u001b[0m ):\n\u001b[1;32m> 12506\u001b[0m     \u001b[38;5;28;01mreturn\u001b[39;00m \u001b[38;5;28;43mself\u001b[39;49m\u001b[38;5;241;43m.\u001b[39;49m\u001b[43m_min_count_stat_function\u001b[49m\u001b[43m(\u001b[49m\n\u001b[0;32m  12507\u001b[0m \u001b[43m        \u001b[49m\u001b[38;5;124;43m\"\u001b[39;49m\u001b[38;5;124;43msum\u001b[39;49m\u001b[38;5;124;43m\"\u001b[39;49m\u001b[43m,\u001b[49m\u001b[43m \u001b[49m\u001b[43mnanops\u001b[49m\u001b[38;5;241;43m.\u001b[39;49m\u001b[43mnansum\u001b[49m\u001b[43m,\u001b[49m\u001b[43m \u001b[49m\u001b[43maxis\u001b[49m\u001b[43m,\u001b[49m\u001b[43m \u001b[49m\u001b[43mskipna\u001b[49m\u001b[43m,\u001b[49m\u001b[43m \u001b[49m\u001b[43mnumeric_only\u001b[49m\u001b[43m,\u001b[49m\u001b[43m \u001b[49m\u001b[43mmin_count\u001b[49m\u001b[43m,\u001b[49m\u001b[43m \u001b[49m\u001b[38;5;241;43m*\u001b[39;49m\u001b[38;5;241;43m*\u001b[39;49m\u001b[43mkwargs\u001b[49m\n\u001b[0;32m  12508\u001b[0m \u001b[43m    \u001b[49m\u001b[43m)\u001b[49m\n",
            "File \u001b[1;32m~\\AppData\\Local\\Packages\\PythonSoftwareFoundation.Python.3.11_qbz5n2kfra8p0\\LocalCache\\local-packages\\Python311\\site-packages\\pandas\\core\\generic.py:12489\u001b[0m, in \u001b[0;36mNDFrame._min_count_stat_function\u001b[1;34m(self, name, func, axis, skipna, numeric_only, min_count, **kwargs)\u001b[0m\n\u001b[0;32m  12486\u001b[0m \u001b[38;5;28;01melif\u001b[39;00m axis \u001b[38;5;129;01mis\u001b[39;00m lib\u001b[38;5;241m.\u001b[39mno_default:\n\u001b[0;32m  12487\u001b[0m     axis \u001b[38;5;241m=\u001b[39m \u001b[38;5;241m0\u001b[39m\n\u001b[1;32m> 12489\u001b[0m \u001b[38;5;28;01mreturn\u001b[39;00m \u001b[38;5;28;43mself\u001b[39;49m\u001b[38;5;241;43m.\u001b[39;49m\u001b[43m_reduce\u001b[49m\u001b[43m(\u001b[49m\n\u001b[0;32m  12490\u001b[0m \u001b[43m    \u001b[49m\u001b[43mfunc\u001b[49m\u001b[43m,\u001b[49m\n\u001b[0;32m  12491\u001b[0m \u001b[43m    \u001b[49m\u001b[43mname\u001b[49m\u001b[38;5;241;43m=\u001b[39;49m\u001b[43mname\u001b[49m\u001b[43m,\u001b[49m\n\u001b[0;32m  12492\u001b[0m \u001b[43m    \u001b[49m\u001b[43maxis\u001b[49m\u001b[38;5;241;43m=\u001b[39;49m\u001b[43maxis\u001b[49m\u001b[43m,\u001b[49m\n\u001b[0;32m  12493\u001b[0m \u001b[43m    \u001b[49m\u001b[43mskipna\u001b[49m\u001b[38;5;241;43m=\u001b[39;49m\u001b[43mskipna\u001b[49m\u001b[43m,\u001b[49m\n\u001b[0;32m  12494\u001b[0m \u001b[43m    \u001b[49m\u001b[43mnumeric_only\u001b[49m\u001b[38;5;241;43m=\u001b[39;49m\u001b[43mnumeric_only\u001b[49m\u001b[43m,\u001b[49m\n\u001b[0;32m  12495\u001b[0m \u001b[43m    \u001b[49m\u001b[43mmin_count\u001b[49m\u001b[38;5;241;43m=\u001b[39;49m\u001b[43mmin_count\u001b[49m\u001b[43m,\u001b[49m\n\u001b[0;32m  12496\u001b[0m \u001b[43m\u001b[49m\u001b[43m)\u001b[49m\n",
            "File \u001b[1;32m~\\AppData\\Local\\Packages\\PythonSoftwareFoundation.Python.3.11_qbz5n2kfra8p0\\LocalCache\\local-packages\\Python311\\site-packages\\pandas\\core\\series.py:6457\u001b[0m, in \u001b[0;36mSeries._reduce\u001b[1;34m(self, op, name, axis, skipna, numeric_only, filter_type, **kwds)\u001b[0m\n\u001b[0;32m   6452\u001b[0m     \u001b[38;5;66;03m# GH#47500 - change to TypeError to match other methods\u001b[39;00m\n\u001b[0;32m   6453\u001b[0m     \u001b[38;5;28;01mraise\u001b[39;00m \u001b[38;5;167;01mTypeError\u001b[39;00m(\n\u001b[0;32m   6454\u001b[0m         \u001b[38;5;124mf\u001b[39m\u001b[38;5;124m\"\u001b[39m\u001b[38;5;124mSeries.\u001b[39m\u001b[38;5;132;01m{\u001b[39;00mname\u001b[38;5;132;01m}\u001b[39;00m\u001b[38;5;124m does not allow \u001b[39m\u001b[38;5;132;01m{\u001b[39;00mkwd_name\u001b[38;5;132;01m}\u001b[39;00m\u001b[38;5;124m=\u001b[39m\u001b[38;5;132;01m{\u001b[39;00mnumeric_only\u001b[38;5;132;01m}\u001b[39;00m\u001b[38;5;124m \u001b[39m\u001b[38;5;124m\"\u001b[39m\n\u001b[0;32m   6455\u001b[0m         \u001b[38;5;124m\"\u001b[39m\u001b[38;5;124mwith non-numeric dtypes.\u001b[39m\u001b[38;5;124m\"\u001b[39m\n\u001b[0;32m   6456\u001b[0m     )\n\u001b[1;32m-> 6457\u001b[0m \u001b[38;5;28;01mreturn\u001b[39;00m \u001b[43mop\u001b[49m\u001b[43m(\u001b[49m\u001b[43mdelegate\u001b[49m\u001b[43m,\u001b[49m\u001b[43m \u001b[49m\u001b[43mskipna\u001b[49m\u001b[38;5;241;43m=\u001b[39;49m\u001b[43mskipna\u001b[49m\u001b[43m,\u001b[49m\u001b[43m \u001b[49m\u001b[38;5;241;43m*\u001b[39;49m\u001b[38;5;241;43m*\u001b[39;49m\u001b[43mkwds\u001b[49m\u001b[43m)\u001b[49m\n",
            "File \u001b[1;32m~\\AppData\\Local\\Packages\\PythonSoftwareFoundation.Python.3.11_qbz5n2kfra8p0\\LocalCache\\local-packages\\Python311\\site-packages\\pandas\\core\\nanops.py:85\u001b[0m, in \u001b[0;36mdisallow.__call__.<locals>._f\u001b[1;34m(*args, **kwargs)\u001b[0m\n\u001b[0;32m     81\u001b[0m     \u001b[38;5;28;01mraise\u001b[39;00m \u001b[38;5;167;01mTypeError\u001b[39;00m(\n\u001b[0;32m     82\u001b[0m         \u001b[38;5;124mf\u001b[39m\u001b[38;5;124m\"\u001b[39m\u001b[38;5;124mreduction operation \u001b[39m\u001b[38;5;124m'\u001b[39m\u001b[38;5;132;01m{\u001b[39;00mf_name\u001b[38;5;132;01m}\u001b[39;00m\u001b[38;5;124m'\u001b[39m\u001b[38;5;124m not allowed for this dtype\u001b[39m\u001b[38;5;124m\"\u001b[39m\n\u001b[0;32m     83\u001b[0m     )\n\u001b[0;32m     84\u001b[0m \u001b[38;5;28;01mtry\u001b[39;00m:\n\u001b[1;32m---> 85\u001b[0m     \u001b[38;5;28;01mreturn\u001b[39;00m \u001b[43mf\u001b[49m\u001b[43m(\u001b[49m\u001b[38;5;241;43m*\u001b[39;49m\u001b[43margs\u001b[49m\u001b[43m,\u001b[49m\u001b[43m \u001b[49m\u001b[38;5;241;43m*\u001b[39;49m\u001b[38;5;241;43m*\u001b[39;49m\u001b[43mkwargs\u001b[49m\u001b[43m)\u001b[49m\n\u001b[0;32m     86\u001b[0m \u001b[38;5;28;01mexcept\u001b[39;00m \u001b[38;5;167;01mValueError\u001b[39;00m \u001b[38;5;28;01mas\u001b[39;00m e:\n\u001b[0;32m     87\u001b[0m     \u001b[38;5;66;03m# we want to transform an object array\u001b[39;00m\n\u001b[0;32m     88\u001b[0m     \u001b[38;5;66;03m# ValueError message to the more typical TypeError\u001b[39;00m\n\u001b[0;32m     89\u001b[0m     \u001b[38;5;66;03m# e.g. this is normally a disallowed function on\u001b[39;00m\n\u001b[0;32m     90\u001b[0m     \u001b[38;5;66;03m# object arrays that contain strings\u001b[39;00m\n\u001b[0;32m     91\u001b[0m     \u001b[38;5;28;01mif\u001b[39;00m is_object_dtype(args[\u001b[38;5;241m0\u001b[39m]):\n",
            "File \u001b[1;32m~\\AppData\\Local\\Packages\\PythonSoftwareFoundation.Python.3.11_qbz5n2kfra8p0\\LocalCache\\local-packages\\Python311\\site-packages\\pandas\\core\\nanops.py:404\u001b[0m, in \u001b[0;36m_datetimelike_compat.<locals>.new_func\u001b[1;34m(values, axis, skipna, mask, **kwargs)\u001b[0m\n\u001b[0;32m    401\u001b[0m \u001b[38;5;28;01mif\u001b[39;00m datetimelike \u001b[38;5;129;01mand\u001b[39;00m mask \u001b[38;5;129;01mis\u001b[39;00m \u001b[38;5;28;01mNone\u001b[39;00m:\n\u001b[0;32m    402\u001b[0m     mask \u001b[38;5;241m=\u001b[39m isna(values)\n\u001b[1;32m--> 404\u001b[0m result \u001b[38;5;241m=\u001b[39m \u001b[43mfunc\u001b[49m\u001b[43m(\u001b[49m\u001b[43mvalues\u001b[49m\u001b[43m,\u001b[49m\u001b[43m \u001b[49m\u001b[43maxis\u001b[49m\u001b[38;5;241;43m=\u001b[39;49m\u001b[43maxis\u001b[49m\u001b[43m,\u001b[49m\u001b[43m \u001b[49m\u001b[43mskipna\u001b[49m\u001b[38;5;241;43m=\u001b[39;49m\u001b[43mskipna\u001b[49m\u001b[43m,\u001b[49m\u001b[43m \u001b[49m\u001b[43mmask\u001b[49m\u001b[38;5;241;43m=\u001b[39;49m\u001b[43mmask\u001b[49m\u001b[43m,\u001b[49m\u001b[43m \u001b[49m\u001b[38;5;241;43m*\u001b[39;49m\u001b[38;5;241;43m*\u001b[39;49m\u001b[43mkwargs\u001b[49m\u001b[43m)\u001b[49m\n\u001b[0;32m    406\u001b[0m \u001b[38;5;28;01mif\u001b[39;00m datetimelike:\n\u001b[0;32m    407\u001b[0m     result \u001b[38;5;241m=\u001b[39m _wrap_results(result, orig_values\u001b[38;5;241m.\u001b[39mdtype, fill_value\u001b[38;5;241m=\u001b[39miNaT)\n",
            "File \u001b[1;32m~\\AppData\\Local\\Packages\\PythonSoftwareFoundation.Python.3.11_qbz5n2kfra8p0\\LocalCache\\local-packages\\Python311\\site-packages\\pandas\\core\\nanops.py:477\u001b[0m, in \u001b[0;36mmaybe_operate_rowwise.<locals>.newfunc\u001b[1;34m(values, axis, **kwargs)\u001b[0m\n\u001b[0;32m    474\u001b[0m         results \u001b[38;5;241m=\u001b[39m [func(x, \u001b[38;5;241m*\u001b[39m\u001b[38;5;241m*\u001b[39mkwargs) \u001b[38;5;28;01mfor\u001b[39;00m x \u001b[38;5;129;01min\u001b[39;00m arrs]\n\u001b[0;32m    475\u001b[0m     \u001b[38;5;28;01mreturn\u001b[39;00m np\u001b[38;5;241m.\u001b[39marray(results)\n\u001b[1;32m--> 477\u001b[0m \u001b[38;5;28;01mreturn\u001b[39;00m \u001b[43mfunc\u001b[49m\u001b[43m(\u001b[49m\u001b[43mvalues\u001b[49m\u001b[43m,\u001b[49m\u001b[43m \u001b[49m\u001b[43maxis\u001b[49m\u001b[38;5;241;43m=\u001b[39;49m\u001b[43maxis\u001b[49m\u001b[43m,\u001b[49m\u001b[43m \u001b[49m\u001b[38;5;241;43m*\u001b[39;49m\u001b[38;5;241;43m*\u001b[39;49m\u001b[43mkwargs\u001b[49m\u001b[43m)\u001b[49m\n",
            "File \u001b[1;32m~\\AppData\\Local\\Packages\\PythonSoftwareFoundation.Python.3.11_qbz5n2kfra8p0\\LocalCache\\local-packages\\Python311\\site-packages\\pandas\\core\\nanops.py:646\u001b[0m, in \u001b[0;36mnansum\u001b[1;34m(values, axis, skipna, min_count, mask)\u001b[0m\n\u001b[0;32m    643\u001b[0m \u001b[38;5;28;01melif\u001b[39;00m dtype\u001b[38;5;241m.\u001b[39mkind \u001b[38;5;241m==\u001b[39m \u001b[38;5;124m\"\u001b[39m\u001b[38;5;124mm\u001b[39m\u001b[38;5;124m\"\u001b[39m:\n\u001b[0;32m    644\u001b[0m     dtype_sum \u001b[38;5;241m=\u001b[39m np\u001b[38;5;241m.\u001b[39mdtype(np\u001b[38;5;241m.\u001b[39mfloat64)\n\u001b[1;32m--> 646\u001b[0m the_sum \u001b[38;5;241m=\u001b[39m \u001b[43mvalues\u001b[49m\u001b[38;5;241;43m.\u001b[39;49m\u001b[43msum\u001b[49m\u001b[43m(\u001b[49m\u001b[43maxis\u001b[49m\u001b[43m,\u001b[49m\u001b[43m \u001b[49m\u001b[43mdtype\u001b[49m\u001b[38;5;241;43m=\u001b[39;49m\u001b[43mdtype_sum\u001b[49m\u001b[43m)\u001b[49m\n\u001b[0;32m    647\u001b[0m the_sum \u001b[38;5;241m=\u001b[39m _maybe_null_out(the_sum, axis, mask, values\u001b[38;5;241m.\u001b[39mshape, min_count\u001b[38;5;241m=\u001b[39mmin_count)\n\u001b[0;32m    649\u001b[0m \u001b[38;5;28;01mreturn\u001b[39;00m the_sum\n",
            "File \u001b[1;32m~\\AppData\\Local\\Packages\\PythonSoftwareFoundation.Python.3.11_qbz5n2kfra8p0\\LocalCache\\local-packages\\Python311\\site-packages\\numpy\\_core\\_methods.py:53\u001b[0m, in \u001b[0;36m_sum\u001b[1;34m(a, axis, dtype, out, keepdims, initial, where)\u001b[0m\n\u001b[0;32m     51\u001b[0m \u001b[38;5;28;01mdef\u001b[39;00m \u001b[38;5;21m_sum\u001b[39m(a, axis\u001b[38;5;241m=\u001b[39m\u001b[38;5;28;01mNone\u001b[39;00m, dtype\u001b[38;5;241m=\u001b[39m\u001b[38;5;28;01mNone\u001b[39;00m, out\u001b[38;5;241m=\u001b[39m\u001b[38;5;28;01mNone\u001b[39;00m, keepdims\u001b[38;5;241m=\u001b[39m\u001b[38;5;28;01mFalse\u001b[39;00m,\n\u001b[0;32m     52\u001b[0m          initial\u001b[38;5;241m=\u001b[39m_NoValue, where\u001b[38;5;241m=\u001b[39m\u001b[38;5;28;01mTrue\u001b[39;00m):\n\u001b[1;32m---> 53\u001b[0m     \u001b[38;5;28;01mreturn\u001b[39;00m umr_sum(a, axis, dtype, out, keepdims, initial, where)\n",
            "\u001b[1;31mTypeError\u001b[0m: unsupported operand type(s) for +: 'float' and 'str'"
          ]
        }
      ],
      "source": [
        "print(transactions['amount'].sum())"
      ]
    },
    {
      "cell_type": "markdown",
      "metadata": {
        "id": "A2XltBnZN6MO"
      },
      "source": [
        "Сумма не считается из-за наличия строковых значений в столбце **'amount'**.\n",
        "Собрать все строки да сделать их числами! Для этого есть стандартный метод Pandas — **to_numeric()**. Он превращает значения столбца в числовой тип **float64** (вещественное число).\n"
      ]
    },
    {
      "cell_type": "code",
      "execution_count": null,
      "metadata": {
        "id": "54D-YP4aN6MO",
        "outputId": "63620092-b298-43bd-9e27-b4cd0fc774ed"
      },
      "outputs": [
        {
          "ename": "ValueError",
          "evalue": "Unable to parse string \"Null\" at position 21",
          "output_type": "error",
          "traceback": [
            "\u001b[1;31m---------------------------------------------------------------------------\u001b[0m",
            "\u001b[1;31mValueError\u001b[0m                                Traceback (most recent call last)",
            "File \u001b[1;32mlib.pyx:2391\u001b[0m, in \u001b[0;36mpandas._libs.lib.maybe_convert_numeric\u001b[1;34m()\u001b[0m\n",
            "\u001b[1;31mValueError\u001b[0m: Unable to parse string \"Null\"",
            "\nDuring handling of the above exception, another exception occurred:\n",
            "\u001b[1;31mValueError\u001b[0m                                Traceback (most recent call last)",
            "Cell \u001b[1;32mIn[6], line 1\u001b[0m\n\u001b[1;32m----> 1\u001b[0m transactions[\u001b[38;5;124m'\u001b[39m\u001b[38;5;124mamount\u001b[39m\u001b[38;5;124m'\u001b[39m] \u001b[38;5;241m=\u001b[39m \u001b[43mpd\u001b[49m\u001b[38;5;241;43m.\u001b[39;49m\u001b[43mto_numeric\u001b[49m\u001b[43m(\u001b[49m\u001b[43mtransactions\u001b[49m\u001b[43m[\u001b[49m\u001b[38;5;124;43m'\u001b[39;49m\u001b[38;5;124;43mamount\u001b[39;49m\u001b[38;5;124;43m'\u001b[39;49m\u001b[43m]\u001b[49m\u001b[43m)\u001b[49m \n",
            "File \u001b[1;32m~\\AppData\\Local\\Packages\\PythonSoftwareFoundation.Python.3.11_qbz5n2kfra8p0\\LocalCache\\local-packages\\Python311\\site-packages\\pandas\\core\\tools\\numeric.py:232\u001b[0m, in \u001b[0;36mto_numeric\u001b[1;34m(arg, errors, downcast, dtype_backend)\u001b[0m\n\u001b[0;32m    230\u001b[0m coerce_numeric \u001b[38;5;241m=\u001b[39m errors \u001b[38;5;129;01mnot\u001b[39;00m \u001b[38;5;129;01min\u001b[39;00m (\u001b[38;5;124m\"\u001b[39m\u001b[38;5;124mignore\u001b[39m\u001b[38;5;124m\"\u001b[39m, \u001b[38;5;124m\"\u001b[39m\u001b[38;5;124mraise\u001b[39m\u001b[38;5;124m\"\u001b[39m)\n\u001b[0;32m    231\u001b[0m \u001b[38;5;28;01mtry\u001b[39;00m:\n\u001b[1;32m--> 232\u001b[0m     values, new_mask \u001b[38;5;241m=\u001b[39m \u001b[43mlib\u001b[49m\u001b[38;5;241;43m.\u001b[39;49m\u001b[43mmaybe_convert_numeric\u001b[49m\u001b[43m(\u001b[49m\u001b[43m  \u001b[49m\u001b[38;5;66;43;03m# type: ignore[call-overload]\u001b[39;49;00m\n\u001b[0;32m    233\u001b[0m \u001b[43m        \u001b[49m\u001b[43mvalues\u001b[49m\u001b[43m,\u001b[49m\n\u001b[0;32m    234\u001b[0m \u001b[43m        \u001b[49m\u001b[38;5;28;43mset\u001b[39;49m\u001b[43m(\u001b[49m\u001b[43m)\u001b[49m\u001b[43m,\u001b[49m\n\u001b[0;32m    235\u001b[0m \u001b[43m        \u001b[49m\u001b[43mcoerce_numeric\u001b[49m\u001b[38;5;241;43m=\u001b[39;49m\u001b[43mcoerce_numeric\u001b[49m\u001b[43m,\u001b[49m\n\u001b[0;32m    236\u001b[0m \u001b[43m        \u001b[49m\u001b[43mconvert_to_masked_nullable\u001b[49m\u001b[38;5;241;43m=\u001b[39;49m\u001b[43mdtype_backend\u001b[49m\u001b[43m \u001b[49m\u001b[38;5;129;43;01mis\u001b[39;49;00m\u001b[43m \u001b[49m\u001b[38;5;129;43;01mnot\u001b[39;49;00m\u001b[43m \u001b[49m\u001b[43mlib\u001b[49m\u001b[38;5;241;43m.\u001b[39;49m\u001b[43mno_default\u001b[49m\n\u001b[0;32m    237\u001b[0m \u001b[43m        \u001b[49m\u001b[38;5;129;43;01mor\u001b[39;49;00m\u001b[43m \u001b[49m\u001b[38;5;28;43misinstance\u001b[39;49m\u001b[43m(\u001b[49m\u001b[43mvalues_dtype\u001b[49m\u001b[43m,\u001b[49m\u001b[43m \u001b[49m\u001b[43mStringDtype\u001b[49m\u001b[43m)\u001b[49m\n\u001b[0;32m    238\u001b[0m \u001b[43m        \u001b[49m\u001b[38;5;129;43;01mand\u001b[39;49;00m\u001b[43m \u001b[49m\u001b[38;5;129;43;01mnot\u001b[39;49;00m\u001b[43m \u001b[49m\u001b[43mvalues_dtype\u001b[49m\u001b[38;5;241;43m.\u001b[39;49m\u001b[43mstorage\u001b[49m\u001b[43m \u001b[49m\u001b[38;5;241;43m==\u001b[39;49m\u001b[43m \u001b[49m\u001b[38;5;124;43m\"\u001b[39;49m\u001b[38;5;124;43mpyarrow_numpy\u001b[39;49m\u001b[38;5;124;43m\"\u001b[39;49m\u001b[43m,\u001b[49m\n\u001b[0;32m    239\u001b[0m \u001b[43m    \u001b[49m\u001b[43m)\u001b[49m\n\u001b[0;32m    240\u001b[0m \u001b[38;5;28;01mexcept\u001b[39;00m (\u001b[38;5;167;01mValueError\u001b[39;00m, \u001b[38;5;167;01mTypeError\u001b[39;00m):\n\u001b[0;32m    241\u001b[0m     \u001b[38;5;28;01mif\u001b[39;00m errors \u001b[38;5;241m==\u001b[39m \u001b[38;5;124m\"\u001b[39m\u001b[38;5;124mraise\u001b[39m\u001b[38;5;124m\"\u001b[39m:\n",
            "File \u001b[1;32mlib.pyx:2433\u001b[0m, in \u001b[0;36mpandas._libs.lib.maybe_convert_numeric\u001b[1;34m()\u001b[0m\n",
            "\u001b[1;31mValueError\u001b[0m: Unable to parse string \"Null\" at position 21"
          ]
        }
      ],
      "source": [
        "transactions['amount'] = pd.to_numeric(transactions['amount'])"
      ]
    },
    {
      "cell_type": "markdown",
      "metadata": {
        "id": "blnscrN6N6MP"
      },
      "source": [
        "\n",
        "У метода **to_numeric()** есть параметр **errors**. От значений, принимаемых **errors**, зависят действия **to_numeric** при встрече с некорректным значением:\n",
        "\n",
        "•\t**'errors='raise'** — дефолтное поведение: при встрече с некорректным значением выдаётся ошибка, операция перевода в числа прерывается;\n",
        "\n",
        "•\t**errors='coerce'** — некорректные значения принудительно заменяются на NaN;\n",
        "\n",
        "•\t**errors='ignore'** — некорректные значения игнорируются, но остаются.\n"
      ]
    },
    {
      "cell_type": "code",
      "execution_count": null,
      "metadata": {
        "id": "oa3o7j2ON6MP"
      },
      "outputs": [],
      "source": [
        "transactions['amount'] = pd.to_numeric(transactions['amount'], errors='coerce')"
      ]
    },
    {
      "cell_type": "markdown",
      "metadata": {
        "id": "DGVLxhMWN6MP"
      },
      "source": [
        "Методом **to_numeric()** мы не только превратим строки в числовой тип там, где это возможно, но и выясним, на каких значениях метод не работает.\n",
        "Особенность метода **to_numeric()** в том, что при переводе все числа будут иметь тип данных **float**. Это подходит далеко не всем значениям. Поэтому в нужный тип значения переводят методом **astype()**. Например, аргумент **('int')** метода **astype()** означает, что значение нужно перевести в целое число:\n",
        "\n",
        "\n"
      ]
    },
    {
      "cell_type": "markdown",
      "metadata": {
        "id": "R-_lZO4tN6MP"
      },
      "source": [
        "## Задача   \n",
        "1. Переведите значения столбца **'id'** (таблицы **ids**) из строк в числа методом **to_numeric()**.\n",
        "\n"
      ]
    },
    {
      "cell_type": "code",
      "execution_count": null,
      "metadata": {
        "id": "aKpBv_5ON6MP",
        "outputId": "e3756157-dee2-4025-b3e1-f0b0b5a3d184"
      },
      "outputs": [
        {
          "ename": "ValueError",
          "evalue": "Unable to parse string \"Null\" at position 48",
          "output_type": "error",
          "traceback": [
            "\u001b[1;31m---------------------------------------------------------------------------\u001b[0m",
            "\u001b[1;31mValueError\u001b[0m                                Traceback (most recent call last)",
            "File \u001b[1;32mlib.pyx:2391\u001b[0m, in \u001b[0;36mpandas._libs.lib.maybe_convert_numeric\u001b[1;34m()\u001b[0m\n",
            "\u001b[1;31mValueError\u001b[0m: Unable to parse string \"Null\"",
            "\nDuring handling of the above exception, another exception occurred:\n",
            "\u001b[1;31mValueError\u001b[0m                                Traceback (most recent call last)",
            "Cell \u001b[1;32mIn[8], line 4\u001b[0m\n\u001b[0;32m      1\u001b[0m ids \u001b[38;5;241m=\u001b[39m pd\u001b[38;5;241m.\u001b[39mread_excel(\u001b[38;5;124m'\u001b[39m\u001b[38;5;124mids.xlsx\u001b[39m\u001b[38;5;124m'\u001b[39m)\n\u001b[0;32m      3\u001b[0m \u001b[38;5;66;03m# Переводим значения столбца 'id' в числа\u001b[39;00m\n\u001b[1;32m----> 4\u001b[0m ids[\u001b[38;5;124m'\u001b[39m\u001b[38;5;124mid\u001b[39m\u001b[38;5;124m'\u001b[39m] \u001b[38;5;241m=\u001b[39m \u001b[43mpd\u001b[49m\u001b[38;5;241;43m.\u001b[39;49m\u001b[43mto_numeric\u001b[49m\u001b[43m(\u001b[49m\u001b[43mids\u001b[49m\u001b[43m[\u001b[49m\u001b[38;5;124;43m'\u001b[39;49m\u001b[38;5;124;43mid\u001b[39;49m\u001b[38;5;124;43m'\u001b[39;49m\u001b[43m]\u001b[49m\u001b[43m)\u001b[49m\n\u001b[0;32m      6\u001b[0m \u001b[38;5;66;03m# Выводим первые 5 строк таблицы для проверки\u001b[39;00m\n\u001b[0;32m      7\u001b[0m \u001b[38;5;28mprint\u001b[39m(ids\u001b[38;5;241m.\u001b[39mhead())\n",
            "File \u001b[1;32m~\\AppData\\Local\\Packages\\PythonSoftwareFoundation.Python.3.11_qbz5n2kfra8p0\\LocalCache\\local-packages\\Python311\\site-packages\\pandas\\core\\tools\\numeric.py:232\u001b[0m, in \u001b[0;36mto_numeric\u001b[1;34m(arg, errors, downcast, dtype_backend)\u001b[0m\n\u001b[0;32m    230\u001b[0m coerce_numeric \u001b[38;5;241m=\u001b[39m errors \u001b[38;5;129;01mnot\u001b[39;00m \u001b[38;5;129;01min\u001b[39;00m (\u001b[38;5;124m\"\u001b[39m\u001b[38;5;124mignore\u001b[39m\u001b[38;5;124m\"\u001b[39m, \u001b[38;5;124m\"\u001b[39m\u001b[38;5;124mraise\u001b[39m\u001b[38;5;124m\"\u001b[39m)\n\u001b[0;32m    231\u001b[0m \u001b[38;5;28;01mtry\u001b[39;00m:\n\u001b[1;32m--> 232\u001b[0m     values, new_mask \u001b[38;5;241m=\u001b[39m \u001b[43mlib\u001b[49m\u001b[38;5;241;43m.\u001b[39;49m\u001b[43mmaybe_convert_numeric\u001b[49m\u001b[43m(\u001b[49m\u001b[43m  \u001b[49m\u001b[38;5;66;43;03m# type: ignore[call-overload]\u001b[39;49;00m\n\u001b[0;32m    233\u001b[0m \u001b[43m        \u001b[49m\u001b[43mvalues\u001b[49m\u001b[43m,\u001b[49m\n\u001b[0;32m    234\u001b[0m \u001b[43m        \u001b[49m\u001b[38;5;28;43mset\u001b[39;49m\u001b[43m(\u001b[49m\u001b[43m)\u001b[49m\u001b[43m,\u001b[49m\n\u001b[0;32m    235\u001b[0m \u001b[43m        \u001b[49m\u001b[43mcoerce_numeric\u001b[49m\u001b[38;5;241;43m=\u001b[39;49m\u001b[43mcoerce_numeric\u001b[49m\u001b[43m,\u001b[49m\n\u001b[0;32m    236\u001b[0m \u001b[43m        \u001b[49m\u001b[43mconvert_to_masked_nullable\u001b[49m\u001b[38;5;241;43m=\u001b[39;49m\u001b[43mdtype_backend\u001b[49m\u001b[43m \u001b[49m\u001b[38;5;129;43;01mis\u001b[39;49;00m\u001b[43m \u001b[49m\u001b[38;5;129;43;01mnot\u001b[39;49;00m\u001b[43m \u001b[49m\u001b[43mlib\u001b[49m\u001b[38;5;241;43m.\u001b[39;49m\u001b[43mno_default\u001b[49m\n\u001b[0;32m    237\u001b[0m \u001b[43m        \u001b[49m\u001b[38;5;129;43;01mor\u001b[39;49;00m\u001b[43m \u001b[49m\u001b[38;5;28;43misinstance\u001b[39;49m\u001b[43m(\u001b[49m\u001b[43mvalues_dtype\u001b[49m\u001b[43m,\u001b[49m\u001b[43m \u001b[49m\u001b[43mStringDtype\u001b[49m\u001b[43m)\u001b[49m\n\u001b[0;32m    238\u001b[0m \u001b[43m        \u001b[49m\u001b[38;5;129;43;01mand\u001b[39;49;00m\u001b[43m \u001b[49m\u001b[38;5;129;43;01mnot\u001b[39;49;00m\u001b[43m \u001b[49m\u001b[43mvalues_dtype\u001b[49m\u001b[38;5;241;43m.\u001b[39;49m\u001b[43mstorage\u001b[49m\u001b[43m \u001b[49m\u001b[38;5;241;43m==\u001b[39;49m\u001b[43m \u001b[49m\u001b[38;5;124;43m\"\u001b[39;49m\u001b[38;5;124;43mpyarrow_numpy\u001b[39;49m\u001b[38;5;124;43m\"\u001b[39;49m\u001b[43m,\u001b[49m\n\u001b[0;32m    239\u001b[0m \u001b[43m    \u001b[49m\u001b[43m)\u001b[49m\n\u001b[0;32m    240\u001b[0m \u001b[38;5;28;01mexcept\u001b[39;00m (\u001b[38;5;167;01mValueError\u001b[39;00m, \u001b[38;5;167;01mTypeError\u001b[39;00m):\n\u001b[0;32m    241\u001b[0m     \u001b[38;5;28;01mif\u001b[39;00m errors \u001b[38;5;241m==\u001b[39m \u001b[38;5;124m\"\u001b[39m\u001b[38;5;124mraise\u001b[39m\u001b[38;5;124m\"\u001b[39m:\n",
            "File \u001b[1;32mlib.pyx:2433\u001b[0m, in \u001b[0;36mpandas._libs.lib.maybe_convert_numeric\u001b[1;34m()\u001b[0m\n",
            "\u001b[1;31mValueError\u001b[0m: Unable to parse string \"Null\" at position 48"
          ]
        }
      ],
      "source": [
        "\n",
        "ids = pd.read_excel('ids.xlsx')\n",
        "ids['id'] = pd.to_numeric(ids['id'])\n",
        "\n",
        "print(ids.head())\n"
      ]
    },
    {
      "cell_type": "markdown",
      "metadata": {
        "id": "n1x0M6RXN6MP"
      },
      "source": [
        "2. Попробуйте ещё раз перевести значения столбца **'id'** из строк в числа методом **to_numeric()**, но уже со значением **'coerce'** параметра **errors**. Это заменит вызывающий ошибку Null на NaN.\n",
        "Полученную таблицу выведите на экран методом **tail()**: так как ошибка возникает на последней строке, 5 значений с конца будет достаточно."
      ]
    },
    {
      "cell_type": "code",
      "execution_count": null,
      "metadata": {
        "id": "vDkuo0lBN6MP",
        "outputId": "bd32c663-6e13-4f26-fced-161857738221"
      },
      "outputs": [
        {
          "name": "stdout",
          "output_type": "stream",
          "text": [
            "              id category    amount\n",
            "44  6.007483e+11        A   8958.23\n",
            "45  6.007483e+11        C   12771.1\n",
            "46  6.007483e+11        E   9630.56\n",
            "47  6.007483e+11     Null      Null\n",
            "48           NaN        A  14327.22\n"
          ]
        }
      ],
      "source": [
        "\n",
        "ids = pd.read_excel('ids.xlsx')\n",
        "\n",
        "ids['id'] = pd.to_numeric(ids['id'], errors='coerce')\n",
        "print(ids.tail())\n"
      ]
    },
    {
      "cell_type": "markdown",
      "metadata": {
        "id": "PZD8A8N3N6MQ"
      },
      "source": [
        "3. Вызовите метод **info()** после преобразований ещё раз. Проверьте, повлияла ли работа **pd.to_numeric(transactions['id'], errors='coerce')** на тип значений в столбце **id**."
      ]
    },
    {
      "cell_type": "code",
      "execution_count": null,
      "metadata": {
        "id": "HYUeW8vRN6MQ",
        "outputId": "80e76f0c-fb29-4936-e0a5-9b23bee02c9e"
      },
      "outputs": [
        {
          "name": "stdout",
          "output_type": "stream",
          "text": [
            "<class 'pandas.core.frame.DataFrame'>\n",
            "RangeIndex: 49 entries, 0 to 48\n",
            "Data columns (total 3 columns):\n",
            " #   Column    Non-Null Count  Dtype  \n",
            "---  ------    --------------  -----  \n",
            " 0   id        48 non-null     float64\n",
            " 1   category  49 non-null     object \n",
            " 2   amount    49 non-null     object \n",
            "dtypes: float64(1), object(2)\n",
            "memory usage: 1.3+ KB\n"
          ]
        }
      ],
      "source": [
        "ids = pd.read_excel('ids.xlsx')\n",
        "ids['id'] = ids['id'].replace('Null', pd.NA)\n",
        "\n",
        "ids['id'] = pd.to_numeric(ids['id'], errors='coerce')\n",
        "ids.info()\n"
      ]
    },
    {
      "cell_type": "markdown",
      "metadata": {
        "id": "CLwGOo10N6MQ"
      },
      "source": [
        "4. Методом **to_numeric()** превратите значения столбца **amount** в числа, заменив некорректные значения на NaN. Проверьте результаты преобразований методом **info()**."
      ]
    },
    {
      "cell_type": "code",
      "execution_count": null,
      "metadata": {
        "id": "ZrBuMat8N6MQ",
        "outputId": "92a38ac3-41c5-4d29-eb2d-2d4c4bfacca2"
      },
      "outputs": [
        {
          "name": "stdout",
          "output_type": "stream",
          "text": [
            "<class 'pandas.core.frame.DataFrame'>\n",
            "RangeIndex: 49 entries, 0 to 48\n",
            "Data columns (total 3 columns):\n",
            " #   Column    Non-Null Count  Dtype  \n",
            "---  ------    --------------  -----  \n",
            " 0   id        49 non-null     object \n",
            " 1   category  49 non-null     object \n",
            " 2   amount    45 non-null     float64\n",
            "dtypes: float64(1), object(2)\n",
            "memory usage: 1.3+ KB\n"
          ]
        }
      ],
      "source": [
        "ids = pd.read_excel('ids.xlsx')\n",
        "ids['amount'] = pd.to_numeric(ids['amount'], errors='coerce')\n",
        "ids.info()\n"
      ]
    },
    {
      "cell_type": "markdown",
      "metadata": {
        "id": "dVQSD5GjN6MQ"
      },
      "source": [
        "5. Посчитайте общую стоимость проданных товаров — сумму значений столбца **amount** в датафрейме **transactions**. Результат выведите на экран."
      ]
    },
    {
      "cell_type": "code",
      "execution_count": null,
      "metadata": {
        "id": "apxsHELJN6MQ",
        "outputId": "9205224f-9aea-4a74-d0d6-807677f61c98"
      },
      "outputs": [
        {
          "name": "stdout",
          "output_type": "stream",
          "text": [
            "Общая стоимость проданных товаров: 596107.1\n"
          ]
        }
      ],
      "source": [
        "total_amount = transactions['amount'].sum()\n",
        "print(f'Общая стоимость проданных товаров: {total_amount}')\n"
      ]
    },
    {
      "cell_type": "markdown",
      "metadata": {
        "id": "3TzEkSzqN6MQ"
      },
      "source": [
        "6.\n",
        "Рассчитайте сумму продаж для каждой категории. Для этого сгруппируйте датафрейм **transactions** по столбцу **category** и примените метод **sum()** к столбцу **amount**. Выведите результат на экран."
      ]
    },
    {
      "cell_type": "code",
      "execution_count": null,
      "metadata": {
        "id": "S17Y2eQ4N6MQ",
        "outputId": "678cb248-c391-4425-b459-5a849538c79a"
      },
      "outputs": [
        {
          "name": "stdout",
          "output_type": "stream",
          "text": [
            "category\n",
            "A       133988.50\n",
            "B       168617.89\n",
            "C       173332.50\n",
            "D        62630.82\n",
            "E        57537.39\n",
            "Null         0.00\n",
            "Name: amount, dtype: float64\n"
          ]
        }
      ],
      "source": [
        "category_sales = transactions.groupby('category')['amount'].sum()\n",
        "print(category_sales)\n"
      ]
    },
    {
      "cell_type": "markdown",
      "metadata": {
        "id": "X9O42Gj8N6MR"
      },
      "source": [
        "7. Вернитесь к таблице с трафиком  (датасет data). При попытке сгруппировать датафрейм 'data' по источнику трафика и посчитать сумму визитов, вместо ожидаемого результата получили странное склеивание идентификаторов подкатегорий. Но теперь  вы сможете найти сумму визитов.\n",
        "\n",
        "Переведите значения столбца **visits** датафрейма data в числовой тип методом **to_numeric()**."
      ]
    },
    {
      "cell_type": "code",
      "execution_count": null,
      "metadata": {
        "id": "h6GTXTtVN6MR",
        "outputId": "9148538b-b536-40ae-930a-ac8e92141b4c"
      },
      "outputs": [
        {
          "name": "stdout",
          "output_type": "stream",
          "text": [
            "  subcategory_id  source         visits\n",
            "0     cf2e61c7af  direct  501165.668858\n",
            "1     0cd903d1cc  direct  126342.359505\n",
            "2     ef35bc88a7  direct   95626.321402\n",
            "3     6ff9f4014c  direct   75680.653002\n",
            "4     72bc238e4d  direct   64435.934651\n"
          ]
        }
      ],
      "source": [
        "data['visits'] = pd.to_numeric(data['visits'], errors='coerce')\n",
        "print(data.head())\n"
      ]
    },
    {
      "cell_type": "markdown",
      "metadata": {
        "id": "oGJLQATIN6MR"
      },
      "source": [
        "8. Узнайте, что не так со строкой 964. Вызовите знакомый из вводного курса метод **loc**.\n",
        "Он позволяет обращаться к датафрейму по значению индекса, в нашем случае как раз по номеру строки.\n"
      ]
    },
    {
      "cell_type": "code",
      "execution_count": null,
      "metadata": {
        "id": "1wwjW24KN6MR",
        "outputId": "6e892d0a-891d-4768-9913-958005d198ac"
      },
      "outputs": [
        {
          "name": "stdout",
          "output_type": "stream",
          "text": [
            "subcategory_id        total\n",
            "source               direct\n",
            "visits            \"2369468\"\n",
            "Name: 964, dtype: object\n"
          ]
        }
      ],
      "source": [
        "row_964 = data.loc[964]\n",
        "print(row_964)\n"
      ]
    },
    {
      "cell_type": "markdown",
      "metadata": {
        "id": "J11aYdoEN6MR"
      },
      "source": [
        "9. Вычислите, сколько всего строк в датафрейме и выведите на экран в формате:\n",
        "\n",
        "Количество строк: 1930\n",
        "\n",
        "Затем выведите на экран строки, которые имеют значение **'total'** в столбце **'subcategory_id'**. Изучите полученные результаты: сколько строк портят весь датасет?"
      ]
    },
    {
      "cell_type": "code",
      "execution_count": null,
      "metadata": {
        "id": "TOhO5ecDN6MR",
        "outputId": "bd508e14-3e53-4be6-9d01-342781124f53"
      },
      "outputs": [
        {
          "name": "stdout",
          "output_type": "stream",
          "text": [
            "Количество строк: 1930\n",
            "     subcategory_id   source     visits\n",
            "964           total   direct  \"2369468\"\n",
            "1929          total  organic  \"5687882\"\n"
          ]
        }
      ],
      "source": [
        "\n",
        "num_rows = data.shape[0]\n",
        "print(f'Количество строк: {num_rows}')\n",
        "\n",
        "total_rows = data[data['subcategory_id'] == 'total']\n",
        "print(total_rows)\n"
      ]
    },
    {
      "cell_type": "markdown",
      "metadata": {
        "id": "6p7AoyPFN6MS"
      },
      "source": [
        "10. Оставьте в датафрейме только строки, удовлетворяющие условию **data['subcategory_id'] != 'total'**. Проверьте результат: выведите на экран датафрейм с условием **data['subcategory_id'] == 'total'**."
      ]
    },
    {
      "cell_type": "code",
      "execution_count": null,
      "metadata": {
        "id": "xKhcH_gZN6MS",
        "outputId": "0e2ebda4-8b77-4687-d7de-9c80f6cd05d2"
      },
      "outputs": [
        {
          "name": "stdout",
          "output_type": "stream",
          "text": [
            "Empty DataFrame\n",
            "Columns: [subcategory_id, source, visits]\n",
            "Index: []\n"
          ]
        }
      ],
      "source": [
        "data = data[data['subcategory_id'] != 'total']\n",
        "\n",
        "# Проверяем, что строки с 'total' были удалены\n",
        "total_rows_after = data[data['subcategory_id'] == 'total']\n",
        "print(total_rows_after)\n"
      ]
    },
    {
      "cell_type": "markdown",
      "metadata": {
        "id": "SjUZjqWkN6MS"
      },
      "source": [
        "11. Измените тип данных в столбце **['visits']** на **integer**. Проверьте полученный результат, вызвав метод **info()**."
      ]
    },
    {
      "cell_type": "code",
      "execution_count": null,
      "metadata": {
        "id": "j6Si_tKpN6MS",
        "outputId": "372450f6-c417-462e-daa7-98d89933f021"
      },
      "outputs": [
        {
          "name": "stdout",
          "output_type": "stream",
          "text": [
            "<class 'pandas.core.frame.DataFrame'>\n",
            "Index: 1928 entries, 0 to 1928\n",
            "Data columns (total 3 columns):\n",
            " #   Column          Non-Null Count  Dtype  \n",
            "---  ------          --------------  -----  \n",
            " 0   subcategory_id  1928 non-null   object \n",
            " 1   source          1928 non-null   object \n",
            " 2   visits          1928 non-null   float64\n",
            "dtypes: float64(1), object(2)\n",
            "memory usage: 60.2+ KB\n"
          ]
        }
      ],
      "source": [
        "data['visits'] = pd.to_numeric(data['visits'], errors='coerce')\n",
        "\n",
        "data.info()\n"
      ]
    },
    {
      "cell_type": "code",
      "execution_count": null,
      "metadata": {
        "id": "rB89W0FvN6MS",
        "outputId": "e0665476-cf60-47b7-ab36-3019c30d8b9a"
      },
      "outputs": [
        {
          "name": "stdout",
          "output_type": "stream",
          "text": [
            "source\n",
            "direct     2.369468e+06\n",
            "organic    5.687882e+06\n",
            "Name: visits, dtype: float64\n"
          ]
        }
      ],
      "source": [
        "#Сгруппируйте данные по источникам и вычислите количество визитов для каждого источника. Выведите результат на экран.\n",
        "visits_by_source = data.groupby('source')['visits'].sum()\n",
        "\n",
        "print(visits_by_source)\n",
        "\n"
      ]
    },
    {
      "cell_type": "markdown",
      "metadata": {
        "id": "c7x1J4d0N6MS"
      },
      "source": [
        "# Метод merge()\n",
        "\n",
        "Вы получили первые выводы: на органический трафик приходится в два раза больше визитов пользователей. Однако исследование на этом не закончено — нужно изучить трафик для каждой категории товаров.\n",
        "\n",
        "Данные хранят в Excel-таблице из нескольких листов. Как смотреть на категории, подкатегории и трафик в одном месте? Идея — склеить таблицы!\n",
        "\n",
        "Объединим несколько таблиц в одну методом **merge()**.\n",
        "\n",
        "Метод **merge()** применяют к таблице, к которой присоединяют другую. У метода следующие аргументы:\n",
        "\n",
        "•\t**right** — имя **DataFrame** или **Series**, присоединяемого к исходной таблице (\"правая таблица\")\n",
        "\n",
        "•\t**on** — название общего списка в двух соединяемых таблицах: по нему происходит слияние (\"ключи\")\n",
        "\n",
        "•\t**how** — тип объединения (outer, inner, left, right)\n",
        "Объединим таблицы **data** и **subcategory_dict** со следующими условиями:\n",
        "\n",
        "•\t**data** — таблица, к которой будем присоединять другую таблицу\n",
        "\n",
        "•\t**subcategory_dict** — таблица, которую присоединяем к data\n",
        "\n",
        "•\t**'subcategory_id'** — общий столбец в двух таблицах, по нему будем объединять\n",
        "\n",
        "•\t**how='left'** — id таблицы **data** включены в итоговую таблицу **data_subcategory**\n"
      ]
    },
    {
      "cell_type": "code",
      "execution_count": null,
      "metadata": {
        "id": "Ma3S30x1N6MS",
        "outputId": "76eef64c-fa6e-4d3f-9e70-5d52f880214c"
      },
      "outputs": [
        {
          "name": "stdout",
          "output_type": "stream",
          "text": [
            "  subcategory_id  source         visits                subcategory_name  \\\n",
            "0     cf2e61c7af  direct  501165.668858              Мобильные телефоны   \n",
            "1     0cd903d1cc  direct  126342.359505                        Ноутбуки   \n",
            "2     ef35bc88a7  direct   95626.321402                      Телевизоры   \n",
            "3     6ff9f4014c  direct   75680.653002                        Планшеты   \n",
            "4     72bc238e4d  direct   64435.934651  Наушники и Bluetooth-гарнитуры   \n",
            "5     88c78ea685  direct   39638.202995                            Шины   \n",
            "6     179bfacf4a  direct   31007.471245           Умные часы и браслеты   \n",
            "7     b0fb8f259a  direct   30324.097324                        Мониторы   \n",
            "8     3c67eb2d90  direct   25878.814329                   Наручные часы   \n",
            "9     24e6c815c6  direct   25276.373358  Лекарственные препараты и БАДы   \n",
            "\n",
            "  category_id  \n",
            "0  09f279a643  \n",
            "1  3509869a61  \n",
            "2  09f279a643  \n",
            "3  3509869a61  \n",
            "4  09f279a643  \n",
            "5  65922fa39c  \n",
            "6  09f279a643  \n",
            "7  3509869a61  \n",
            "8  6074ad29ac  \n",
            "9  10a493e03b  \n",
            "9999999999999999999999999999999999999999\n",
            "  category_id               category_name\n",
            "0  09f279a643                 Электроника\n",
            "1  3509869a61        Компьютерная техника\n",
            "2  65922fa39c                        Авто\n",
            "3  6074ad29ac  Одежда, обувь и аксессуары\n",
            "4  10a493e03b         Товары для здоровья\n",
            "5  5a0d8ac946             Бытовая техника\n",
            "6  7dbac4c1a3              Детские товары\n",
            "7  ae99947659               Спорт и отдых\n",
            "8  655ccc3c49          Товары для красоты\n",
            "9  394f20d8fa      Строительство и ремонт\n"
          ]
        }
      ],
      "source": [
        "data_subcategory = data.merge(subcategory_dict, on='subcategory_id', how='left')\n",
        "print(data_subcategory.head(10))\n",
        "print('9999999999999999999999999999999999999999')\n",
        "print(category_dict.head(10))\n",
        "\n"
      ]
    },
    {
      "cell_type": "markdown",
      "metadata": {
        "id": "Te74Co-oN6MT"
      },
      "source": [
        "## Задача:\n",
        "1. Объедините таблицы **data_subcategory** и **category_dict**. Результат сохраните в переменной **data_final** и выведите на экран первые 10 строк новой таблицы."
      ]
    },
    {
      "cell_type": "code",
      "execution_count": null,
      "metadata": {
        "id": "2L5ZzX0GN6MT",
        "outputId": "6ac5f7e9-875b-4632-ae2f-c7b03016ad74"
      },
      "outputs": [
        {
          "name": "stdout",
          "output_type": "stream",
          "text": [
            "  subcategory_id  source         visits                subcategory_name  \\\n",
            "0     cf2e61c7af  direct  501165.668858              Мобильные телефоны   \n",
            "1     0cd903d1cc  direct  126342.359505                        Ноутбуки   \n",
            "2     ef35bc88a7  direct   95626.321402                      Телевизоры   \n",
            "3     6ff9f4014c  direct   75680.653002                        Планшеты   \n",
            "4     72bc238e4d  direct   64435.934651  Наушники и Bluetooth-гарнитуры   \n",
            "5     88c78ea685  direct   39638.202995                            Шины   \n",
            "6     179bfacf4a  direct   31007.471245           Умные часы и браслеты   \n",
            "7     b0fb8f259a  direct   30324.097324                        Мониторы   \n",
            "8     3c67eb2d90  direct   25878.814329                   Наручные часы   \n",
            "9     24e6c815c6  direct   25276.373358  Лекарственные препараты и БАДы   \n",
            "\n",
            "  category_id               category_name  \n",
            "0  09f279a643                 Электроника  \n",
            "1  3509869a61        Компьютерная техника  \n",
            "2  09f279a643                 Электроника  \n",
            "3  3509869a61        Компьютерная техника  \n",
            "4  09f279a643                 Электроника  \n",
            "5  65922fa39c                        Авто  \n",
            "6  09f279a643                 Электроника  \n",
            "7  3509869a61        Компьютерная техника  \n",
            "8  6074ad29ac  Одежда, обувь и аксессуары  \n",
            "9  10a493e03b         Товары для здоровья  \n"
          ]
        }
      ],
      "source": [
        "data_final = pd.merge(data_subcategory, category_dict, on='category_id', how='inner')\n",
        "\n",
        "print(data_final.head(10))\n"
      ]
    },
    {
      "cell_type": "markdown",
      "metadata": {
        "id": "_TR1fah3N6MT"
      },
      "source": [
        "# Сводные таблицы\n",
        "\n",
        "Сводная таблица — ваш помощник для обобщения данных и их наглядного представления.\n",
        "Перед вами таблица со статистикой продаж товаров в интернет-магазине. Известны название товара, дата продажи, количество, цена и стоимость доставки.\n",
        "\n",
        "\n",
        "По сводным таблицам можно точно сказать, сколько товара было продано в определённый день. Умение строить сводные таблицы позволяет быстро анализировать данные и сразу подготовить отчёты.\n",
        "\n",
        "Например, по данной сводной таблице можно легко ответить  на вопрос: «Сколько товара продал интернет-магазин 4 июня 2019 года?».\n",
        "\n"
      ]
    },
    {
      "cell_type": "markdown",
      "metadata": {
        "id": "rntqArRUN6MT"
      },
      "source": [
        "В Pandas для подготовки сводных таблиц вызывают метод **pivot_table()**.\n",
        "\n",
        "Аргументы метода:\n",
        "\n",
        "•\t**index** — столбец или столбцы, по которым группируют данные (название товара)\n",
        "\n",
        "•\t**columns** — столбец, по значениям которого происходит группировка (даты)\n",
        "\n",
        "•\t**values** — значения, по которым мы хотим увидеть сводную таблицу (количество проданного товара)\n",
        "\n",
        "•\t**aggfunc** — функция, применяемая к значениям (сумма товаров)\n",
        "\n",
        "Построим сводную таблицу для задачи по SEO-оптимизации.\n",
        "Сделаем по таблице **data_final** из предыдущего задания сводную таблицу методом **pivot_table()**:\n",
        "\n",
        "**data_pivot = data_final.pivot_table(index=['category_name', 'subcategory_name'], columns='source',\n",
        "                                    values='visits', aggfunc='sum')**\n"
      ]
    },
    {
      "cell_type": "code",
      "execution_count": null,
      "metadata": {
        "id": "BHevODZFN6MT"
      },
      "outputs": [],
      "source": [
        "data_pivot = data_final.pivot_table(index=['category_name', 'subcategory_name'], columns='source',\n",
        "                                    values='visits', aggfunc='sum')\n"
      ]
    },
    {
      "cell_type": "markdown",
      "metadata": {
        "id": "wrpJVvRAN6MT"
      },
      "source": [
        "Теперь вы видите название категории и её подкатегории со значениями объёма трафика по каждой.\n",
        "\n",
        "Как видно, основная категория включает в себя подкатегорию и это представлено в структуре датафрейма: категория отображена иерархически главной над подкатегорией. Такие датафреймы содержат в себе мультииндекс. Часто при работе с такими датафреймами мультииндекс убирают, чтобы категория была отображена на каждой строчке датафрейма:\n",
        "\n",
        "**data_pivot_with_reset_index = data_pivot.reset_index()\n",
        "print(data_pivot_with_reset_index.head(10)) **\n",
        "\n"
      ]
    },
    {
      "cell_type": "code",
      "execution_count": null,
      "metadata": {
        "id": "Iu6md2aJN6MT",
        "outputId": "2040fc45-d870-411d-f649-5d5d4bd63c19"
      },
      "outputs": [
        {
          "name": "stdout",
          "output_type": "stream",
          "text": [
            "source category_name            subcategory_name       direct       organic\n",
            "0               Авто                Автоакустика  5915.606541  15433.405558\n",
            "1               Авто               Автомагнитолы  7783.806626  18690.016622\n",
            "2               Авто     Автомобильные инверторы   145.925199    150.592871\n",
            "3               Авто   Автомобильные компрессоры   407.264303    790.164679\n",
            "4               Авто    Автомобильные телевизоры   975.978827   2246.595618\n",
            "5               Авто  Автомобильные холодильники   204.631014    285.110834\n",
            "6               Авто            Автосигнализации   494.025691   1026.092391\n",
            "7               Авто      Аккумуляторные батареи  1175.227510   2657.217881\n",
            "8               Авто                   Антифризы   736.588757   1568.277621\n",
            "9               Авто         Багажники, рейлинги   342.372257    664.308906\n"
          ]
        }
      ],
      "source": [
        "data_pivot_with_reset_index = data_pivot.reset_index()\n",
        "print(data_pivot_with_reset_index.head(10))"
      ]
    },
    {
      "cell_type": "markdown",
      "metadata": {
        "id": "HJMkah3BN6MT"
      },
      "source": [
        "В таблице выше суммы визитов **visits** по каждому из источников **source (direct и organic)** представлены в отдельных столбцах. Такой вид таблицы называется «широкий». Он удобен, когда нужно сравнить значения столбцов. Хорошо заметно, например, что в подкатегории «Автомобильные инверторы» количество визитов из источников **direct** и **organic** практически одинаково, а в подкатегории «Автомагнитолы» из источника **organic** пришло почти в два раза больше посетителей, чем из **direct**.\n",
        "\n",
        "Для группировки данных также подходит изученная вами ранее комбинация методов **groupby()** и **agg()** , но с ними таблица будет выглядеть иначе.\n",
        "\n",
        "Метод **groupby()** принимает один аргумент — столбец (или список столбцов), по которым группируют данные. В метод **agg()** передают словарь. Его ключ — это названия столбцов, а значение — функции, которые будут к этим столбцам применены (например, **sum или count**). Такие функции называются агрегирующие.\n",
        "Решим ту же задачу по SEO-оптимизации методами **groupby() и agg()**:\n",
        "\n",
        "\n",
        "**data_grouped = data_final.groupby(['category_name','subcategory_name','source']).agg({'visits':'sum'})**\n",
        "\n",
        "**print(data_grouped.head(10))**\n"
      ]
    },
    {
      "cell_type": "code",
      "execution_count": null,
      "metadata": {
        "id": "S5SAvq3rN6MU",
        "outputId": "700ed6d1-e4c0-450d-82da-9d8ffe8571da"
      },
      "outputs": [
        {
          "name": "stdout",
          "output_type": "stream",
          "text": [
            "                                                       visits\n",
            "category_name subcategory_name          source               \n",
            "Авто          Автоакустика              direct    5915.606541\n",
            "                                        organic  15433.405558\n",
            "              Автомагнитолы             direct    7783.806626\n",
            "                                        organic  18690.016622\n",
            "              Автомобильные инверторы   direct     145.925199\n",
            "                                        organic    150.592871\n",
            "              Автомобильные компрессоры direct     407.264303\n",
            "                                        organic    790.164679\n",
            "              Автомобильные телевизоры  direct     975.978827\n",
            "                                        organic   2246.595618\n"
          ]
        }
      ],
      "source": [
        "data_grouped = data_final.groupby(['category_name','subcategory_name','source']).agg({'visits':'sum'})\n",
        "print(data_grouped.head(10))"
      ]
    },
    {
      "cell_type": "markdown",
      "metadata": {
        "id": "qil7-QXzN6MU"
      },
      "source": [
        "Сгруппировав данные методами **groupby()** и **agg()** вместо **pivot_table()**, мы получили точно такие же данные, но в несколько другом виде. Он называется «длинный». Методы **groupby()** и **agg()** удобны, когда нужно применить функцию к столбцу со сгруппированными визитами **visits** или создать новый столбец на его основе:\n",
        "\n",
        "**data_grouped['daily_visits'] = data_grouped['visits'] / 30\n",
        "print(data_grouped.head(10))**\n"
      ]
    },
    {
      "cell_type": "code",
      "execution_count": null,
      "metadata": {
        "id": "3UMy2uuhN6MU",
        "outputId": "f691f27c-02fe-4173-fd89-6471406b55f8"
      },
      "outputs": [
        {
          "name": "stdout",
          "output_type": "stream",
          "text": [
            "                                                       visits  daily_visits\n",
            "category_name subcategory_name          source                             \n",
            "Авто          Автоакустика              direct    5915.606541    197.186885\n",
            "                                        organic  15433.405558    514.446852\n",
            "              Автомагнитолы             direct    7783.806626    259.460221\n",
            "                                        organic  18690.016622    623.000554\n",
            "              Автомобильные инверторы   direct     145.925199      4.864173\n",
            "                                        organic    150.592871      5.019762\n",
            "              Автомобильные компрессоры direct     407.264303     13.575477\n",
            "                                        organic    790.164679     26.338823\n",
            "              Автомобильные телевизоры  direct     975.978827     32.532628\n",
            "                                        organic   2246.595618     74.886521\n"
          ]
        }
      ],
      "source": [
        "data_grouped['daily_visits'] = data_grouped['visits'] / 30\n",
        "print(data_grouped.head(10))"
      ]
    },
    {
      "cell_type": "markdown",
      "metadata": {
        "id": "Dj73mRB9N6MU"
      },
      "source": [
        "## Задачи:\n",
        "\n",
        "1. Самостоятельно создайте сводную таблицу для набора **data_final**. Результат сохраните в переменной **data_pivot** и выведите первых 10 значений на экран.\n",
        "\n",
        "2. Создайте в таблице **data_pivot** новый столбец **'ratio'** и сохраните в нём значение отношения органического трафика **'organic'** к прямому **'direct'**. Выведите первые 10 строк таблицы на экран.\n",
        "\n",
        "3. Отсортируйте таблицу по столбцу **'ratio'** в порядке убывания. Выведите первые 10 строк. Отсортированную таблицу сохранять не нужно.\n",
        "\n",
        "4. Отсортируйте таблицу по столбцу **'ratio'** в порядке убывания и выведите последние 10 записей, где прямой трафик больше 1000. Выражение напишите в скобках функции **print()**, чтобы результат напечатался на экран.\n",
        "\n"
      ]
    },
    {
      "cell_type": "code",
      "execution_count": null,
      "metadata": {
        "id": "GIBACLF9N6MU",
        "outputId": "673fc9a3-0bbd-49af-fb73-74003da69c11"
      },
      "outputs": [
        {
          "name": "stdout",
          "output_type": "stream",
          "text": [
            "source                     direct       organic\n",
            "subcategory_name                               \n",
            "3D принтеры            583.657095   1211.044455\n",
            "BB, CC и DD кремы      712.384188   1527.547995\n",
            "CD-проигрыватели       570.642407   1155.224235\n",
            "DVD и Blu-ray плееры  1158.078388   2588.715872\n",
            "GPS-навигаторы        2103.835953   4638.071650\n",
            "GPS-трекеры            172.662794    208.374232\n",
            "TV-тюнеры             6275.058046  17427.655189\n",
            "USB Flash drive       3186.670596   7503.680263\n",
            "USB-концентраторы      357.723438    711.790537\n",
            "VoIP-оборудование      984.623816   2261.664266\n",
            "source                     direct       organic     ratio\n",
            "subcategory_name                                         \n",
            "3D принтеры            583.657095   1211.044455  2.074925\n",
            "BB, CC и DD кремы      712.384188   1527.547995  2.144276\n",
            "CD-проигрыватели       570.642407   1155.224235  2.024428\n",
            "DVD и Blu-ray плееры  1158.078388   2588.715872  2.235355\n",
            "GPS-навигаторы        2103.835953   4638.071650  2.204579\n",
            "GPS-трекеры            172.662794    208.374232  1.206828\n",
            "TV-тюнеры             6275.058046  17427.655189  2.777290\n",
            "USB Flash drive       3186.670596   7503.680263  2.354708\n",
            "USB-концентраторы      357.723438    711.790537  1.989779\n",
            "VoIP-оборудование      984.623816   2261.664266  2.296983\n",
            "source                                    direct        organic     ratio\n",
            "subcategory_name                                                         \n",
            "Шины                                39638.202995  153859.454228  3.881595\n",
            "Стиральные машины                   22064.436847   64570.606526  2.926456\n",
            "Велосипеды                          16009.579071   46087.870786  2.878768\n",
            "Коляски                             18079.643217   52005.251013  2.876453\n",
            "Сварочные аппараты                   6175.438323   17325.802396  2.805599\n",
            "Компьютерные кресла                  6208.431964   17407.057106  2.803777\n",
            "Клавиатуры                           6224.687670   17417.357430  2.798109\n",
            "Универсальные внешние аккумуляторы   6146.908292   17115.415868  2.784394\n",
            "TV-тюнеры                            6275.058046   17427.655189  2.777290\n",
            "Холодильники                        20920.733424   57985.930965  2.771697\n",
            "source                           direct      organic     ratio\n",
            "subcategory_name                                              \n",
            "Дисковые пилы               2040.251241  4255.639872  2.085841\n",
            "Воздушные компрессоры       1690.492249  3520.404831  2.082473\n",
            "Бандажи и ортезы            1659.195233  3453.165773  2.081229\n",
            "Защитные пленки и стекла    1560.395673  3246.629811  2.080645\n",
            "Нивелиры и лазерные уровни  1651.947395  3436.972506  2.080558\n",
            "Микрофоны                   1066.839588  2204.147850  2.066054\n",
            "Туфли                       1036.253838  2097.368209  2.023991\n",
            "Ботинки                     3335.911677  6688.275820  2.004932\n",
            "Сапоги                      1009.586105  2021.903456  2.002705\n",
            "Комплекты                   1067.273770  2119.723731  1.986111\n"
          ]
        }
      ],
      "source": [
        "# Создаём сводную таблицу\n",
        "data_pivot = data_final.pivot_table(\n",
        "    index='subcategory_name',\n",
        "    columns='source',\n",
        "    values='visits',\n",
        "    aggfunc='sum'\n",
        ")\n",
        "print(data_pivot.head(10))\n",
        "data_pivot['ratio'] = data_pivot['organic'] / data_pivot['direct']\n",
        "print(data_pivot.head(10))\n",
        "\n",
        "sorted_pivot = data_pivot.sort_values(by='ratio', ascending=False)\n",
        "print(sorted_pivot.head(10))\n",
        "\n",
        "filtered_sorted = sorted_pivot[sorted_pivot['direct'] > 1000]\n",
        "print(filtered_sorted.tail(10))\n",
        "\n",
        "\n",
        "\n"
      ]
    }
  ],
  "metadata": {
    "kernelspec": {
      "display_name": "Python 3",
      "language": "python",
      "name": "python3"
    },
    "language_info": {
      "codemirror_mode": {
        "name": "ipython",
        "version": 3
      },
      "file_extension": ".py",
      "mimetype": "text/x-python",
      "name": "python",
      "nbconvert_exporter": "python",
      "pygments_lexer": "ipython3",
      "version": "3.11.9"
    },
    "colab": {
      "provenance": [],
      "include_colab_link": true
    }
  },
  "nbformat": 4,
  "nbformat_minor": 0
}