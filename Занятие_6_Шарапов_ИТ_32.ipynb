{
  "cells": [
    {
      "cell_type": "markdown",
      "metadata": {
        "id": "view-in-github",
        "colab_type": "text"
      },
      "source": [
        "<a href=\"https://colab.research.google.com/github/sonicuu/sharapov_it-32_data_analysis/blob/main/%D0%97%D0%B0%D0%BD%D1%8F%D1%82%D0%B8%D0%B5_6_%D0%A8%D0%B0%D1%80%D0%B0%D0%BF%D0%BE%D0%B2_%D0%98%D0%A2_32.ipynb\" target=\"_parent\"><img src=\"https://colab.research.google.com/assets/colab-badge.svg\" alt=\"Open In Colab\"/></a>"
      ]
    },
    {
      "cell_type": "markdown",
      "metadata": {
        "id": "93W3ww4sQs5I"
      },
      "source": [
        "# Сводная таблица pivot_table\n",
        "\n",
        "Сводная таблица - это мощный инструмент для обобщения и представления данных.\n",
        "\n",
        "В Pandas для подготовки сводных таблиц вызывают метод **pivot_table()**.\n",
        "\n",
        "Аргументы метода:\n",
        "\n",
        "• index — ключи для группировки по индексу (строке)\n",
        "\n",
        "• columns — ключи для группировки столбцов\n",
        "\n",
        "• values — значения, по которым мы хотим увидеть сводную таблицу (столбцы для агрегирования)\n",
        "\n",
        "• aggfunc — функция, применяемая к значениям (т.е. что делать с повторяющимися значениями)\n",
        "\n",
        "\n"
      ]
    },
    {
      "cell_type": "markdown",
      "metadata": {
        "id": "HPOc9BIxQs5J"
      },
      "source": [
        "Построим сводную таблицу для задачи по SEO-оптимизации.\n",
        "Для начала загрузите дата-сет data_final.csv, полученный в результате выполнения предыдущей задачи (объединения таблиц), сохраните ешл в переменной df."
      ]
    },
    {
      "cell_type": "code",
      "execution_count": null,
      "metadata": {
        "id": "oDfvXU8sQs5K",
        "outputId": "f2bc57f2-e0f1-499e-ce85-c96dbc3db74c"
      },
      "outputs": [
        {
          "name": "stdout",
          "output_type": "stream",
          "text": [
            "  subcategory_id  source  visits                subcategory_name category_id  \\\n",
            "0     cf2e61c7af  direct  501165              Мобильные телефоны  09f279a643   \n",
            "1     0cd903d1cc  direct  126342                        Ноутбуки  3509869a61   \n",
            "2     ef35bc88a7  direct   95626                      Телевизоры  09f279a643   \n",
            "3     6ff9f4014c  direct   75680                        Планшеты  3509869a61   \n",
            "4     72bc238e4d  direct   64435  Наушники и Bluetooth-гарнитуры  09f279a643   \n",
            "\n",
            "          category_name  \n",
            "0           Электроника  \n",
            "1  Компьютерная техника  \n",
            "2           Электроника  \n",
            "3  Компьютерная техника  \n",
            "4           Электроника  \n"
          ]
        }
      ],
      "source": [
        "import pandas as pd\n",
        "df = pd.read_csv('data_final.csv')\n",
        "\n",
        "print(df.head())\n"
      ]
    },
    {
      "cell_type": "markdown",
      "metadata": {
        "id": "5IxiWpRlQs5L"
      },
      "source": [
        "## Поворот данных\n",
        "\n",
        "Создавать сводную таблицу **(pivot_table)** лучше всего последовательно. Добавляйте элементы по одному и проверяйте каждый шаг, чтобы убедиться, что вы получаете ожидаемые результаты. Самая простая сводная таблица должна иметь **DataFrame** и индекс **(index)**.\n",
        "\n",
        "В этом примере давайте использовать **category_name** в качестве индекса:\n",
        "\n",
        "**pd.pivot_table(df, index=[\"category_name\"])**"
      ]
    },
    {
      "cell_type": "code",
      "execution_count": null,
      "metadata": {
        "id": "_TBELhWaQs5L"
      },
      "outputs": [],
      "source": [
        "pivot = pd.pivot_table(\n",
        "    df,\n",
        "    index=[\"category_name\"],\n",
        "    values=[\"visits\"],\n",
        "    aggfunc=[\"mean\"]\n",
        ")\n",
        "\n"
      ]
    },
    {
      "cell_type": "markdown",
      "metadata": {
        "id": "OtJmUozLQs5L"
      },
      "source": [
        "У вас может быть несколько индексов. Фактически, большинство аргументов **pivot_table** могут принимать несколько значений в качестве элементов списка. Добавьте в список индексов переменную **subcategory_name**."
      ]
    },
    {
      "cell_type": "code",
      "execution_count": null,
      "metadata": {
        "id": "8at62CNVQs5L",
        "outputId": "b0a4d55c-5477-42df-a482-23e6c3549d6f"
      },
      "outputs": [
        {
          "ename": "TypeError",
          "evalue": "pivot_table() got an unexpected keyword argument 'numeric_only'",
          "output_type": "error",
          "traceback": [
            "\u001b[1;31m---------------------------------------------------------------------------\u001b[0m",
            "\u001b[1;31mTypeError\u001b[0m                                 Traceback (most recent call last)",
            "Cell \u001b[1;32mIn[14], line 2\u001b[0m\n\u001b[0;32m      1\u001b[0m \u001b[38;5;66;03m# Youre code is here\u001b[39;00m\n\u001b[1;32m----> 2\u001b[0m pivot \u001b[38;5;241m=\u001b[39m \u001b[43mpd\u001b[49m\u001b[38;5;241;43m.\u001b[39;49m\u001b[43mpivot_table\u001b[49m\u001b[43m(\u001b[49m\n\u001b[0;32m      3\u001b[0m \u001b[43m    \u001b[49m\u001b[43mdf\u001b[49m\u001b[43m,\u001b[49m\u001b[43m \u001b[49m\n\u001b[0;32m      4\u001b[0m \u001b[43m    \u001b[49m\u001b[43mindex\u001b[49m\u001b[38;5;241;43m=\u001b[39;49m\u001b[43m[\u001b[49m\u001b[38;5;124;43m\"\u001b[39;49m\u001b[38;5;124;43mcategory_name\u001b[39;49m\u001b[38;5;124;43m\"\u001b[39;49m\u001b[43m,\u001b[49m\u001b[43m \u001b[49m\u001b[38;5;124;43m\"\u001b[39;49m\u001b[38;5;124;43msubcategory_name\u001b[39;49m\u001b[38;5;124;43m\"\u001b[39;49m\u001b[43m]\u001b[49m\u001b[43m,\u001b[49m\n\u001b[0;32m      5\u001b[0m \u001b[43m    \u001b[49m\u001b[43mvalues\u001b[49m\u001b[38;5;241;43m=\u001b[39;49m\u001b[43m[\u001b[49m\u001b[38;5;124;43m\"\u001b[39;49m\u001b[38;5;124;43mvisits\u001b[39;49m\u001b[38;5;124;43m\"\u001b[39;49m\u001b[43m]\u001b[49m\u001b[43m,\u001b[49m\u001b[43m \u001b[49m\n\u001b[0;32m      6\u001b[0m \u001b[43m    \u001b[49m\u001b[43maggfunc\u001b[49m\u001b[38;5;241;43m=\u001b[39;49m\u001b[43m[\u001b[49m\u001b[38;5;124;43m\"\u001b[39;49m\u001b[38;5;124;43mmean\u001b[39;49m\u001b[38;5;124;43m\"\u001b[39;49m\u001b[43m]\u001b[49m\u001b[43m,\u001b[49m\n\u001b[0;32m      7\u001b[0m \u001b[43m    \u001b[49m\u001b[43mnumeric_only\u001b[49m\u001b[38;5;241;43m=\u001b[39;49m\u001b[38;5;28;43;01mTrue\u001b[39;49;00m\u001b[43m  \u001b[49m\n\u001b[0;32m      8\u001b[0m \u001b[43m)\u001b[49m\n",
            "\u001b[1;31mTypeError\u001b[0m: pivot_table() got an unexpected keyword argument 'numeric_only'"
          ]
        }
      ],
      "source": [
        "# Youre code is here\n",
        "pivot = pd.pivot_table(\n",
        "    df,\n",
        "    index=[\"category_name\", \"subcategory_name\"],\n",
        "    values=[\"visits\"],\n",
        "    aggfunc=[\"mean\"],\n",
        ")\n",
        "\n"
      ]
    },
    {
      "cell_type": "markdown",
      "metadata": {
        "id": "Gw4eYfR0Qs5L"
      },
      "source": [
        "Вы могли заметить, что сводная таблица достаточно умна, чтобы начать агрегирование данных и их обобщение, группируя категории товаров (**category_name**) с их подкатегориями (**subcategory_name**). Теперь мы начинаем понимать, что может сделать для нас сводная таблица.\n",
        "\n",
        "Поскольку в данном случае столбец с количественной переменной только один (**visits**), он автоматически определился в качестве значения параметра **values**. Однако, можно явно определить столбцы, которые нам нужны, с помощью этого параметра **values**:\n",
        "\n",
        "**pd.pivot_table(df, index=['category_name', 'subcategory_name'], values=[\"visits\"])**"
      ]
    },
    {
      "cell_type": "code",
      "execution_count": null,
      "metadata": {
        "id": "8By1C8iyQs5M",
        "outputId": "8ebb1dd2-0766-4c50-a786-d376a7efd0b6"
      },
      "outputs": [
        {
          "data": {
            "text/html": [
              "<div>\n",
              "<style scoped>\n",
              "    .dataframe tbody tr th:only-of-type {\n",
              "        vertical-align: middle;\n",
              "    }\n",
              "\n",
              "    .dataframe tbody tr th {\n",
              "        vertical-align: top;\n",
              "    }\n",
              "\n",
              "    .dataframe thead th {\n",
              "        text-align: right;\n",
              "    }\n",
              "</style>\n",
              "<table border=\"1\" class=\"dataframe\">\n",
              "  <thead>\n",
              "    <tr style=\"text-align: right;\">\n",
              "      <th></th>\n",
              "      <th></th>\n",
              "      <th>visits</th>\n",
              "    </tr>\n",
              "    <tr>\n",
              "      <th>category_name</th>\n",
              "      <th>subcategory_name</th>\n",
              "      <th></th>\n",
              "    </tr>\n",
              "  </thead>\n",
              "  <tbody>\n",
              "    <tr>\n",
              "      <th rowspan=\"5\" valign=\"top\">Авто</th>\n",
              "      <th>Автоакустика</th>\n",
              "      <td>10674.0</td>\n",
              "    </tr>\n",
              "    <tr>\n",
              "      <th>Автомагнитолы</th>\n",
              "      <td>13236.5</td>\n",
              "    </tr>\n",
              "    <tr>\n",
              "      <th>Автомобильные инверторы</th>\n",
              "      <td>147.5</td>\n",
              "    </tr>\n",
              "    <tr>\n",
              "      <th>Автомобильные компрессоры</th>\n",
              "      <td>598.5</td>\n",
              "    </tr>\n",
              "    <tr>\n",
              "      <th>Автомобильные телевизоры</th>\n",
              "      <td>1610.5</td>\n",
              "    </tr>\n",
              "    <tr>\n",
              "      <th>...</th>\n",
              "      <th>...</th>\n",
              "      <td>...</td>\n",
              "    </tr>\n",
              "    <tr>\n",
              "      <th rowspan=\"5\" valign=\"top\">Электроника</th>\n",
              "      <th>Чехлы</th>\n",
              "      <td>8170.0</td>\n",
              "    </tr>\n",
              "    <tr>\n",
              "      <th>Чехлы-аккумуляторы</th>\n",
              "      <td>275.0</td>\n",
              "    </tr>\n",
              "    <tr>\n",
              "      <th>Штативы и моноподы</th>\n",
              "      <td>1846.0</td>\n",
              "    </tr>\n",
              "    <tr>\n",
              "      <th>Экшн-камеры</th>\n",
              "      <td>8566.5</td>\n",
              "    </tr>\n",
              "    <tr>\n",
              "      <th>Электронные книги</th>\n",
              "      <td>7939.5</td>\n",
              "    </tr>\n",
              "  </tbody>\n",
              "</table>\n",
              "<p>934 rows × 1 columns</p>\n",
              "</div>"
            ],
            "text/plain": [
              "                                          visits\n",
              "category_name subcategory_name                  \n",
              "Авто          Автоакустика               10674.0\n",
              "              Автомагнитолы              13236.5\n",
              "              Автомобильные инверторы      147.5\n",
              "              Автомобильные компрессоры    598.5\n",
              "              Автомобильные телевизоры    1610.5\n",
              "...                                          ...\n",
              "Электроника   Чехлы                       8170.0\n",
              "              Чехлы-аккумуляторы           275.0\n",
              "              Штативы и моноподы          1846.0\n",
              "              Экшн-камеры                 8566.5\n",
              "              Электронные книги           7939.5\n",
              "\n",
              "[934 rows x 1 columns]"
            ]
          },
          "execution_count": 11,
          "metadata": {},
          "output_type": "execute_result"
        }
      ],
      "source": [
        "pd.pivot_table(df, index=['category_name', 'subcategory_name'], values=[\"visits\"])\n"
      ]
    },
    {
      "cell_type": "markdown",
      "metadata": {
        "id": "udJCA7OTQs5M"
      },
      "source": [
        "Столбец цен (**visits**) по умолчанию усредняет данные, но мы можем произвести подсчет количества или суммы. Добавить их можно с помощью параметра **aggfunc**:\n",
        "\n",
        "**pd.pivot_table(df, index=['category_name', 'subcategory_name'], values=[\"visits\"], aggfunc='sum')**"
      ]
    },
    {
      "cell_type": "code",
      "execution_count": null,
      "metadata": {
        "id": "2a4QrO_rQs5M",
        "outputId": "89954098-e0fe-4059-e02c-9288711f8308"
      },
      "outputs": [
        {
          "data": {
            "text/html": [
              "<div>\n",
              "<style scoped>\n",
              "    .dataframe tbody tr th:only-of-type {\n",
              "        vertical-align: middle;\n",
              "    }\n",
              "\n",
              "    .dataframe tbody tr th {\n",
              "        vertical-align: top;\n",
              "    }\n",
              "\n",
              "    .dataframe thead th {\n",
              "        text-align: right;\n",
              "    }\n",
              "</style>\n",
              "<table border=\"1\" class=\"dataframe\">\n",
              "  <thead>\n",
              "    <tr style=\"text-align: right;\">\n",
              "      <th></th>\n",
              "      <th></th>\n",
              "      <th>visits</th>\n",
              "    </tr>\n",
              "    <tr>\n",
              "      <th>category_name</th>\n",
              "      <th>subcategory_name</th>\n",
              "      <th></th>\n",
              "    </tr>\n",
              "  </thead>\n",
              "  <tbody>\n",
              "    <tr>\n",
              "      <th rowspan=\"5\" valign=\"top\">Авто</th>\n",
              "      <th>Автоакустика</th>\n",
              "      <td>21348</td>\n",
              "    </tr>\n",
              "    <tr>\n",
              "      <th>Автомагнитолы</th>\n",
              "      <td>26473</td>\n",
              "    </tr>\n",
              "    <tr>\n",
              "      <th>Автомобильные инверторы</th>\n",
              "      <td>295</td>\n",
              "    </tr>\n",
              "    <tr>\n",
              "      <th>Автомобильные компрессоры</th>\n",
              "      <td>1197</td>\n",
              "    </tr>\n",
              "    <tr>\n",
              "      <th>Автомобильные телевизоры</th>\n",
              "      <td>3221</td>\n",
              "    </tr>\n",
              "    <tr>\n",
              "      <th>...</th>\n",
              "      <th>...</th>\n",
              "      <td>...</td>\n",
              "    </tr>\n",
              "    <tr>\n",
              "      <th rowspan=\"5\" valign=\"top\">Электроника</th>\n",
              "      <th>Чехлы</th>\n",
              "      <td>16340</td>\n",
              "    </tr>\n",
              "    <tr>\n",
              "      <th>Чехлы-аккумуляторы</th>\n",
              "      <td>550</td>\n",
              "    </tr>\n",
              "    <tr>\n",
              "      <th>Штативы и моноподы</th>\n",
              "      <td>3692</td>\n",
              "    </tr>\n",
              "    <tr>\n",
              "      <th>Экшн-камеры</th>\n",
              "      <td>17133</td>\n",
              "    </tr>\n",
              "    <tr>\n",
              "      <th>Электронные книги</th>\n",
              "      <td>15879</td>\n",
              "    </tr>\n",
              "  </tbody>\n",
              "</table>\n",
              "<p>934 rows × 1 columns</p>\n",
              "</div>"
            ],
            "text/plain": [
              "                                         visits\n",
              "category_name subcategory_name                 \n",
              "Авто          Автоакустика                21348\n",
              "              Автомагнитолы               26473\n",
              "              Автомобильные инверторы       295\n",
              "              Автомобильные компрессоры    1197\n",
              "              Автомобильные телевизоры     3221\n",
              "...                                         ...\n",
              "Электроника   Чехлы                       16340\n",
              "              Чехлы-аккумуляторы            550\n",
              "              Штативы и моноподы           3692\n",
              "              Экшн-камеры                 17133\n",
              "              Электронные книги           15879\n",
              "\n",
              "[934 rows x 1 columns]"
            ]
          },
          "execution_count": 12,
          "metadata": {},
          "output_type": "execute_result"
        }
      ],
      "source": [
        "pd.pivot_table(df, index=['category_name', 'subcategory_name'], values=[\"visits\"], aggfunc='sum')"
      ]
    },
    {
      "cell_type": "markdown",
      "metadata": {
        "id": "ZokQ_Qg2Qs5M"
      },
      "source": [
        "**Aggfunc** может принимать список функций.\n",
        "\n",
        "Давайте попробуем узнать среднее значение и количество:\n",
        "\n"
      ]
    },
    {
      "cell_type": "code",
      "execution_count": null,
      "metadata": {
        "id": "Nk7Ijf0xQs5M",
        "outputId": "9b3321da-efb6-4b77-93cd-8176952b1af3"
      },
      "outputs": [
        {
          "data": {
            "text/html": [
              "<div>\n",
              "<style scoped>\n",
              "    .dataframe tbody tr th:only-of-type {\n",
              "        vertical-align: middle;\n",
              "    }\n",
              "\n",
              "    .dataframe tbody tr th {\n",
              "        vertical-align: top;\n",
              "    }\n",
              "\n",
              "    .dataframe thead tr th {\n",
              "        text-align: left;\n",
              "    }\n",
              "\n",
              "    .dataframe thead tr:last-of-type th {\n",
              "        text-align: right;\n",
              "    }\n",
              "</style>\n",
              "<table border=\"1\" class=\"dataframe\">\n",
              "  <thead>\n",
              "    <tr>\n",
              "      <th></th>\n",
              "      <th></th>\n",
              "      <th>count</th>\n",
              "      <th>mean</th>\n",
              "    </tr>\n",
              "    <tr>\n",
              "      <th></th>\n",
              "      <th></th>\n",
              "      <th>visits</th>\n",
              "      <th>visits</th>\n",
              "    </tr>\n",
              "    <tr>\n",
              "      <th>category_name</th>\n",
              "      <th>subcategory_name</th>\n",
              "      <th></th>\n",
              "      <th></th>\n",
              "    </tr>\n",
              "  </thead>\n",
              "  <tbody>\n",
              "    <tr>\n",
              "      <th rowspan=\"5\" valign=\"top\">Авто</th>\n",
              "      <th>Автоакустика</th>\n",
              "      <td>2</td>\n",
              "      <td>10674.0</td>\n",
              "    </tr>\n",
              "    <tr>\n",
              "      <th>Автомагнитолы</th>\n",
              "      <td>2</td>\n",
              "      <td>13236.5</td>\n",
              "    </tr>\n",
              "    <tr>\n",
              "      <th>Автомобильные инверторы</th>\n",
              "      <td>2</td>\n",
              "      <td>147.5</td>\n",
              "    </tr>\n",
              "    <tr>\n",
              "      <th>Автомобильные компрессоры</th>\n",
              "      <td>2</td>\n",
              "      <td>598.5</td>\n",
              "    </tr>\n",
              "    <tr>\n",
              "      <th>Автомобильные телевизоры</th>\n",
              "      <td>2</td>\n",
              "      <td>1610.5</td>\n",
              "    </tr>\n",
              "    <tr>\n",
              "      <th>...</th>\n",
              "      <th>...</th>\n",
              "      <td>...</td>\n",
              "      <td>...</td>\n",
              "    </tr>\n",
              "    <tr>\n",
              "      <th rowspan=\"5\" valign=\"top\">Электроника</th>\n",
              "      <th>Чехлы</th>\n",
              "      <td>2</td>\n",
              "      <td>8170.0</td>\n",
              "    </tr>\n",
              "    <tr>\n",
              "      <th>Чехлы-аккумуляторы</th>\n",
              "      <td>2</td>\n",
              "      <td>275.0</td>\n",
              "    </tr>\n",
              "    <tr>\n",
              "      <th>Штативы и моноподы</th>\n",
              "      <td>2</td>\n",
              "      <td>1846.0</td>\n",
              "    </tr>\n",
              "    <tr>\n",
              "      <th>Экшн-камеры</th>\n",
              "      <td>2</td>\n",
              "      <td>8566.5</td>\n",
              "    </tr>\n",
              "    <tr>\n",
              "      <th>Электронные книги</th>\n",
              "      <td>2</td>\n",
              "      <td>7939.5</td>\n",
              "    </tr>\n",
              "  </tbody>\n",
              "</table>\n",
              "<p>934 rows × 2 columns</p>\n",
              "</div>"
            ],
            "text/plain": [
              "                                         count     mean\n",
              "                                        visits   visits\n",
              "category_name subcategory_name                         \n",
              "Авто          Автоакустика                   2  10674.0\n",
              "              Автомагнитолы                  2  13236.5\n",
              "              Автомобильные инверторы        2    147.5\n",
              "              Автомобильные компрессоры      2    598.5\n",
              "              Автомобильные телевизоры       2   1610.5\n",
              "...                                        ...      ...\n",
              "Электроника   Чехлы                          2   8170.0\n",
              "              Чехлы-аккумуляторы             2    275.0\n",
              "              Штативы и моноподы             2   1846.0\n",
              "              Экшн-камеры                    2   8566.5\n",
              "              Электронные книги              2   7939.5\n",
              "\n",
              "[934 rows x 2 columns]"
            ]
          },
          "execution_count": 15,
          "metadata": {},
          "output_type": "execute_result"
        }
      ],
      "source": [
        "pd.pivot_table(df, index=['category_name', 'subcategory_name'], values=[\"visits\"], aggfunc=['count', 'mean'])\n"
      ]
    },
    {
      "cell_type": "markdown",
      "metadata": {
        "id": "xfhVAsmoQs5M"
      },
      "source": [
        "Если мы хотим увидеть визиты с разбивкой по источникам трафика (**source**), переменная **columns** позволяет нам определить один или несколько столбцов.\n",
        "\n",
        "Одна из сложностей **pivot_table** - это использование столбцов (**columns**) и значений (**values**).\n",
        "\n",
        "Помните, что столбцы необязательны - они предоставляют дополнительный способ сегментировать актуальные значения, которые вам нужны.\n",
        "\n",
        "Функции агрегирования применяются к перечисленным значениям (**values**):\n",
        "\n",
        "**pd.pivot_table(df, index=['category_name', 'subcategory_name'], values=[\"visits\"], columns=[\"source\"], aggfunc='sum'])**\n"
      ]
    },
    {
      "cell_type": "code",
      "execution_count": null,
      "metadata": {
        "id": "d8CNJPzjQs5N",
        "outputId": "4e296d79-c38d-437b-ce83-f76cc236fb01"
      },
      "outputs": [
        {
          "data": {
            "text/html": [
              "<div>\n",
              "<style scoped>\n",
              "    .dataframe tbody tr th:only-of-type {\n",
              "        vertical-align: middle;\n",
              "    }\n",
              "\n",
              "    .dataframe tbody tr th {\n",
              "        vertical-align: top;\n",
              "    }\n",
              "\n",
              "    .dataframe thead tr th {\n",
              "        text-align: left;\n",
              "    }\n",
              "\n",
              "    .dataframe thead tr:last-of-type th {\n",
              "        text-align: right;\n",
              "    }\n",
              "</style>\n",
              "<table border=\"1\" class=\"dataframe\">\n",
              "  <thead>\n",
              "    <tr>\n",
              "      <th></th>\n",
              "      <th></th>\n",
              "      <th colspan=\"2\" halign=\"left\">visits</th>\n",
              "    </tr>\n",
              "    <tr>\n",
              "      <th></th>\n",
              "      <th>source</th>\n",
              "      <th>direct</th>\n",
              "      <th>organic</th>\n",
              "    </tr>\n",
              "    <tr>\n",
              "      <th>category_name</th>\n",
              "      <th>subcategory_name</th>\n",
              "      <th></th>\n",
              "      <th></th>\n",
              "    </tr>\n",
              "  </thead>\n",
              "  <tbody>\n",
              "    <tr>\n",
              "      <th rowspan=\"5\" valign=\"top\">Авто</th>\n",
              "      <th>Автоакустика</th>\n",
              "      <td>5915</td>\n",
              "      <td>15433</td>\n",
              "    </tr>\n",
              "    <tr>\n",
              "      <th>Автомагнитолы</th>\n",
              "      <td>7783</td>\n",
              "      <td>18690</td>\n",
              "    </tr>\n",
              "    <tr>\n",
              "      <th>Автомобильные инверторы</th>\n",
              "      <td>145</td>\n",
              "      <td>150</td>\n",
              "    </tr>\n",
              "    <tr>\n",
              "      <th>Автомобильные компрессоры</th>\n",
              "      <td>407</td>\n",
              "      <td>790</td>\n",
              "    </tr>\n",
              "    <tr>\n",
              "      <th>Автомобильные телевизоры</th>\n",
              "      <td>975</td>\n",
              "      <td>2246</td>\n",
              "    </tr>\n",
              "    <tr>\n",
              "      <th>...</th>\n",
              "      <th>...</th>\n",
              "      <td>...</td>\n",
              "      <td>...</td>\n",
              "    </tr>\n",
              "    <tr>\n",
              "      <th rowspan=\"5\" valign=\"top\">Электроника</th>\n",
              "      <th>Чехлы</th>\n",
              "      <td>4582</td>\n",
              "      <td>11758</td>\n",
              "    </tr>\n",
              "    <tr>\n",
              "      <th>Чехлы-аккумуляторы</th>\n",
              "      <td>219</td>\n",
              "      <td>331</td>\n",
              "    </tr>\n",
              "    <tr>\n",
              "      <th>Штативы и моноподы</th>\n",
              "      <td>1152</td>\n",
              "      <td>2540</td>\n",
              "    </tr>\n",
              "    <tr>\n",
              "      <th>Экшн-камеры</th>\n",
              "      <td>4757</td>\n",
              "      <td>12376</td>\n",
              "    </tr>\n",
              "    <tr>\n",
              "      <th>Электронные книги</th>\n",
              "      <td>4515</td>\n",
              "      <td>11364</td>\n",
              "    </tr>\n",
              "  </tbody>\n",
              "</table>\n",
              "<p>934 rows × 2 columns</p>\n",
              "</div>"
            ],
            "text/plain": [
              "                                        visits        \n",
              "source                                  direct organic\n",
              "category_name subcategory_name                        \n",
              "Авто          Автоакустика                5915   15433\n",
              "              Автомагнитолы               7783   18690\n",
              "              Автомобильные инверторы      145     150\n",
              "              Автомобильные компрессоры    407     790\n",
              "              Автомобильные телевизоры     975    2246\n",
              "...                                        ...     ...\n",
              "Электроника   Чехлы                       4582   11758\n",
              "              Чехлы-аккумуляторы           219     331\n",
              "              Штативы и моноподы          1152    2540\n",
              "              Экшн-камеры                 4757   12376\n",
              "              Электронные книги           4515   11364\n",
              "\n",
              "[934 rows x 2 columns]"
            ]
          },
          "execution_count": 17,
          "metadata": {},
          "output_type": "execute_result"
        }
      ],
      "source": [
        "pd.pivot_table(df, index=['category_name', 'subcategory_name'], values=[\"visits\"], columns=[\"source\"], aggfunc='sum')\n"
      ]
    },
    {
      "cell_type": "markdown",
      "metadata": {
        "id": "CKxCFpFEQs5N"
      },
      "source": [
        "Теперь вы видите название категории и её подкатегории со значениями объёма трафика по каждой.\n",
        "\n",
        "Как видно, основная категория включает в себя подкатегорию и это представлено в структуре датафрейма: категория отображена иерархически главной над подкатегорией. Такие датафреймы содержат в себе мультииндекс. Часто при работе с такими датафреймами мультииндекс убирают, чтобы категория была отображена на каждой строчке датафрейма:\n",
        "\n",
        "**pd.pivot_table(df, index=['category_name', 'subcategory_name'], values=[\"visits\"],\n",
        "               columns=[\"source\"], aggfunc='sum').reset_index()**\n"
      ]
    },
    {
      "cell_type": "code",
      "execution_count": null,
      "metadata": {
        "id": "ZhzEO51hQs5N",
        "outputId": "e448390c-f004-491f-cfc7-785d386745bd"
      },
      "outputs": [
        {
          "data": {
            "text/html": [
              "<div>\n",
              "<style scoped>\n",
              "    .dataframe tbody tr th:only-of-type {\n",
              "        vertical-align: middle;\n",
              "    }\n",
              "\n",
              "    .dataframe tbody tr th {\n",
              "        vertical-align: top;\n",
              "    }\n",
              "\n",
              "    .dataframe thead tr th {\n",
              "        text-align: left;\n",
              "    }\n",
              "</style>\n",
              "<table border=\"1\" class=\"dataframe\">\n",
              "  <thead>\n",
              "    <tr>\n",
              "      <th></th>\n",
              "      <th>category_name</th>\n",
              "      <th>subcategory_name</th>\n",
              "      <th colspan=\"2\" halign=\"left\">visits</th>\n",
              "    </tr>\n",
              "    <tr>\n",
              "      <th>source</th>\n",
              "      <th></th>\n",
              "      <th></th>\n",
              "      <th>direct</th>\n",
              "      <th>organic</th>\n",
              "    </tr>\n",
              "  </thead>\n",
              "  <tbody>\n",
              "    <tr>\n",
              "      <th>0</th>\n",
              "      <td>Авто</td>\n",
              "      <td>Автоакустика</td>\n",
              "      <td>5915</td>\n",
              "      <td>15433</td>\n",
              "    </tr>\n",
              "    <tr>\n",
              "      <th>1</th>\n",
              "      <td>Авто</td>\n",
              "      <td>Автомагнитолы</td>\n",
              "      <td>7783</td>\n",
              "      <td>18690</td>\n",
              "    </tr>\n",
              "    <tr>\n",
              "      <th>2</th>\n",
              "      <td>Авто</td>\n",
              "      <td>Автомобильные инверторы</td>\n",
              "      <td>145</td>\n",
              "      <td>150</td>\n",
              "    </tr>\n",
              "    <tr>\n",
              "      <th>3</th>\n",
              "      <td>Авто</td>\n",
              "      <td>Автомобильные компрессоры</td>\n",
              "      <td>407</td>\n",
              "      <td>790</td>\n",
              "    </tr>\n",
              "    <tr>\n",
              "      <th>4</th>\n",
              "      <td>Авто</td>\n",
              "      <td>Автомобильные телевизоры</td>\n",
              "      <td>975</td>\n",
              "      <td>2246</td>\n",
              "    </tr>\n",
              "    <tr>\n",
              "      <th>...</th>\n",
              "      <td>...</td>\n",
              "      <td>...</td>\n",
              "      <td>...</td>\n",
              "      <td>...</td>\n",
              "    </tr>\n",
              "    <tr>\n",
              "      <th>929</th>\n",
              "      <td>Электроника</td>\n",
              "      <td>Чехлы</td>\n",
              "      <td>4582</td>\n",
              "      <td>11758</td>\n",
              "    </tr>\n",
              "    <tr>\n",
              "      <th>930</th>\n",
              "      <td>Электроника</td>\n",
              "      <td>Чехлы-аккумуляторы</td>\n",
              "      <td>219</td>\n",
              "      <td>331</td>\n",
              "    </tr>\n",
              "    <tr>\n",
              "      <th>931</th>\n",
              "      <td>Электроника</td>\n",
              "      <td>Штативы и моноподы</td>\n",
              "      <td>1152</td>\n",
              "      <td>2540</td>\n",
              "    </tr>\n",
              "    <tr>\n",
              "      <th>932</th>\n",
              "      <td>Электроника</td>\n",
              "      <td>Экшн-камеры</td>\n",
              "      <td>4757</td>\n",
              "      <td>12376</td>\n",
              "    </tr>\n",
              "    <tr>\n",
              "      <th>933</th>\n",
              "      <td>Электроника</td>\n",
              "      <td>Электронные книги</td>\n",
              "      <td>4515</td>\n",
              "      <td>11364</td>\n",
              "    </tr>\n",
              "  </tbody>\n",
              "</table>\n",
              "<p>934 rows × 4 columns</p>\n",
              "</div>"
            ],
            "text/plain": [
              "       category_name           subcategory_name visits        \n",
              "source                                          direct organic\n",
              "0               Авто               Автоакустика   5915   15433\n",
              "1               Авто              Автомагнитолы   7783   18690\n",
              "2               Авто    Автомобильные инверторы    145     150\n",
              "3               Авто  Автомобильные компрессоры    407     790\n",
              "4               Авто   Автомобильные телевизоры    975    2246\n",
              "..               ...                        ...    ...     ...\n",
              "929      Электроника                      Чехлы   4582   11758\n",
              "930      Электроника         Чехлы-аккумуляторы    219     331\n",
              "931      Электроника         Штативы и моноподы   1152    2540\n",
              "932      Электроника                Экшн-камеры   4757   12376\n",
              "933      Электроника          Электронные книги   4515   11364\n",
              "\n",
              "[934 rows x 4 columns]"
            ]
          },
          "execution_count": 18,
          "metadata": {},
          "output_type": "execute_result"
        }
      ],
      "source": [
        "#Youre code is here\n",
        "pd.pivot_table(df, index=['category_name', 'subcategory_name'], values=[\"visits\"],\n",
        "               columns=[\"source\"], aggfunc='sum').reset_index()"
      ]
    },
    {
      "cell_type": "markdown",
      "metadata": {
        "id": "fZYdK-DaQs5N"
      },
      "source": [
        "В таблице выше суммы визитов **visits** по каждому из источников **source (direct и organic)** представлены в отдельных столбцах. Такой вид таблицы называется «широкий». Он удобен, когда нужно сравнить значения столбцов. Хорошо заметно, например, что в подкатегории «Автомобильные инверторы» количество визитов из источников **direct** и **organic** практически одинаково, а в подкатегории «Автомагнитолы» из источника **organic** пришло почти в два раза больше посетителей, чем из **direct**."
      ]
    },
    {
      "cell_type": "markdown",
      "metadata": {
        "id": "bpEPom8KQs5N"
      },
      "source": [
        "## Расширенная фильтрация сводной таблицы\n",
        "\n",
        "После того, как вы сгенерировали свои данные, они находятся в **DataFrame**, поэтому можно фильтровать их, используя обычные методы **DataFrame**.\n",
        "\n",
        "Если вы хотите посмотреть только на одну категорию, например, \"Товары для дома\":\n",
        "\n",
        "**data_pivot = pd.pivot_table(df, index=['category_name', 'subcategory_name'], values='visits', columns='source',\n",
        "                            aggfunc='sum').reset_index()**\n",
        "**print((data_pivot[data_pivot['category_name']=='Товары для дома']).head(10))**"
      ]
    },
    {
      "cell_type": "code",
      "execution_count": null,
      "metadata": {
        "id": "Xwig1QeMQs5N",
        "outputId": "f87bbd1d-f051-43ec-fcc1-7a1ba37ffd4c"
      },
      "outputs": [
        {
          "name": "stdout",
          "output_type": "stream",
          "text": [
            "source    category_name          subcategory_name  direct  organic\n",
            "646     Товары для дома                Аксессуары     219      329\n",
            "647     Товары для дома    Аксессуары для готовки     216      326\n",
            "648     Товары для дома        Банки для хранения     113       58\n",
            "649     Товары для дома         Блюда и салатники     300      550\n",
            "650     Товары для дома          Бокалы и стаканы     750     1595\n",
            "651     Товары для дома                       Бра     265      452\n",
            "652     Товары для дома                      Вазы     142      142\n",
            "653     Товары для дома         Вешалки напольные     304      562\n",
            "654     Товары для дома  Встраиваемые светильники     306      563\n",
            "655     Товары для дома       Выпечка и запекание     698     1460\n"
          ]
        }
      ],
      "source": [
        "data_pivot = pd.pivot_table(df, index=['category_name', 'subcategory_name'], values='visits', columns='source',\n",
        "                            aggfunc='sum').reset_index()\n",
        "print((data_pivot[data_pivot['category_name']=='Товары для дома']).head(10))"
      ]
    },
    {
      "cell_type": "markdown",
      "metadata": {
        "id": "G5D3LRgAQs5N"
      },
      "source": [
        "Или, например, мы можем узнать на какие товары запросы с органического трафика в разы больше, чем с прямого. Для этого создадим в таблице **data_pivot** новый столбец **'ratio'** и сохраните в нём значение отношения органического трафика **'organic'** к прямому **'direct'**.\n",
        "\n",
        "Отсортируем таблицу по столбцу 'ratio' в порядке убывания. Выведите первые 10 строк.\n",
        "\n",
        "**data_pivot['ratio'] = data_pivot['organic'] / data_pivot['direct']**\n",
        "\n",
        "**data_my = data_pivot.sort_values(by = 'ratio', ascending=False)**\n",
        "\n",
        "**print(data_my.head(10))**"
      ]
    },
    {
      "cell_type": "code",
      "execution_count": null,
      "metadata": {
        "id": "YsLsFX0YQs5N",
        "outputId": "a987ba6a-9fe6-44e9-bba0-d43b55e82988"
      },
      "outputs": [
        {
          "name": "stdout",
          "output_type": "stream",
          "text": [
            "source           category_name                    subcategory_name  direct  \\\n",
            "45                        Авто                                Шины   39638   \n",
            "105            Бытовая техника                   Стиральные машины   22064   \n",
            "468              Спорт и отдых                          Велосипеды   16009   \n",
            "205             Детские товары                             Коляски   18079   \n",
            "609     Строительство и ремонт                  Сварочные аппараты    6175   \n",
            "678            Товары для дома                 Компьютерные кресла    6208   \n",
            "330       Компьютерная техника                          Клавиатуры    6224   \n",
            "921                Электроника  Универсальные внешние аккумуляторы    6146   \n",
            "866                Электроника                           TV-тюнеры    6275   \n",
            "117            Бытовая техника                        Холодильники   20920   \n",
            "\n",
            "source  organic     ratio  \n",
            "45       153859  3.881604  \n",
            "105       64570  2.926487  \n",
            "468       46087  2.878818  \n",
            "205       52005  2.876542  \n",
            "609       17325  2.805668  \n",
            "678       17407  2.803963  \n",
            "330       17417  2.798361  \n",
            "921       17115  2.784738  \n",
            "866       17427  2.777211  \n",
            "117       57985  2.771750  \n"
          ]
        }
      ],
      "source": [
        "data_pivot['ratio'] = data_pivot['organic'] / data_pivot['direct']\n",
        "\n",
        "data_my = data_pivot.sort_values(by = 'ratio', ascending=False)\n",
        "print(data_my.head(10))"
      ]
    },
    {
      "cell_type": "markdown",
      "metadata": {
        "id": "Km7EJz2UQs5O"
      },
      "source": [
        "# Задачи для самостоятельного выполнения\n",
        "\n",
        "Для начала давайте представим, что мы являемся аналитиками в фирме по продаже компьютеров, программного обеспечения к ним, а также оказываем услуги по техническому сопровождению. Нам поставлена задача проанализировать участие компании в различных аукционах.\n",
        "\n",
        "1. Прочитайте и сохраните файл \"baza.xlsx\" с данными аукционов в переменную data_pd."
      ]
    },
    {
      "cell_type": "code",
      "execution_count": null,
      "metadata": {
        "id": "YYCOLoBfQs5O"
      },
      "outputs": [],
      "source": [
        "\n",
        "data_pd = pd.read_excel('baza.xlsx')\n",
        "\n",
        "\n"
      ]
    },
    {
      "cell_type": "markdown",
      "metadata": {
        "id": "wiZ4CLOTQs5O"
      },
      "source": [
        "2. Cоздайте сводную таблицу сводную таблицу по столбцу Контрагент:"
      ]
    },
    {
      "cell_type": "code",
      "execution_count": null,
      "metadata": {
        "id": "cNsYs8SvQs5O",
        "outputId": "d9020f2c-03e8-496a-fad7-f36784c11b80"
      },
      "outputs": [
        {
          "name": "stdout",
          "output_type": "stream",
          "text": [
            "                Аукцион  Количество  Контакт  Менеджер  Продукт  Статус  Цена\n",
            "Контрагент                                                                   \n",
            "Альма                 2           2        2         2        2       2     2\n",
            "Ильин и Ко            4           4        4         4        4       4     4\n",
            "Кружка и ложка        4           4        4         4        4       4     4\n",
            "Микрошкин             4           4        4         4        4       4     4\n",
            "Шахты плюс            3           3        3         3        3       3     3\n"
          ]
        }
      ],
      "source": [
        "pivot = pd.pivot_table(\n",
        "    data_pd,\n",
        "    index='Контрагент',\n",
        "    aggfunc='count'\n",
        ")\n",
        "\n",
        "# Выводим результат\n",
        "print(pivot)\n"
      ]
    },
    {
      "cell_type": "markdown",
      "metadata": {
        "id": "CDaq_ayiQs5O"
      },
      "source": [
        "3. Создайте сводную таблицу по нескольким индексируемым столбцам  'Контакт', 'Менеджер':\n"
      ]
    },
    {
      "cell_type": "code",
      "execution_count": null,
      "metadata": {
        "id": "xGxW8JfGQs5O",
        "outputId": "256f4170-ed7f-4dde-fdee-79b02ab13162"
      },
      "outputs": [
        {
          "name": "stdout",
          "output_type": "stream",
          "text": [
            "                            Аукцион  Количество  Контрагент  Продукт  Статус  \\\n",
            "Контакт       Менеджер                                                         \n",
            "Виктор Юдин   Павел Попов         4           4           4        4       4   \n",
            "Данил Сидоров Илья Сергеев        3           3           3        3       3   \n",
            "Женя Сидин    Илья Сергеев        2           2           2        2       2   \n",
            "Сергей Ильин  Илья Сергеев        4           4           4        4       4   \n",
            "Сергей Минин  Павел Попов         4           4           4        4       4   \n",
            "\n",
            "                            Цена  \n",
            "Контакт       Менеджер            \n",
            "Виктор Юдин   Павел Попов      4  \n",
            "Данил Сидоров Илья Сергеев     3  \n",
            "Женя Сидин    Илья Сергеев     2  \n",
            "Сергей Ильин  Илья Сергеев     4  \n",
            "Сергей Минин  Павел Попов      4  \n"
          ]
        }
      ],
      "source": [
        "pivot_1 = pd.pivot_table(\n",
        "    data_pd,\n",
        "    index=['Контакт', 'Менеджер'],\n",
        "    aggfunc='count'\n",
        ")\n",
        "print(pivot_1)"
      ]
    },
    {
      "cell_type": "markdown",
      "metadata": {
        "id": "BmxJx4kUQs5O"
      },
      "source": [
        "4. По умолчанию сводная таблица выводится по всем числовым полям, однако это не всегда удобно, а иногда и лишено смысла, поэтому можно выводить сводные данные только по отдельным столбцам. Выведите только столбец \"Стоимость\", для этого добавьте параметр values=['Цена']:"
      ]
    },
    {
      "cell_type": "code",
      "execution_count": null,
      "metadata": {
        "id": "ui2u3Qv0Qs5O",
        "outputId": "646c9710-2cc9-4e97-9fe7-b6f45ac733d6"
      },
      "outputs": [
        {
          "name": "stdout",
          "output_type": "stream",
          "text": [
            "                               Цена\n",
            "Контакт       Менеджер             \n",
            "Виктор Юдин   Павел Попов   27000.0\n",
            "Данил Сидоров Илья Сергеев  14900.0\n",
            "Женя Сидин    Илья Сергеев  24500.0\n",
            "Сергей Ильин  Илья Сергеев  35775.0\n",
            "Сергей Минин  Павел Попов   23275.0\n"
          ]
        }
      ],
      "source": [
        "pivot_2 = pd.pivot_table(\n",
        "    data_pd,\n",
        "    index=['Контакт', 'Менеджер'],\n",
        "    values=['Цена'],\n",
        ")\n",
        "\n",
        "print(pivot_2)"
      ]
    },
    {
      "cell_type": "markdown",
      "metadata": {
        "id": "WX0ohC4OQs5P"
      },
      "source": [
        "5. Столбец с ценой по умолчанию выводит среднее значение, однако нам скорее интересна сумма продаж. Добавляем параметр aggfunc='sum':"
      ]
    },
    {
      "cell_type": "code",
      "execution_count": null,
      "metadata": {
        "id": "Nq3ldx9dQs5P",
        "outputId": "7aad4184-5d39-443a-f761-027755b686ca"
      },
      "outputs": [
        {
          "name": "stdout",
          "output_type": "stream",
          "text": [
            "                              Цена\n",
            "Контакт       Менеджер            \n",
            "Виктор Юдин   Павел Попов   108000\n",
            "Данил Сидоров Илья Сергеев   44700\n",
            "Женя Сидин    Илья Сергеев   49000\n",
            "Сергей Ильин  Илья Сергеев  143100\n",
            "Сергей Минин  Павел Попов    93100\n"
          ]
        }
      ],
      "source": [
        "pivot_3 = pd.pivot_table(\n",
        "    data_pd,\n",
        "    index=['Контакт', 'Менеджер'],\n",
        "    values=['Цена'],\n",
        "    aggfunc='sum'\n",
        ")\n",
        "\n",
        "print(pivot_3)"
      ]
    },
    {
      "cell_type": "markdown",
      "metadata": {
        "id": "XqxPOOhqQs5P"
      },
      "source": [
        "6. С помощью параметра columns выведите в столбцы наименование продуктов:"
      ]
    },
    {
      "cell_type": "code",
      "execution_count": null,
      "metadata": {
        "id": "XpEMSxnQQs5P",
        "outputId": "dc75ab71-a22c-4aca-e4ca-ff2e9a7c5b15"
      },
      "outputs": [
        {
          "name": "stdout",
          "output_type": "stream",
          "text": [
            "                                Цена                                    \n",
            "Продукт                    Компьютер Монитор     Софт Тех. сопровождение\n",
            "Контакт       Менеджер                                                  \n",
            "Виктор Юдин   Павел Попов    83900.0  9300.0      NaN            14800.0\n",
            "Данил Сидоров Илья Сергеев   38000.0     NaN   6700.0                NaN\n",
            "Женя Сидин    Илья Сергеев   42000.0     NaN      NaN             7000.0\n",
            "Сергей Ильин  Илья Сергеев   84300.0     NaN  37600.0            21200.0\n",
            "Сергей Минин  Павел Попов    43900.0     NaN  46900.0             2300.0\n"
          ]
        }
      ],
      "source": [
        "pivot_3 = pd.pivot_table(\n",
        "    data_pd,\n",
        "    index=['Контакт', 'Менеджер'],\n",
        "    columns='Продукт',\n",
        "    values=['Цена'],\n",
        "    aggfunc='sum'\n",
        ")\n",
        "\n",
        "print(pivot_3)"
      ]
    },
    {
      "cell_type": "markdown",
      "metadata": {
        "id": "5k3HXJgmQs5P"
      },
      "source": [
        "7. Наверное вы обратили внимание, что в ячейках, где нет данных пусто, хотя нам привычнее, что бы в таких полях указывалось бы значение 0. Добавьте параметр fill_value=0:"
      ]
    },
    {
      "cell_type": "code",
      "execution_count": null,
      "metadata": {
        "id": "tD-Eqi7bQs5P",
        "outputId": "904d8fea-c5b8-430e-cd58-66a58843677b"
      },
      "outputs": [
        {
          "name": "stdout",
          "output_type": "stream",
          "text": [
            "                                Цена                                  \n",
            "Продукт                    Компьютер Монитор   Софт Тех. сопровождение\n",
            "Контакт       Менеджер                                                \n",
            "Виктор Юдин   Павел Попов      83900    9300      0              14800\n",
            "Данил Сидоров Илья Сергеев     38000       0   6700                  0\n",
            "Женя Сидин    Илья Сергеев     42000       0      0               7000\n",
            "Сергей Ильин  Илья Сергеев     84300       0  37600              21200\n",
            "Сергей Минин  Павел Попов      43900       0  46900               2300\n"
          ]
        }
      ],
      "source": [
        "pivot_3 = pd.pivot_table(\n",
        "    data_pd,\n",
        "    index=['Контакт', 'Менеджер'],\n",
        "    columns='Продукт',\n",
        "    values=['Цена'],\n",
        "    aggfunc='sum',\n",
        "    fill_value=0\n",
        ")\n",
        "\n",
        "print(pivot_3)"
      ]
    },
    {
      "cell_type": "markdown",
      "metadata": {
        "id": "EoZwm3QlQs5P"
      },
      "source": [
        "8. Вероятно полезно было бы рассматривать эффективность деятельности наших менеджеров не только по стоимости продаж, но и по их количеству. Добавьте в параметр values переменную  \"Количество\""
      ]
    },
    {
      "cell_type": "code",
      "execution_count": null,
      "metadata": {
        "id": "-xMZjLgRQs5P",
        "outputId": "a51bffec-c4a7-4556-95aa-f31b4da05d91"
      },
      "outputs": [
        {
          "name": "stdout",
          "output_type": "stream",
          "text": [
            "                           Количество                                  \\\n",
            "Продукт                     Компьютер Монитор Софт Тех. сопровождение   \n",
            "Контакт       Менеджер                                                  \n",
            "Виктор Юдин   Павел Попов           6       4    0                  1   \n",
            "Данил Сидоров Илья Сергеев          4       0    1                  0   \n",
            "Женя Сидин    Илья Сергеев          4       0    0                  2   \n",
            "Сергей Ильин  Илья Сергеев          9       0    2                  2   \n",
            "Сергей Минин  Павел Попов           8       0    4                  2   \n",
            "\n",
            "                                Цена                                    \n",
            "Продукт                    Компьютер Монитор   Софт Тех. сопровождение  \n",
            "Контакт       Менеджер                                                  \n",
            "Виктор Юдин   Павел Попов      83900    9300      0              14800  \n",
            "Данил Сидоров Илья Сергеев     38000       0   6700                  0  \n",
            "Женя Сидин    Илья Сергеев     42000       0      0               7000  \n",
            "Сергей Ильин  Илья Сергеев     84300       0  37600              21200  \n",
            "Сергей Минин  Павел Попов      43900       0  46900               2300  \n"
          ]
        }
      ],
      "source": [
        "pivot_3 = pd.pivot_table(\n",
        "    data_pd,\n",
        "    index=['Контакт', 'Менеджер'],\n",
        "    columns='Продукт',\n",
        "    values=['Цена','Количество'],\n",
        "    aggfunc='sum',\n",
        "    fill_value=0\n",
        ")\n",
        "\n",
        "print(pivot_3)"
      ]
    },
    {
      "cell_type": "markdown",
      "metadata": {
        "id": "5plomWuJQs5P"
      },
      "source": [
        "9. Выведите продажи только менеджера \"Илья Сергеев\":"
      ]
    },
    {
      "cell_type": "code",
      "execution_count": null,
      "metadata": {
        "id": "wlJ8rSKkQs5Q",
        "outputId": "c65e211e-5eb6-424a-ee4d-4277f21b04ee"
      },
      "outputs": [
        {
          "name": "stdout",
          "output_type": "stream",
          "text": [
            "Продукт        Компьютер   Софт  Тех. сопровождение\n",
            "Контакт                                            \n",
            "Данил Сидоров      38000   6700                   0\n",
            "Женя Сидин         42000      0                7000\n",
            "Сергей Ильин       84300  37600               21200\n"
          ]
        }
      ],
      "source": [
        "import pandas as pd\n",
        "\n",
        "\n",
        "\n",
        "filtered_data = data_pd[data_pd['Менеджер'] == 'Илья Сергеев']\n",
        "\n",
        "\n",
        "pivot_5 = pd.pivot_table(\n",
        "    filtered_data,\n",
        "    index=['Контакт'],\n",
        "    columns='Продукт',\n",
        "    values='Цена',\n",
        "    aggfunc='sum',\n",
        "    fill_value=0\n",
        ")\n",
        "\n",
        "print(pivot_5)\n"
      ]
    }
  ],
  "metadata": {
    "kernelspec": {
      "display_name": "Python 3",
      "language": "python",
      "name": "python3"
    },
    "language_info": {
      "codemirror_mode": {
        "name": "ipython",
        "version": 3
      },
      "file_extension": ".py",
      "mimetype": "text/x-python",
      "name": "python",
      "nbconvert_exporter": "python",
      "pygments_lexer": "ipython3",
      "version": "3.11.9"
    },
    "colab": {
      "provenance": [],
      "include_colab_link": true
    }
  },
  "nbformat": 4,
  "nbformat_minor": 0
}