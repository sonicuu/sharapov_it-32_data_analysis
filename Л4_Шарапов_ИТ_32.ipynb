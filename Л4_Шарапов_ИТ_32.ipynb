{
  "cells": [
    {
      "cell_type": "markdown",
      "metadata": {
        "id": "view-in-github",
        "colab_type": "text"
      },
      "source": [
        "<a href=\"https://colab.research.google.com/github/sonicuu/sharapov_it-32_data_analysis/blob/main/%D0%9B4_%D0%A8%D0%B0%D1%80%D0%B0%D0%BF%D0%BE%D0%B2_%D0%98%D0%A2_32.ipynb\" target=\"_parent\"><img src=\"https://colab.research.google.com/assets/colab-badge.svg\" alt=\"Open In Colab\"/></a>"
      ]
    },
    {
      "cell_type": "markdown",
      "metadata": {
        "id": "M2TmMsBmL0T1"
      },
      "source": [
        "# Анализ и обработка результатов\n",
        "\n",
        "В анализе данных важно наглядное представление результатов, чтобы их мог оценить заказчик. Это бизнес, где на кону громадный трафик, серверные мощности, личное время многотысячной аудитории. И одновременно это исследование.\n",
        "\n",
        "Как в настоящей экспериментальной науке, ответ непредсказуем. Его точность зависит от умелого владения статистическими методами и от качества исходных данных. Перед тем, как начинать считать, проверьте, грамотно ли ваши данные подготовлены.\n",
        "\n",
        "# Группировка данных\n",
        "\n",
        "Слово «анализ» означает разбор, рассмотрение с разных сторон. Анализ данных начинают с разделения их на группы по какому-нибудь признаку. Эта операция называется группировка данных. Она помогает изучить материал более подробно, чтобы затем перейти к поиску взаимосвязей между отдельными группами.\n",
        "\n",
        "\n",
        "Группировка оправданна, если данные чётко делятся по значимому признаку, а полученные группы близки к теме задачи. Например, когда есть данные обо всех покупках в супермаркете, можно смело заниматься группировкой. Так можно установить время наплыва покупателей и решить проблему пиковых нагрузок. Или посчитать средний чек — обычно для магазинов это ключевая метрика.\n",
        "\n",
        "\n",
        "Стадии группировки хорошо укладываются в словесную формулу **split-apply-combine**:\n",
        "\n",
        "•\tразделить, **split** — разбиение на группы по определённому критерию;\n",
        "\n",
        "•\tприменить, **apply** — применение какого-либо метода к каждой группе в отдельности, например, подсчёт численности группы методом count() или суммирование вызовом sum();\n",
        "\n",
        "•\tобъединить, **combine** — сведение результатов в новую структуру данных, в зависимости от условий разделения и выполнения метода это бывает DataFrame и Series.\n",
        "\n",
        "На картинке изображен принцип **split-apply-combine** для таблицы с экзопланетами. Посмотрим, как вообще идут дела с поиском экзопланет. Сначала данные делят по группам, где каждая группа — это год. Потом метод **count()** подсчитывает численность каждой группы. В итоге получаем новую структуру данных с группами, где каждая содержит год и число открытых за этот год экзопланет.\n",
        "\n",
        "![image.png](attachment:image.png)\n",
        "\n",
        "В Рandas для группировки данных есть метод **groupby()**. Он принимает как аргумент название столбца, по которому нужно группировать. В случае с делением экзопланет по годам открытия:\n",
        "\n",
        "**print(exoplanet.groupby('discovered'))**\n",
        "\n",
        "**<pandas.core.groupby.DataFrameGroupBy object at 0x7fc1e1ca3400>**\n",
        "\n",
        "\n",
        "Применение метода **groupby()** к объекту типа DataFrame приводит к созданию объекта особого типа — **DataFrameGroupBy**. Это сгруппированные данные. Если применить к ним какой-нибудь метод Pandas, они станут новой структурой данных типа **DataFrame** или **Series**.\n",
        "Подсчитаем сгруппированные по годам экзопланеты методом **count()**:\n",
        "\n",
        "Если нужно сравнить наблюдения по одному показателю, метод применяют к **DataFrameGroupBy** с указанием на один столбец. Нас в первую очередь интересует радиус экзопланет: мы ищем другую Землю. Давайте получим таблицу с единственным столбцом 'radius':\n",
        "\n",
        "**exo_number = exoplanet.groupby('discovered')['radius'].count()**\n",
        "\n",
        "**print(exo_number)**\n",
        "\n",
        "Получили Series, где по годам открытия расписано количество экзопланет, для которых удалось установить радиус.\n",
        "\n",
        "Посмотрим, как меняется средний радиус открытых экзопланет год от года. Для этого надо сложить радиусы планет, открытых за определённый год, и поделить на их количество (которое мы уже нашли).\n",
        "\n",
        "Сумма радиусов считается методом **sum()**:\n",
        "\n",
        "**exo_radius_sum = exoplanet.groupby('discovered')['radius'].sum()**\n",
        "\n",
        "\n",
        "**print(exo_radius_sum)**\n",
        "\n",
        "\n",
        "\n",
        "## Задача\n",
        "Вашему вниманию предлагается датасет с обзором показателей самоубийств с 1985 по 2016 год — Сравнение социально-экономической информации с показателями самоубийств по годам и странам.\n",
        "\n",
        "Столбцами этой таблицы являются: страна, год, пол, возрастная группа, количество самоубийств, население, уровень самоубийств, сводный ключ по стране за год, ИЧР (индекс человеческого развития) за год, ВВП за год, ВВП на душу населения, поколение (на основе среднего по возрастной группе).\n",
        "\n",
        "1. Загрузите таблицу master, содержащую данные о самоубийствах. Выведите на экран таблицу и оцените данные, обратите внимание на названия столбцов, переименуйте их, если это необходимо.\n",
        "\n",
        "2. Убедитесь в том, что данные прошли предподготовку.  Пропущенные и неопределённые значения выявляет метод isna(), а суммарное количество таких значений — метод sum().\n",
        "\n",
        "3. Сгруппируйте DataFrame по столбцу country, сохраните полученный результат в переменной country_grouping.\n",
        "\n",
        "4. Посчитайте количество случаев самоубийств по странам, которые были совершены, методом **sum()**, указав, что выбираем один столбец suicides_no.\n",
        "\n",
        "Сохраните результат в переменной country_sum и выведите первые 30 строк этой таблицы.\n",
        "\n"
      ]
    },
    {
      "cell_type": "code",
      "execution_count": null,
      "metadata": {
        "scrolled": true,
        "id": "dX65O0-lL0T3",
        "outputId": "373ce3f9-70b8-4585-ff8b-bde2d6a21083"
      },
      "outputs": [
        {
          "name": "stdout",
          "output_type": "stream",
          "text": [
            "Пропущенные значения по каждому столбцу:\n",
            "country               0\n",
            "year                  0\n",
            "sex                   0\n",
            "age_group             0\n",
            "suicides_no           0\n",
            "population            0\n",
            "suicide_rate          0\n",
            "country_year          0\n",
            "hd_index          19456\n",
            "gdp_year              0\n",
            "gdp_per_capita        0\n",
            "generation            0\n",
            "dtype: int64\n",
            "\n",
            "Топ-30 стран по количеству самоубийств:\n",
            "country\n",
            "Russian Federation    1209742\n",
            "United States         1034013\n",
            "Japan                  806902\n",
            "France                 329127\n",
            "Ukraine                319950\n",
            "Germany                291262\n",
            "Republic of Korea      261730\n",
            "Brazil                 226613\n",
            "Poland                 139098\n",
            "United Kingdom         136805\n",
            "Italy                  132060\n",
            "Mexico                 111139\n",
            "Thailand               110643\n",
            "Canada                 107561\n",
            "Kazakhstan             101546\n",
            "Spain                  100202\n",
            "Argentina               82219\n",
            "Hungary                 73891\n",
            "Romania                 72777\n",
            "Australia               70111\n",
            "Belgium                 62761\n",
            "Belarus                 59892\n",
            "Sri Lanka               55641\n",
            "Colombia                53080\n",
            "Netherlands             50833\n",
            "Austria                 50073\n",
            "Czech Republic          43687\n",
            "Cuba                    41418\n",
            "Chile                   40895\n",
            "Sweden                  37795\n",
            "Name: suicides_no, dtype: int64\n"
          ]
        }
      ],
      "source": [
        "\n",
        "import pandas as pd\n",
        "\n",
        "\n",
        "file_path = \"master.csv\"\n",
        "data = pd.read_csv(file_path)\n",
        "\n",
        "data.columns = [\n",
        "    \"country\", \"year\", \"sex\", \"age_group\", \"suicides_no\", \"population\",\n",
        "    \"suicide_rate\", \"country_year\", \"hd_index\", \"gdp_year\", \"gdp_per_capita\", \"generation\"\n",
        "]\n",
        "\n",
        "missing_values = data.isna().sum()\n",
        "\n",
        "print(\"Пропущенные значения по каждому столбцу:\")\n",
        "print(missing_values)\n",
        "\n",
        "\n",
        "country_grouping = data.groupby(\"country\")\n",
        "\n",
        "country_sum = country_grouping[\"suicides_no\"].sum()\n",
        "\n",
        "country_sum_sorted = country_sum.sort_values(ascending=False).head(30)\n",
        "\n",
        "# Вывод результатов\n",
        "print(\"\\nТоп-30 стран по количеству самоубийств:\")\n",
        "print(country_sum_sorted)\n",
        "\n",
        "\n",
        "\n",
        "\n",
        "\n",
        "\n"
      ]
    },
    {
      "cell_type": "markdown",
      "metadata": {
        "id": "xOKuAFdrL0T5"
      },
      "source": [
        "# Сортировка данных\n",
        "\n",
        "\n",
        "Поиск необычного в группе — что среди планет, что среди меломанов — это прежде всего поиск чемпионов: объектов с выдающимися показателями по разным статьям. Как всю таблицу, так и отдельные группы изучают, сортируя строки по какому-либо столбцу.\n",
        "\n",
        "В Pandas для этой операции есть метод **sort_values()**. У него два аргумента:\n",
        "\n",
        "• **by = 'имя столбца'** — имя столбца, по которому нужно сортировать;\n",
        "\n",
        "• **ascending:** по умолчанию True. Для сортировки по убыванию установите значение False.\n",
        "\n",
        "![image.png](attachment:image.png)\n",
        "\n",
        "\n",
        "Среди экзопланет интересны близкие по размерам к Земле. Есть ли такие? Отсортируем список по радиусу в порядке возрастания. Тогда в голове таблицы окажутся самые малые, на которых гравитация не прижмёт нас к полу.\n",
        "\n",
        "**print(exoplanet.sort_values(by='radius').head(30))**\n",
        "\n",
        "Оказывается, некоторые из уже открытых экзопланет по размерам близки не то что к Земле, но уже и к Луне! Получим список экзопланет с радиусом меньше земного. Смотрите, как логический оператор (здесь это <) задействуется в отборе элементов столбца. Дальше нам этот приём не раз понадобится.\n",
        "\n",
        "**print(exoplanet[exoplanet['radius'] < 1])**\n",
        "\n",
        "Но и этот список такой длинный, что изучать его лучше по частям. Экзопланеты, близкие по размерам к Земле, за последнее десятилетие открывали нередко. Можно изучать список открытых за каждый год. Например, для 2014 года (вновь обратите внимание на работу логического оператора, теперь это ==):\n",
        "\n",
        "**print(exoplanet[exoplanet['discovered'] == 2014])**\n",
        "\n",
        "А чтобы не тратить время на лишнее, поставим оба условия сразу. Для этого в Pandas есть логический оператор &, подобный оператору and языка Python. Напомним, его смысл на русском языке можно передать словами «и ещё»:\n",
        "\n",
        "**exo_small_14 = exoplanet[ (exoplanet['radius']<1) & (exoplanet['discovered']==2014)]**\n",
        "\n",
        "**print(exo_small_14)**\n",
        "\n",
        "Отсортируем результат в порядке убывания радиуса.\n",
        "\n",
        "**print(exo_small_14.sort_values(by = 'radius', ascending = False))**\n",
        "\n",
        "\n",
        "\n"
      ]
    },
    {
      "cell_type": "markdown",
      "metadata": {
        "id": "KbTba7KSL0T5"
      },
      "source": [
        "## Задача\n",
        "1. Выделим пятерки стран с самым низким и самым высоким уровнем самоубийств в мире."
      ]
    },
    {
      "cell_type": "code",
      "execution_count": null,
      "metadata": {
        "id": "Zkrucmr8L0T5",
        "outputId": "d34ade6c-fac5-4fba-ced2-330edeac06bc"
      },
      "outputs": [
        {
          "name": "stdout",
          "output_type": "stream",
          "text": [
            "\n",
            "Пять стран с наименьшим количеством самоубийств:\n",
            "                  country  suicides_no\n",
            "27               Dominica            0\n",
            "76  Saint Kitts and Nevis            0\n",
            "79             San Marino            4\n",
            "1     Antigua and Barbuda           11\n",
            "55               Maldives           20\n",
            "\n",
            "Пять стран с наибольшим количеством самоубийств:\n",
            "               country  suicides_no\n",
            "75  Russian Federation      1209742\n",
            "98       United States      1034013\n",
            "46               Japan       806902\n",
            "33              France       329127\n",
            "95             Ukraine       319950\n"
          ]
        }
      ],
      "source": [
        "\n",
        "import pandas as pd\n",
        "\n",
        "file_path = \"master.csv\"\n",
        "data = pd.read_csv(file_path)\n",
        "\n",
        "data.columns = [\n",
        "    \"country\", \"year\", \"sex\", \"age_group\", \"suicides_no\", \"population\",\n",
        "    \"suicide_rate\", \"country_year\", \"hd_index\", \"gdp_year\", \"gdp_per_capita\", \"generation\"\n",
        "]\n",
        "\n",
        "\n",
        "country_sum = data.groupby(\"country\")[\"suicides_no\"].sum().reset_index()\n",
        "\n",
        "lowest_suicide_countries = country_sum.sort_values(by=\"suicides_no\", ascending=True).head(5)\n",
        "print(\"\\nПять стран с наименьшим количеством самоубийств:\")\n",
        "print(lowest_suicide_countries)\n",
        "\n",
        "highest_suicide_countries = country_sum.sort_values(by=\"suicides_no\", ascending=False).head(5)\n",
        "print(\"\\nПять стран с наибольшим количеством самоубийств:\")\n",
        "print(highest_suicide_countries)\n"
      ]
    },
    {
      "cell_type": "code",
      "execution_count": null,
      "metadata": {
        "scrolled": true,
        "id": "UYR2Yt9EL0T6"
      },
      "outputs": [],
      "source": [
        "#Youre code is here\n"
      ]
    },
    {
      "cell_type": "markdown",
      "metadata": {
        "id": "Fu0vdyIsL0T6"
      },
      "source": [
        "2. Исследуйте распределение количества суидидов по гендерному признаку. Найдите лидеров и антилидеров по количеству самоубийств среди женщин. Повторяется ли картина по сравнению с предыдущим исследованием?"
      ]
    },
    {
      "cell_type": "code",
      "execution_count": null,
      "metadata": {
        "id": "C_H95A-QL0T6",
        "outputId": "02ad4a85-621c-47ea-8ce4-bbed7d8dca3e"
      },
      "outputs": [
        {
          "name": "stdout",
          "output_type": "stream",
          "text": [
            "\n",
            "Лидеры по количеству самоубийств среди женщин:\n",
            "                country     sex  suicides_no\n",
            "92                Japan  female       251630\n",
            "150  Russian Federation  female       214330\n",
            "196       United States  female       213797\n",
            "66               France  female        89419\n",
            "146   Republic of Korea  female        82615\n",
            "\n",
            "Антилидеры по количеству самоубийств среди женщин:\n",
            "                   country     sex  suicides_no\n",
            "2      Antigua and Barbuda  female            1\n",
            "152  Saint Kitts and Nevis  female            0\n",
            "130                   Oman  female            0\n",
            "158             San Marino  female            0\n",
            "54                Dominica  female            0\n"
          ]
        }
      ],
      "source": [
        "import pandas as pd\n",
        "\n",
        "gender_sum = data.groupby([\"country\", \"sex\"])[\"suicides_no\"].sum().reset_index()\n",
        "\n",
        "female_suicides = gender_sum[gender_sum[\"sex\"] == \"female\"].sort_values(by=\"suicides_no\", ascending=False)\n",
        "\n",
        "top_female_suicides = female_suicides.head(5)\n",
        "bottom_female_suicides = female_suicides.tail(5)\n",
        "\n",
        "print(\"\\nЛидеры по количеству самоубийств среди женщин:\")\n",
        "print(top_female_suicides)\n",
        "\n",
        "print(\"\\nАнтилидеры по количеству самоубийств среди женщин:\")\n",
        "print(bottom_female_suicides)\n"
      ]
    },
    {
      "cell_type": "markdown",
      "metadata": {
        "id": "mgo3Pi1WL0T6"
      },
      "source": [
        "# Описательная статистика\n",
        "\n",
        "Чтобы представить себе среднестатистического самоубийцу, понадобится описательная статистика.\n",
        "\n",
        "Из её показателей для количественного описания данных в нашей задаче нужны четыре меры — максимум, минимум, медиана и среднее.\n",
        "\n",
        "Наибольшее и наименьшее обычно вычисляют только по одному признаку. Например, можно получить минимальное и максимальное значение уровня самоубийств (количество самоубийств на 100 тыс.населения) (столбец 'suicides/100k pop'). Для поиска максимума вызывают метод max(), примененный к этому столбцу:\n",
        "\n",
        "print(master['suicides/100k pop'].max())\n"
      ]
    },
    {
      "cell_type": "code",
      "execution_count": null,
      "metadata": {
        "id": "ga7dFSEWL0T7"
      },
      "outputs": [],
      "source": [
        "print(master['suicides/100k pop'].max())"
      ]
    },
    {
      "cell_type": "markdown",
      "metadata": {
        "id": "cHamjfBHL0T7"
      },
      "source": [
        "Самый высокий показатель оказался 224.97 самоубийств на 100 тыс.населения. Интересно, в какой стране такая ситуация.\n",
        "\n",
        "Запросим из master строку с максимальным значением, прибегнув к логической индексации с условием\n",
        "\n",
        "**master['suicides/100k pop'] == master['suicides/100k pop'].max()**"
      ]
    },
    {
      "cell_type": "code",
      "execution_count": null,
      "metadata": {
        "id": "4RVZSQAvL0T7"
      },
      "outputs": [],
      "source": [
        "master['suicides/100k pop'] == master['suicides/100k pop'].max()"
      ]
    },
    {
      "cell_type": "markdown",
      "metadata": {
        "id": "gACSsyVdL0T7"
      },
      "source": [
        "Минимальное значение — ищут методом **min()**. Нам интересно установить случаи, когда уровень суицидов минимальный, но не нулевой.\n",
        "\n",
        "Вот как мы создаём выборку  и находим в ней минимальное значение:\n",
        "\n",
        "**master_drop_null = master[master['suicides/100k pop'] != 0]**\n",
        "\n",
        "**print(master_drop_null['suicides/100k pop'].min())**\n"
      ]
    },
    {
      "cell_type": "code",
      "execution_count": null,
      "metadata": {
        "id": "5Uc0aDxaL0T7"
      },
      "outputs": [],
      "source": [
        "master_drop_null = master[master['suicides/100k pop'] != 0]\n",
        "print(master_drop_null['suicides/100k pop'].min())"
      ]
    },
    {
      "cell_type": "markdown",
      "metadata": {
        "id": "JE4So44KL0T7"
      },
      "source": [
        "Получим название самой \"счастливой\" страны. Как и при поиске максимума, воспользуемся условием и логической индексацией"
      ]
    },
    {
      "cell_type": "code",
      "execution_count": null,
      "metadata": {
        "id": "nT3PGfKsL0T7",
        "outputId": "05d43214-febc-45a5-e82f-bea58e38a801"
      },
      "outputs": [
        {
          "name": "stdout",
          "output_type": "stream",
          "text": [
            "Данные о самой 'счастливой' стране:\n",
            "            country  year     sex         age  suicides_no  population  \\\n",
            "23347  South Africa  2000  female  5-14 years            1     5079980   \n",
            "23371  South Africa  2002  female  5-14 years            1     5081661   \n",
            "23479  South Africa  2011    male  5-14 years            1     5198162   \n",
            "25060      Thailand  1994  female  5-14 years            1     5609000   \n",
            "25061      Thailand  1994    male  5-14 years            1     5821000   \n",
            "\n",
            "       suicides/100k pop      country-year  HDI for year  gdp_for_year ($)   \\\n",
            "23347               0.02  South Africa2000         0.632    136,361,854,808   \n",
            "23371               0.02  South Africa2002           NaN    115,748,110,113   \n",
            "23479               0.02  South Africa2011         0.651    416,878,162,441   \n",
            "25060               0.02      Thailand1994           NaN    146,683,499,006   \n",
            "25061               0.02      Thailand1994           NaN    146,683,499,006   \n",
            "\n",
            "       gdp_per_capita ($)    generation  \n",
            "23347                3361    Millenials  \n",
            "23371                2769    Millenials  \n",
            "23479                8906  Generation Z  \n",
            "25060                2784    Millenials  \n",
            "25061                2784    Millenials  \n",
            "\n",
            "Самая 'счастливая' страна с минимальным уровнем самоубийств (не равным нулю): ['South Africa' 'Thailand']\n",
            "Медиана уровня самоубийств (исключая нулевые значения): 8.26\n",
            "Среднее арифметическое уровня самоубийств (исключая нулевые значения): 15.14694039678831\n"
          ]
        }
      ],
      "source": [
        "\n",
        "import pandas as pd\n",
        "\n",
        "\n",
        "file_path = \"master.csv\"\n",
        "data = pd.read_csv(file_path)\n",
        "\n",
        "non_zero_suicide_rate = data[data[\"suicides/100k pop\"] > 0]\n",
        "\n",
        "min_non_zero_suicide_rate = non_zero_suicide_rate[\"suicides/100k pop\"].min()\n",
        "\n",
        "happiest_countries_data = non_zero_suicide_rate[non_zero_suicide_rate[\"suicides/100k pop\"] == min_non_zero_suicide_rate]\n",
        "\n",
        "happiest_countries = happiest_countries_data[\"country\"].unique()\n",
        "median_suicide_rate = non_zero_suicide_rate[\"suicides/100k pop\"].median()\n",
        "\n",
        "mean_suicide_rate = non_zero_suicide_rate[\"suicides/100k pop\"].mean()\n",
        "\n",
        "\n",
        "\n",
        "\n",
        "\n",
        "print(\"Данные о самой 'счастливой' стране:\")\n",
        "print(happiest_countries_data)\n",
        "\n",
        "print(\"\\nСамая 'счастливая' страна с минимальным уровнем самоубийств (не равным нулю):\", happiest_countries)\n",
        "\n",
        "print(\"Медиана уровня самоубийств (исключая нулевые значения):\", median_suicide_rate)\n",
        "print(\"Среднее арифметическое уровня самоубийств (исключая нулевые значения):\", mean_suicide_rate)"
      ]
    },
    {
      "cell_type": "markdown",
      "metadata": {
        "id": "Wnuc0oSOL0T8"
      },
      "source": [
        "Результат вывода — две страны, которые соответствуют минимальному значению.\n",
        "На основе полученных данных можно сделать вывод, что число совершенных самоубийств на 100 тыс. населения  находится в диапазоне от 0,02 до 224.97 секунд, не включая пропущенные.\n",
        "\n",
        "Это знание пригодится, чтобы разобраться с медианой и средним арифметическим.\n",
        "\n",
        "Среднее и медиана оценивают значения в центре выборки. Если тех строк, где число с большим количеством самоубийц, столько же, сколько тех, где это число мало — среднее подойдет. Но когда есть оторванные от основной массы лидеры, их результаты сильно смещают значение среднего вверх. Вот почему оценивать в этом случае лучше медианой.\n",
        "\n",
        "![image.png](attachment:image.png)\n",
        "\n",
        "В геометрии медиана делит фигуру на две равные по площади. В статистике она делит выборку пополам: в одной половине значения меньше медианного, в другой больше. Логично, что для определения медианы список обязательно должен быть отсортирован — либо по возрастанию, либо по убыванию.\n",
        "Когда количество значений нечётное, медиана будет равна тому значению, которое оказалось ровно посередине отсортированного набора. Если же количество данных чётное, то медиана рассчитывается как среднее арифметическое двух соседних чисел в середине набора.\n",
        "\n"
      ]
    },
    {
      "cell_type": "markdown",
      "metadata": {
        "id": "xZLqAr8yL0T8"
      },
      "source": [
        " Pandas есть метод **median()**, который считает медиану. По аналогии с **min()** и **max()** его можно применять ко всей таблице, к отдельному столбцу или к сгруппированным данным. Теперь применим медиану ко всем значениям времени прослушивания в нашВей таблице, исключив нулевые:\n",
        "\n"
      ]
    },
    {
      "cell_type": "code",
      "execution_count": null,
      "metadata": {
        "id": "9oEkMn-PL0T8"
      },
      "outputs": [],
      "source": [
        "#Youre code is here"
      ]
    },
    {
      "cell_type": "markdown",
      "metadata": {
        "id": "kPIZxR2EL0T8"
      },
      "source": [
        "Чтобы убедиться, что лидеры действительно смещают средний показатель вверх, найдём среднее арифметическое всех этих значений методом mean():"
      ]
    },
    {
      "cell_type": "code",
      "execution_count": null,
      "metadata": {
        "id": "EQ3jFl4QL0T8"
      },
      "outputs": [],
      "source": [
        "#Youre code is here"
      ]
    },
    {
      "cell_type": "code",
      "execution_count": null,
      "metadata": {
        "id": "Zm5GVEhqL0T8"
      },
      "outputs": [],
      "source": []
    }
  ],
  "metadata": {
    "kernelspec": {
      "display_name": "Python 3",
      "language": "python",
      "name": "python3"
    },
    "language_info": {
      "codemirror_mode": {
        "name": "ipython",
        "version": 3
      },
      "file_extension": ".py",
      "mimetype": "text/x-python",
      "name": "python",
      "nbconvert_exporter": "python",
      "pygments_lexer": "ipython3",
      "version": "3.11.5"
    },
    "colab": {
      "provenance": [],
      "include_colab_link": true
    }
  },
  "nbformat": 4,
  "nbformat_minor": 0
}