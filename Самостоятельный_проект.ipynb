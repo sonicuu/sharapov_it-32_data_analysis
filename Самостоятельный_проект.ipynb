{
  "cells": [
    {
      "cell_type": "markdown",
      "metadata": {
        "id": "view-in-github",
        "colab_type": "text"
      },
      "source": [
        "<a href=\"https://colab.research.google.com/github/sonicuu/sharapov_it-32_data_analysis/blob/main/%D0%A1%D0%B0%D0%BC%D0%BE%D1%81%D1%82%D0%BE%D1%8F%D1%82%D0%B5%D0%BB%D1%8C%D0%BD%D1%8B%D0%B9_%D0%BF%D1%80%D0%BE%D0%B5%D0%BA%D1%82.ipynb\" target=\"_parent\"><img src=\"https://colab.research.google.com/assets/colab-badge.svg\" alt=\"Open In Colab\"/></a>"
      ]
    },
    {
      "cell_type": "markdown",
      "metadata": {
        "id": "HQ4mhBaHMRHL"
      },
      "source": [
        "# Добро пожаловать в самостоятельный проект\n",
        "\n",
        "Самостоятельный проект — это практическая проверка знаний, приобретённых вами на вводном курсе. Каждый раздел посвящён отдельной стадии анализа данных с экскурсом в основы Python.\n",
        "\n",
        "Проект выполняется в пять этапов:\n",
        "\n",
        "•\tПостановка задачи\n",
        "\n",
        "•\tПолучение данных\n",
        "\n",
        "•\tПредобработка данных\n",
        "\n",
        "•\tАнализ данных\n",
        "\n",
        "•\tОформление результатов\n",
        "\n",
        "Для каждой части описаны шаги выполнения c теоретическим приложением. В Jupyter Notebook эти шаги связаны между собой выводами и результатами.\n",
        "\n",
        "**Исследование: Музыка больших городов**\n",
        "\n",
        "Яндекс.Музыка — это крупный продукт с огромным запасом данных для исследований. Команды таких сервисов для поддержания интереса к продукту и привлечения новых пользователей часто проводят исследования про пользователей. Чтобы удержать клиентов и привлечь новых, сделать бренд более узнаваемым, команда сервиса проводит исследования аудитории, и публикует интересные результаты. Например, интересно сравнить тексты, сочинённые нейросетью, с произведениями настоящих рэперов.\n",
        "Есть исследование, которое напоминает наше: о музыкальных предпочтениях в разных городах России.\n",
        "Итак, вопрос вам: как музыка, которая звучит по дороге на работу в понедельник утром, отличается от той, что играет в среду или в конце рабочей недели? Возьмите данные для Москвы и Петербурга. Сравните, что и в каком режиме слушают их жители.\n",
        "\n",
        "План исследования\n",
        "\n",
        "1.\tПолучение данных. Прочитайте данные, ознакомьтесь с ними.\n",
        "\n",
        "2.\tПредобработка данных. Избавьтесь от дубликатов, проблем с названиями столбцов и пропусками.\n",
        "\n",
        "3.\tАнализ данных. Ответьте на основные вопросы исследования, подготовьте отчётную таблицу или опишите полученный результат.\n",
        "\n",
        "4.\tПодведение итогов. Просмотрите выполненную работу и сформулируйте выводы.\n"
      ]
    },
    {
      "cell_type": "markdown",
      "metadata": {
        "id": "oCub2e9OMRHM"
      },
      "source": [
        "# Этап 1. Получение данных\n",
        "\n",
        "Изучим данные, предоставленные сервисом для проекта.\n",
        "\n",
        "Прочитайте файл music_project.csv и сохраните его в переменной df.\n",
        "\n",
        "Получите  первых 10 строк таблицы, а также общую информацию о данных таблицы df."
      ]
    },
    {
      "cell_type": "code",
      "execution_count": null,
      "metadata": {
        "id": "Wv2LdhMVMRHN",
        "outputId": "18b9d24b-91cb-4217-ef5d-7aae36d7db38"
      },
      "outputs": [
        {
          "name": "stdout",
          "output_type": "stream",
          "text": [
            "     userID                        Track            artist   genre  \\\n",
            "0  FFB692EC            Kamigata To Boots  The Mass Missile    rock   \n",
            "1  55204538  Delayed Because of Accident  Andreas Rönnberg    rock   \n",
            "2    20EC38            Funiculì funiculà       Mario Lanza     pop   \n",
            "3  A3DD03C9        Dragons in the Sunset        Fire + Ice    folk   \n",
            "4  E2DC1FAE                  Soul People        Space Echo   dance   \n",
            "5  842029A1                    Преданная         IMPERVTOR  rusrap   \n",
            "6  4CB90AA5                         True      Roman Messer   dance   \n",
            "7  F03E1C1F             Feeling This Way   Polina Griffith   dance   \n",
            "8  8FA1D3BE     И вновь продолжается бой               NaN  ruspop   \n",
            "9  E772D5C0                    Pessimist               NaN   dance   \n",
            "\n",
            "             City        time        Day  \n",
            "0  Saint-Petersburg  20:28:33  Wednesday  \n",
            "1            Moscow  14:07:09     Friday  \n",
            "2  Saint-Petersburg  20:58:07  Wednesday  \n",
            "3  Saint-Petersburg  08:37:09     Monday  \n",
            "4            Moscow  08:34:34     Monday  \n",
            "5  Saint-Petersburg  13:09:41     Friday  \n",
            "6            Moscow  13:00:07  Wednesday  \n",
            "7            Moscow  20:47:49  Wednesday  \n",
            "8            Moscow  09:17:40     Friday  \n",
            "9  Saint-Petersburg  21:20:49  Wednesday  \n",
            "-------------------------------------------\n"
          ]
        },
        {
          "data": {
            "text/plain": [
              "<bound method DataFrame.info of          userID                              Track            artist  \\\n",
              "0      FFB692EC                  Kamigata To Boots  The Mass Missile   \n",
              "1      55204538        Delayed Because of Accident  Andreas Rönnberg   \n",
              "2        20EC38                  Funiculì funiculà       Mario Lanza   \n",
              "3      A3DD03C9              Dragons in the Sunset        Fire + Ice   \n",
              "4      E2DC1FAE                        Soul People        Space Echo   \n",
              "...         ...                                ...               ...   \n",
              "65074  729CBB09                            My Name            McLean   \n",
              "65075  D08D4A55  Maybe One Day (feat. Black Spade)       Blu & Exile   \n",
              "65076  C5E3A0D5                          Jalopiina               NaN   \n",
              "65077  321D0506                      Freight Train     Chas McDevitt   \n",
              "65078  3A64EF84          Tell Me Sweet Little Lies      Monica Lopez   \n",
              "\n",
              "            genre            City        time        Day  \n",
              "0            rock  Saint-Petersburg  20:28:33  Wednesday  \n",
              "1            rock            Moscow  14:07:09     Friday  \n",
              "2             pop  Saint-Petersburg  20:58:07  Wednesday  \n",
              "3            folk  Saint-Petersburg  08:37:09     Monday  \n",
              "4           dance            Moscow  08:34:34     Monday  \n",
              "...           ...               ...       ...        ...  \n",
              "65074         rnb            Moscow  13:32:28  Wednesday  \n",
              "65075         hip  Saint-Petersburg  10:00:00     Monday  \n",
              "65076  industrial            Moscow  20:09:26     Friday  \n",
              "65077        rock            Moscow  21:43:59     Friday  \n",
              "65078     country            Moscow  21:59:46     Friday  \n",
              "\n",
              "[65079 rows x 7 columns]>"
            ]
          },
          "execution_count": 9,
          "metadata": {},
          "output_type": "execute_result"
        }
      ],
      "source": [
        "import pandas as pd\n",
        "df = pd.read_csv('yandex_music.csv')\n",
        "print(df.head(10))\n",
        "print('-------------------------------------------')\n",
        "df.info\n"
      ]
    },
    {
      "cell_type": "markdown",
      "metadata": {
        "id": "lYzyYB_sMRHO"
      },
      "source": [
        "Рассмотрим полученную информацию подробнее.\n",
        "Всего в таблице 7 столбцов, тип данных у каждого столбца - строка.\n",
        "Подробно разберём, какие в df столбцы и какую информацию они содержат:\n",
        "•\tuserID — идентификатор пользователя;\n",
        "•\tTrack — название трека;\n",
        "•\tartist — имя исполнителя;\n",
        "•\tgenre — название жанра;\n",
        "•\tCity — город, в котором происходило прослушивание;\n",
        "•\ttime — время, в которое пользователь слушал трек;\n",
        "•\tDay — день недели.\n",
        "Количество значений в столбцах различается. Это говорит о том, что в данных есть пропущенные значения.\n"
      ]
    },
    {
      "cell_type": "markdown",
      "metadata": {
        "id": "ZWZy2sVLMRHO"
      },
      "source": [
        "## Выводы:\n",
        "\n",
        "Каждая строка таблицы содержит информацию о композициях определённого жанра в определённом исполнении, которые пользователи слушали в одном из городов в определённое время и день недели. Две проблемы, которые нужно решать: пропуски и некачественные названия столбцов. Для проверки рабочих гипотез особенно ценны столбцы (*вставьте сюда названия столбцов, наиболее существенных, на ва взгляд*. Данные из столбца *название столбца*  позволят узнать самые популярные жанры."
      ]
    },
    {
      "cell_type": "markdown",
      "metadata": {
        "id": "RwA1og-XMRHO"
      },
      "source": [
        "# Этап 2. Предобработка данных\n",
        "\n",
        "Исключим пропуски, переименуем столбцы, а также проверим данные на наличие дубликатов.\n",
        "\n",
        "Получаем перечень названий столбцов. Какая наблюдается проблема — кроме тех, что уже были названы ранее?\n"
      ]
    },
    {
      "cell_type": "code",
      "execution_count": null,
      "metadata": {
        "id": "RxC94H8aMRHO",
        "outputId": "653cf1f5-c73c-4c13-b7f3-344780f57e16"
      },
      "outputs": [
        {
          "name": "stdout",
          "output_type": "stream",
          "text": [
            "Index(['  userID', 'Track', 'artist', 'genre', '  City  ', 'time', 'Day'], dtype='object')\n"
          ]
        }
      ],
      "source": [
        "columns_list = df.columns\n",
        "print(columns_list)"
      ]
    },
    {
      "cell_type": "markdown",
      "metadata": {
        "id": "niayXVD4MRHO"
      },
      "source": [
        "В названиях столбцов есть пробелы, которые могут затруднять доступ к данным.\n",
        "\n",
        "Переименуем столбцы для удобства дальнейшей работы. Проверим результат.\n"
      ]
    },
    {
      "cell_type": "code",
      "execution_count": null,
      "metadata": {
        "id": "nXiv7KuiMRHP",
        "outputId": "93117349-e381-423d-e11d-dc0fa7be1d01"
      },
      "outputs": [
        {
          "name": "stdout",
          "output_type": "stream",
          "text": [
            "Index(['userid', 'track', 'artist', 'genre', 'city', 'time', 'day'], dtype='object')\n"
          ]
        }
      ],
      "source": [
        "df.columns = df.columns.str.strip().str.lower()\n",
        "print(df.columns)"
      ]
    },
    {
      "cell_type": "markdown",
      "metadata": {
        "id": "5CDLRzivMRHP"
      },
      "source": [
        "Проверим данные на наличие пропусков вызовом набора методов для суммирования пропущенных значений."
      ]
    },
    {
      "cell_type": "code",
      "execution_count": null,
      "metadata": {
        "id": "7YX6cyKNMRHP",
        "outputId": "ee269d9c-3653-4a36-e8a9-00fc695c94bd"
      },
      "outputs": [
        {
          "name": "stdout",
          "output_type": "stream",
          "text": [
            "userid       0\n",
            "track     1231\n",
            "artist    7203\n",
            "genre     1198\n",
            "city         0\n",
            "time         0\n",
            "day          0\n",
            "dtype: int64\n"
          ]
        }
      ],
      "source": [
        "total_missing = df.isnull().sum()\n",
        "print(total_missing)"
      ]
    },
    {
      "cell_type": "markdown",
      "metadata": {
        "id": "4qk9C13LMRHP"
      },
      "source": [
        "Пустые значения свидетельствуют, что для некоторых треков доступна не вся информация. Причины могут быть разные: скажем, не назван конкретный исполнитель народной песни. Хуже, если проблемы с записью данных. Каждый отдельный случай необходимо разобрать и выявить причину.\n",
        "\n",
        "Заменяем пропущенные значения в столбцах с названием трека и исполнителя на строку 'unknown'. После этой операции нужно убедиться, что таблица больше не содержит пропусков.\n"
      ]
    },
    {
      "cell_type": "code",
      "execution_count": null,
      "metadata": {
        "id": "nzTKbKvKMRHP"
      },
      "outputs": [],
      "source": [
        "df['track'] = df['track'].fillna('unknown')\n",
        "df['artist'] = df['artist'].fillna('unknown')\n",
        "df['genre'] = df['genre'].fillna('unknown')"
      ]
    },
    {
      "cell_type": "code",
      "execution_count": null,
      "metadata": {
        "id": "kdldFXzIMRHQ",
        "outputId": "96c8050f-b244-46b2-e12d-13022ba711fe"
      },
      "outputs": [
        {
          "name": "stdout",
          "output_type": "stream",
          "text": [
            "userid    0\n",
            "track     0\n",
            "artist    0\n",
            "genre     0\n",
            "city      0\n",
            "time      0\n",
            "day       0\n",
            "dtype: int64\n"
          ]
        }
      ],
      "source": [
        "total_missing = df.isnull().sum()\n",
        "print(total_missing)"
      ]
    },
    {
      "cell_type": "markdown",
      "metadata": {
        "id": "pUb5caL9MRHQ"
      },
      "source": [
        "Удаляем в столбце с жанрами пустые значения; убеждаемся, что их больше не осталось."
      ]
    },
    {
      "cell_type": "code",
      "execution_count": null,
      "metadata": {
        "id": "QaKWqWsaMRHQ",
        "outputId": "1ad0b26c-9bad-4fed-ce35-39a42b14bfed"
      },
      "outputs": [
        {
          "name": "stdout",
          "output_type": "stream",
          "text": [
            "Количество строк с \"unknown\" в \"genre\": 0\n"
          ]
        }
      ],
      "source": [
        "df = df[df['genre'] != 'unknown']\n",
        "unknown_genre_count = (df['genre'] == 'unknown').sum()\n",
        "print(f'Количество строк с \"unknown\" в \"genre\": {unknown_genre_count}')\n"
      ]
    },
    {
      "cell_type": "markdown",
      "metadata": {
        "id": "VfV4_0INMRHQ"
      },
      "source": [
        "Необходимо установить наличие дубликатов. Если найдутся, удаляем, и проверяем, все ли удалились."
      ]
    },
    {
      "cell_type": "code",
      "execution_count": null,
      "metadata": {
        "id": "vOp9ypLQMRHQ",
        "outputId": "beb5c7cc-bf0c-4e42-af3b-5e4a9b76fdbe"
      },
      "outputs": [
        {
          "name": "stdout",
          "output_type": "stream",
          "text": [
            "3755\n",
            "0\n"
          ]
        }
      ],
      "source": [
        "\n",
        "duplicate_count = df.duplicated().sum()\n",
        "print(duplicate_count)\n",
        "\n",
        "df = df.drop_duplicates()\n",
        "\n",
        "\n",
        "duplicate_count_after = df.duplicated().sum()\n",
        "print(duplicate_count_after)\n"
      ]
    },
    {
      "cell_type": "markdown",
      "metadata": {
        "id": "VAz6pZ84MRHQ"
      },
      "source": [
        "Дубликаты могли появиться вследствие сбоя в записи данных. Стоит обратить внимание и разобраться с причинами появления такого «информационного мусора».\n",
        "\n",
        "Сохраняем список уникальных значений столбца с жанрами в переменной genres_list.\n",
        "\n",
        "Объявим функцию find_genre() для поиска неявных дубликатов в столбце с жанрами. Например, когда название одного и того же жанра написано разными словами.\n"
      ]
    },
    {
      "cell_type": "code",
      "execution_count": null,
      "metadata": {
        "id": "l1tUVawOMRHQ",
        "outputId": "8d58bafe-6484-4ff9-f04f-84a434dfe897"
      },
      "outputs": [
        {
          "name": "stdout",
          "output_type": "stream",
          "text": [
            "['rock' 'pop' 'folk' 'dance' 'rusrap' 'ruspop' 'world' 'electronic'\n",
            " 'alternative' 'children' 'rnb' 'hip' 'jazz' 'postrock' 'latin'\n",
            " 'classical' 'metal' 'reggae' 'tatar' 'blues' 'instrumental' 'rusrock'\n",
            " 'dnb' 'türk' 'post' 'country' 'psychedelic' 'conjazz' 'indie'\n",
            " 'posthardcore' 'local' 'avantgarde' 'punk' 'videogame' 'techno' 'house'\n",
            " 'christmas' 'melodic' 'caucasian' 'reggaeton' 'soundtrack' 'singer' 'ska'\n",
            " 'shanson' 'ambient' 'film' 'western' 'rap' 'beats' \"hard'n'heavy\"\n",
            " 'progmetal' 'minimal' 'contemporary' 'new' 'soul' 'holiday' 'german'\n",
            " 'tropical' 'fairytail' 'spiritual' 'urban' 'gospel' 'nujazz' 'folkmetal'\n",
            " 'trance' 'miscellaneous' 'anime' 'hardcore' 'progressive' 'chanson'\n",
            " 'numetal' 'vocal' 'estrada' 'russian' 'classicmetal' 'dubstep' 'club'\n",
            " 'deep' 'southern' 'black' 'folkrock' 'fitness' 'french' 'disco'\n",
            " 'religious' 'hiphop' 'drum' 'extrememetal' 'türkçe' 'experimental' 'easy'\n",
            " 'metalcore' 'modern' 'argentinetango' 'old' 'breaks' 'eurofolk'\n",
            " 'stonerrock' 'industrial' 'funk' 'jpop' 'middle' 'variété' 'other'\n",
            " 'adult' 'christian' 'gothic' 'international' 'muslim' 'relax' 'schlager'\n",
            " 'caribbean' 'ukrrock' 'nu' 'breakbeat' 'comedy' 'chill' 'newage'\n",
            " 'specialty' 'uzbek' 'k-pop' 'balkan' 'chinese' 'meditative' 'dub' 'power'\n",
            " 'death' 'grime' 'arabesk' 'romance' 'flamenco' 'leftfield' 'european'\n",
            " 'tech' 'newwave' 'dancehall' 'mpb' 'piano' 'top' 'bigroom' 'opera'\n",
            " 'celtic' 'tradjazz' 'acoustic' 'epicmetal' 'historisch' 'downbeat'\n",
            " 'downtempo' 'africa' 'audiobook' 'jewish' 'sängerportrait' 'deutschrock'\n",
            " 'eastern' 'action' 'future' 'electropop' 'folklore' 'bollywood'\n",
            " 'marschmusik' 'rnr' 'karaoke' 'indian' 'rancheras' 'электроника'\n",
            " 'afrikaans' 'tango' 'rhythm' 'sound' 'deutschspr' 'trip' 'lovers'\n",
            " 'choral' 'dancepop' 'podcasts' 'retro' 'smooth' 'mexican' 'brazilian'\n",
            " 'ïîï' 'mood' 'surf' 'author' 'gangsta' 'triphop' 'inspirational' 'idm'\n",
            " 'ethnic' 'bluegrass' 'broadway' 'animated' 'americana' 'karadeniz'\n",
            " 'rockabilly' 'colombian' 'self' 'hop' 'synthrock' 'sertanejo' 'japanese'\n",
            " 'canzone' 'swing' 'lounge' 'sport' 'korean' 'ragga' 'traditional'\n",
            " 'gitarre' 'frankreich' 'alternativepunk' 'emo' 'laiko' 'cantopop'\n",
            " 'glitch' 'documentary' 'rockalternative' 'thrash' 'hymn' 'oceania'\n",
            " 'rockother' 'popeurodance' 'dark' 'vi' 'grunge' 'hardstyle' 'samba'\n",
            " 'garage' 'soft' 'art' 'folktronica' 'entehno' 'mediterranean' 'chamber'\n",
            " 'cuban' 'taraftar' 'rockindie' 'gypsy' 'hardtechno' 'shoegazing'\n",
            " 'skarock' 'bossa' 'salsa' 'latino' 'worldbeat' 'malaysian' 'baile'\n",
            " 'ghazal' 'loungeelectronic' 'arabic' 'popelectronic' 'acid' 'kayokyoku'\n",
            " 'neoklassik' 'tribal' 'tanzorchester' 'native' 'independent' 'cantautori'\n",
            " 'handsup' 'poprussian' 'punjabi' 'synthpop' 'rave' 'französisch'\n",
            " 'quebecois' 'speech' 'soulful' 'teen' 'jam' 'ram' 'horror' 'scenic'\n",
            " 'orchestral' 'neue' 'roots' 'slow' 'jungle' 'indipop' 'axé' 'fado'\n",
            " 'showtunes' 'arena' 'irish' 'mandopop' 'forró' 'popdance' 'dirty'\n",
            " 'regional']\n"
          ]
        }
      ],
      "source": [
        "genres_list = df['genre'].unique()\n",
        "\n",
        "print(genres_list)\n"
      ]
    },
    {
      "cell_type": "code",
      "execution_count": null,
      "metadata": {
        "id": "MmpB62dHMRHR",
        "outputId": "778af14f-7153-4004-c796-c6af950536b1"
      },
      "outputs": [
        {
          "name": "stdout",
          "output_type": "stream",
          "text": [
            "Количество жанров \"rock\": 1\n"
          ]
        }
      ],
      "source": [
        "# <создание функции find_genre()>\n",
        "# функция принимает как параметр строку с названием искомого жанра\n",
        "# в теле объявляется переменная-счётчик, ей присваивается значение 0,\n",
        "# затем цикл for проходит по списку уникальных значений\n",
        "# если очередной элемент списка равен параметру функции,\n",
        "# то значение счётчика увеличивается на 1\n",
        "# по окончании работы цикла функция возвращает значение счётчика\n",
        "def find_genre(genre):\n",
        "    count = 0\n",
        "    for g in genres_list:\n",
        "        if g == genre:\n",
        "            count += 1\n",
        "\n",
        "    return count\n",
        "\n",
        "# Пример использования функции\n",
        "genre_count = find_genre('rock')\n",
        "print(f'Количество жанров \"{'rock'}\": {genre_count}')\n",
        "\n"
      ]
    },
    {
      "cell_type": "markdown",
      "metadata": {
        "id": "uEPy8zHLMRHR"
      },
      "source": [
        "Вызов функции find_genre() для поиска различных вариантов названия жанра хип-хоп в таблице.\n",
        "\n",
        "Правильное название — hiphop. Поищем другие варианты:\n",
        "\n",
        "•\thip\n",
        "\n",
        "•\thop\n",
        "\n",
        "•\thip-hop\n"
      ]
    },
    {
      "cell_type": "code",
      "execution_count": null,
      "metadata": {
        "id": "vhLneuWYMRHR",
        "outputId": "654fe2e5-c68c-4c9c-d53d-094500cb7eb7"
      },
      "outputs": [
        {
          "data": {
            "text/plain": [
              "1"
            ]
          },
          "execution_count": 26,
          "metadata": {},
          "output_type": "execute_result"
        }
      ],
      "source": [
        "find_genre(\"hip\")\n"
      ]
    },
    {
      "cell_type": "code",
      "execution_count": null,
      "metadata": {
        "id": "Kn8joEyXMRHR",
        "outputId": "d415d706-49c0-4f02-e8da-39174f6bffb2"
      },
      "outputs": [
        {
          "data": {
            "text/plain": [
              "0"
            ]
          },
          "execution_count": 27,
          "metadata": {},
          "output_type": "execute_result"
        }
      ],
      "source": [
        "find_genre(\"hрp\")\n"
      ]
    },
    {
      "cell_type": "code",
      "execution_count": null,
      "metadata": {
        "id": "yEB02dRGMRHR",
        "outputId": "620a8748-d687-4021-e864-67aba724b700"
      },
      "outputs": [
        {
          "data": {
            "text/plain": [
              "1"
            ]
          },
          "execution_count": 28,
          "metadata": {},
          "output_type": "execute_result"
        }
      ],
      "source": [
        "find_genre(\"hip-hop\")\n"
      ]
    },
    {
      "cell_type": "markdown",
      "metadata": {
        "id": "aPyHmhDXMRHR"
      },
      "source": [
        "Объявим функцию find_hip_hop(), которая заменяет неправильное название этого жанра в столбце 'genre_name' на 'hiphop' и проверяет успешность выполнения замены.\n",
        "\n",
        "Так исправляем все варианты написания, которые выявила проверка.\n"
      ]
    },
    {
      "cell_type": "code",
      "execution_count": null,
      "metadata": {
        "id": "qoBxCrKGMRHR"
      },
      "outputs": [],
      "source": [
        "# <создание функции find_hip_hop()>\n",
        "# функция принимает как параметры таблицу df и неверное название\n",
        "# к столбцу 'genre_name' применяется специальный метод,\n",
        "# который заменяет второй параметр на строку 'hiphop'\n",
        "# результат работы равен подсчитанному методом count() числу\n",
        "#значений столбца,\n",
        "# которые равны второму параметру\n",
        "# функция возвращает результат\n",
        "def find_hip_hop(df, wrong_genre):\n",
        "    # Замена неправильного жанра на 'hiphop'\n",
        "    df['genre'] = df['genre'].replace(wrong_genre, 'hiphop')\n",
        "\n",
        "    # Вывод всех уникальных жанров\n",
        "    unique_genres = df['genre'].str.lower().unique()  # Приводим к нижнему регистру для унификации\n",
        "    print(f\"Все уникальные жанры: {unique_genres}\")\n",
        "\n",
        "    # Подсчет количества значений в столбце, равных 'hiphop'\n",
        "    count = (df['genre'].str.lower() == 'hiphop').sum()  # Метод для проверки каждого значения и подсчета True\n",
        "\n",
        "    # Возвращаем результат\n",
        "    return count"
      ]
    },
    {
      "cell_type": "code",
      "execution_count": null,
      "metadata": {
        "id": "GdHUfxaOMRHS",
        "outputId": "03412b4b-10b7-431d-c5bb-4cea62509baa"
      },
      "outputs": [
        {
          "name": "stdout",
          "output_type": "stream",
          "text": [
            "Все уникальные жанры: ['rock' 'pop' 'folk' 'dance' 'rusrap' 'ruspop' 'world' 'electronic'\n",
            " 'alternative' 'children' 'rnb' 'hip' 'jazz' 'postrock' 'latin'\n",
            " 'classical' 'metal' 'reggae' 'tatar' 'blues' 'instrumental' 'rusrock'\n",
            " 'dnb' 'türk' 'post' 'country' 'psychedelic' 'conjazz' 'indie'\n",
            " 'posthardcore' 'local' 'avantgarde' 'punk' 'videogame' 'techno' 'house'\n",
            " 'christmas' 'melodic' 'caucasian' 'reggaeton' 'soundtrack' 'singer' 'ska'\n",
            " 'shanson' 'ambient' 'film' 'western' 'rap' 'beats' \"hard'n'heavy\"\n",
            " 'progmetal' 'minimal' 'contemporary' 'new' 'soul' 'holiday' 'german'\n",
            " 'tropical' 'fairytail' 'spiritual' 'urban' 'gospel' 'nujazz' 'folkmetal'\n",
            " 'trance' 'miscellaneous' 'anime' 'hardcore' 'progressive' 'chanson'\n",
            " 'numetal' 'vocal' 'estrada' 'russian' 'classicmetal' 'dubstep' 'club'\n",
            " 'deep' 'southern' 'black' 'folkrock' 'fitness' 'french' 'disco'\n",
            " 'religious' 'hiphop' 'drum' 'extrememetal' 'türkçe' 'experimental' 'easy'\n",
            " 'metalcore' 'modern' 'argentinetango' 'old' 'breaks' 'eurofolk'\n",
            " 'stonerrock' 'industrial' 'funk' 'jpop' 'middle' 'variété' 'other'\n",
            " 'adult' 'christian' 'gothic' 'international' 'muslim' 'relax' 'schlager'\n",
            " 'caribbean' 'ukrrock' 'nu' 'breakbeat' 'comedy' 'chill' 'newage'\n",
            " 'specialty' 'uzbek' 'k-pop' 'balkan' 'chinese' 'meditative' 'dub' 'power'\n",
            " 'death' 'grime' 'arabesk' 'romance' 'flamenco' 'leftfield' 'european'\n",
            " 'tech' 'newwave' 'dancehall' 'mpb' 'piano' 'top' 'bigroom' 'opera'\n",
            " 'celtic' 'tradjazz' 'acoustic' 'epicmetal' 'historisch' 'downbeat'\n",
            " 'downtempo' 'africa' 'audiobook' 'jewish' 'sängerportrait' 'deutschrock'\n",
            " 'eastern' 'action' 'future' 'electropop' 'folklore' 'bollywood'\n",
            " 'marschmusik' 'rnr' 'karaoke' 'indian' 'rancheras' 'электроника'\n",
            " 'afrikaans' 'tango' 'rhythm' 'sound' 'deutschspr' 'trip' 'lovers'\n",
            " 'choral' 'dancepop' 'podcasts' 'retro' 'smooth' 'mexican' 'brazilian'\n",
            " 'ïîï' 'mood' 'surf' 'author' 'gangsta' 'triphop' 'inspirational' 'idm'\n",
            " 'ethnic' 'bluegrass' 'broadway' 'animated' 'americana' 'karadeniz'\n",
            " 'rockabilly' 'colombian' 'self' 'hop' 'synthrock' 'sertanejo' 'japanese'\n",
            " 'canzone' 'swing' 'lounge' 'sport' 'korean' 'ragga' 'traditional'\n",
            " 'gitarre' 'frankreich' 'alternativepunk' 'emo' 'laiko' 'cantopop'\n",
            " 'glitch' 'documentary' 'rockalternative' 'thrash' 'hymn' 'oceania'\n",
            " 'rockother' 'popeurodance' 'dark' 'vi' 'grunge' 'hardstyle' 'samba'\n",
            " 'garage' 'soft' 'art' 'folktronica' 'entehno' 'mediterranean' 'chamber'\n",
            " 'cuban' 'taraftar' 'rockindie' 'gypsy' 'hardtechno' 'shoegazing'\n",
            " 'skarock' 'bossa' 'salsa' 'latino' 'worldbeat' 'malaysian' 'baile'\n",
            " 'ghazal' 'loungeelectronic' 'arabic' 'popelectronic' 'acid' 'kayokyoku'\n",
            " 'neoklassik' 'tribal' 'tanzorchester' 'native' 'independent' 'cantautori'\n",
            " 'handsup' 'poprussian' 'punjabi' 'synthpop' 'rave' 'französisch'\n",
            " 'quebecois' 'speech' 'soulful' 'teen' 'jam' 'ram' 'horror' 'scenic'\n",
            " 'orchestral' 'neue' 'roots' 'slow' 'jungle' 'indipop' 'axé' 'fado'\n",
            " 'showtunes' 'arena' 'irish' 'mandopop' 'forró' 'popdance' 'dirty'\n",
            " 'regional']\n",
            "Количество жанров \"hiphop\": 80\n"
          ]
        }
      ],
      "source": [
        "# Пример использования функции\n",
        "result = find_hip_hop(df, 'hip-hop')\n",
        "print(f'Количество жанров \"hiphop\": {result}')"
      ]
    },
    {
      "cell_type": "markdown",
      "metadata": {
        "id": "uk34YQLDMRHS"
      },
      "source": [
        "Получаем общую информацию о данных. Убеждаемся, что чистка выполнена успешно."
      ]
    },
    {
      "cell_type": "code",
      "execution_count": null,
      "metadata": {
        "id": "axZG78jBMRHS",
        "outputId": "639b1b7d-cad7-4ba2-9a50-900492af80f4"
      },
      "outputs": [
        {
          "name": "stdout",
          "output_type": "stream",
          "text": [
            "          userid    track   artist  genre    city      time     day\n",
            "count      60126    60126    60126  60126   60126     60126   60126\n",
            "unique     41315    46910    43344    288       2     20316       3\n",
            "top     7D166C63  unknown  unknown    pop  Moscow  08:14:07  Friday\n",
            "freq          51      536     5990   8323   41892        13   21482\n"
          ]
        }
      ],
      "source": [
        "print(df.describe())\n"
      ]
    },
    {
      "cell_type": "markdown",
      "metadata": {
        "id": "DwdeVJw3MRHS"
      },
      "source": [
        "## Вывод\n",
        "\n",
        "На этапе предобработки в данных обнаружились не только пропуски и проблемы с названиями столбцов, но и всяческие виды дубликатов. Их удаление позволит провести анализ точнее. Поскольку сведения о жанрах важно сохранить для анализа, не просто удаляем все пропущенные значения, но заполним пропущенные имена исполнителей и названия треков. Имена столбцов теперь корректны и удобны для дальнейшей работы.\n"
      ]
    },
    {
      "cell_type": "markdown",
      "metadata": {
        "id": "QXcGUHpWMRHS"
      },
      "source": [
        "# Действительно ли музыку в разных городах слушают по-разному?\n",
        "\n",
        "Была выдвинута гипотеза, что в Москве и Санкт-Петербурге пользователи слушают музыку по-разному. Проверяем это предположение по данным о трёх днях недели — понедельнике, среде и пятнице.\n",
        "\n",
        "Для каждого города устанавливаем количество прослушанных в эти дни композиций с известным жанром, и сравниваем результаты.\n",
        "Группируем данные по городу и вызовом метода count() подсчитываем композиции, для которых известен жанр.\n"
      ]
    },
    {
      "cell_type": "code",
      "execution_count": null,
      "metadata": {
        "id": "3eBsYUZXMRHS",
        "outputId": "da114248-8a35-4c44-97e0-135853378f72"
      },
      "outputs": [
        {
          "name": "stdout",
          "output_type": "stream",
          "text": [
            "city\n",
            "Moscow              41892\n",
            "Saint-Petersburg    18234\n",
            "Name: genre, dtype: int64\n"
          ]
        }
      ],
      "source": [
        "genre_count_by_city = df.groupby('city')['genre'].count()\n",
        "print(genre_count_by_city)\n"
      ]
    },
    {
      "cell_type": "markdown",
      "metadata": {
        "id": "NMd4yT3WMRHS"
      },
      "source": [
        "В *(вставьте название города)* прослушиваний больше, чем в *(вставьте название города)*, но это не значит, что *(вставьте название города)* более активна. У Яндекс.Музыки в целом больше пользователей в Москве, поэтому величины сопоставимы.\n",
        "Сгруппируем данные по дню недели и подсчитаем прослушанные в понедельник, среду и пятницу композиции, для которых известен жанр.\n"
      ]
    },
    {
      "cell_type": "code",
      "execution_count": null,
      "metadata": {
        "id": "YI50cJRCMRHS",
        "outputId": "7a5cdf25-1abb-4a4e-fd44-653a1de168ac"
      },
      "outputs": [
        {
          "name": "stdout",
          "output_type": "stream",
          "text": [
            "day\n",
            "Friday       21482\n",
            "Monday       20866\n",
            "Wednesday    17778\n",
            "Name: genre, dtype: int64\n"
          ]
        }
      ],
      "source": [
        "genre_count_by_day = df.groupby('day')['genre'].count()\n",
        "\n",
        "print(genre_count_by_day)\n"
      ]
    },
    {
      "cell_type": "markdown",
      "metadata": {
        "id": "syKBiT6HMRHT"
      },
      "source": [
        "Понедельник и пятница — время для музыки; по средам пользователи немного больше вовлечены в работу.\n",
        "\n",
        "Создаём функцию number_tracks(), которая принимает как параметры таблицу, день недели и название города, а возвращает количество прослушанных композиций, для которых известен жанр. Проверяем количество прослушанных композиций для каждого города и понедельника, затем среды и пятницы.\n"
      ]
    },
    {
      "cell_type": "code",
      "execution_count": null,
      "metadata": {
        "id": "4XthyfaUMRHT"
      },
      "outputs": [],
      "source": [
        "# <создание функции number_tracks()>\n",
        "# объявляется функция с тремя параметрами: df, day, city\n",
        "# в переменной track_list сохраняются те строки таблицы df, для которых\n",
        "# значение в столбце 'weekday' равно параметру day\n",
        "# и одновременно значение в столбце 'city' равно параметру city\n",
        "# в переменной track_list_count сохраняется число значений столбца 'genre_name',\n",
        "# рассчитанное методом count() для таблицы track_list\n",
        "# функция возвращает значение track_list_count\n",
        "def number_tracks(df, day, city):\n",
        "    track_list = df[(df['day'] == day) & (df['city'] == city)]\n",
        "    track_list_count = track_list['genre'].count()\n",
        "    return track_list_count\n"
      ]
    },
    {
      "cell_type": "code",
      "execution_count": null,
      "metadata": {
        "id": "i07Jbv9ZMRHT",
        "outputId": "08ec0117-499e-43d0-dd91-7ac80d9af868"
      },
      "outputs": [
        {
          "name": "stdout",
          "output_type": "stream",
          "text": [
            "Количество прослушанных композиций в Москве в понедельник: 15347\n"
          ]
        }
      ],
      "source": [
        "monday_count = number_tracks(df, 'Monday', 'Moscow')\n",
        "print(f'Количество прослушанных композиций в Москве в понедельник: {monday_count}')"
      ]
    },
    {
      "cell_type": "code",
      "execution_count": null,
      "metadata": {
        "id": "J8ioQw-dMRHT",
        "outputId": "c820cdcb-c7ca-4bc4-a79d-3e0669329575"
      },
      "outputs": [
        {
          "name": "stdout",
          "output_type": "stream",
          "text": [
            "Список композиций для Санкт-Петербурга в понедельник: 5519\n"
          ]
        }
      ],
      "source": [
        "print(f'Список композиций для Санкт-Петербурга в понедельник: {number_tracks(df, \"Monday\", \"Saint-Petersburg\")}')"
      ]
    },
    {
      "cell_type": "code",
      "execution_count": null,
      "metadata": {
        "id": "I4A6kejEMRHT",
        "outputId": "2c6e681c-8849-49d8-ae43-213a2aaa774d"
      },
      "outputs": [
        {
          "name": "stdout",
          "output_type": "stream",
          "text": [
            "Список композиций для Москвы в среду: 10865\n"
          ]
        }
      ],
      "source": [
        "print(f'Список композиций для Москвы в среду: {number_tracks(df, \"Wednesday\", \"Moscow\")}')"
      ]
    },
    {
      "cell_type": "code",
      "execution_count": null,
      "metadata": {
        "id": "_larKnfdMRHU",
        "outputId": "534f70a5-6d0a-4c24-809e-62b4971a3981"
      },
      "outputs": [
        {
          "name": "stdout",
          "output_type": "stream",
          "text": [
            "Список композиций для Санкт-Петербурга в среду: 6913\n"
          ]
        }
      ],
      "source": [
        "print(f'Список композиций для Санкт-Петербурга в среду: {number_tracks(df, \"Wednesday\", \"Saint-Petersburg\")}')"
      ]
    },
    {
      "cell_type": "code",
      "execution_count": null,
      "metadata": {
        "id": "7TQFgxDGMRHU",
        "outputId": "d2b09cc3-c6f2-4a15-b5c1-4b6110657669"
      },
      "outputs": [
        {
          "name": "stdout",
          "output_type": "stream",
          "text": [
            "Список композиций для Москвы в пятницу: 15680\n"
          ]
        }
      ],
      "source": [
        "print(f'Список композиций для Москвы в пятницу: {number_tracks(df, \"Friday\", \"Moscow\")}')\n"
      ]
    },
    {
      "cell_type": "code",
      "execution_count": null,
      "metadata": {
        "id": "hvRFtDERMRHU",
        "outputId": "6c0fd72a-8e4d-4f3b-e963-1f323ec8f4f9"
      },
      "outputs": [
        {
          "name": "stdout",
          "output_type": "stream",
          "text": [
            "Список композиций для Санкт-Петербурга в пятницу: 5802\n"
          ]
        }
      ],
      "source": [
        "print(f'Список композиций для Санкт-Петербурга в пятницу: {number_tracks(df, \"Friday\", \"Saint-Petersburg\")}')"
      ]
    },
    {
      "cell_type": "markdown",
      "metadata": {
        "id": "wTNvnd05MRHU"
      },
      "source": [
        "Сведём полученную информацию в одну таблицу, где ['city', 'monday', 'wednesday', 'friday'] названия столбцов."
      ]
    },
    {
      "cell_type": "code",
      "execution_count": null,
      "metadata": {
        "id": "ZsOw_tMoMRHU",
        "outputId": "f50ba13a-e7e3-48ec-9835-fd57ced55da7"
      },
      "outputs": [
        {
          "name": "stdout",
          "output_type": "stream",
          "text": [
            "               city  monday  wednesday  friday\n",
            "0            Moscow   15347      10865   15680\n",
            "1  Saint-Petersburg    5519       6913    5802\n"
          ]
        }
      ],
      "source": [
        "import pandas as pd\n",
        "cities = ['Moscow', 'Saint-Petersburg']\n",
        "data = []\n",
        "\n",
        "for city in cities:\n",
        "    monday_count = number_tracks(df, 'Monday', city)\n",
        "    wednesday_count = number_tracks(df, 'Wednesday', city)\n",
        "    friday_count = number_tracks(df, 'Friday', city)\n",
        "\n",
        "    # Добавляем строку с данными для текущего города\n",
        "    data.append([city, monday_count, wednesday_count, friday_count])\n",
        "\n",
        "# Создаём DataFrame с результатами\n",
        "result_df = pd.DataFrame(data, columns=['city', 'monday', 'wednesday', 'friday'])\n",
        "\n",
        "# Выводим результат\n",
        "print(result_df)\n"
      ]
    },
    {
      "cell_type": "markdown",
      "metadata": {
        "id": "x0YNxBkQMRHU"
      },
      "source": [
        "## Вывод\n",
        "\n",
        "Москва - рабочий город, поэтому в середине недели прослушиваний меньше. А вот в Питере творчиские люди, без музыки не работают, а отдыхают без плеера в Яндексе."
      ]
    },
    {
      "cell_type": "markdown",
      "metadata": {
        "id": "-ofC_ParMRHU"
      },
      "source": [
        "# Утро понедельника и вечер пятницы — разная музыка или одна и та же?\n",
        "\n",
        "Ищем ответ на вопрос, какие жанры преобладают в разных городах в понедельник утром и в пятницу вечером. Есть предположение, что в понедельник утром пользователи слушают больше бодрящей музыки (например, жанра поп), а вечером пятницы — больше танцевальных (например, электронику).\n",
        "Получим таблицы данных по Москве moscow_general и по Санкт-Петербургу spb_general.\n"
      ]
    },
    {
      "cell_type": "code",
      "execution_count": null,
      "metadata": {
        "id": "0uttWp-PMRHV",
        "outputId": "1a0f3e86-0146-4a58-e8f5-1657be564a42"
      },
      "outputs": [
        {
          "name": "stdout",
          "output_type": "stream",
          "text": [
            "     userid                        track            artist   genre    city  \\\n",
            "1  55204538  Delayed Because of Accident  Andreas Rönnberg    rock  Moscow   \n",
            "4  E2DC1FAE                  Soul People        Space Echo   dance  Moscow   \n",
            "6  4CB90AA5                         True      Roman Messer   dance  Moscow   \n",
            "7  F03E1C1F             Feeling This Way   Polina Griffith   dance  Moscow   \n",
            "8  8FA1D3BE     И вновь продолжается бой           unknown  ruspop  Moscow   \n",
            "\n",
            "       time        day  \n",
            "1  14:07:09     Friday  \n",
            "4  08:34:34     Monday  \n",
            "6  13:00:07  Wednesday  \n",
            "7  20:47:49  Wednesday  \n",
            "8  09:17:40     Friday  \n",
            "     userid                  track            artist   genre  \\\n",
            "0  FFB692EC      Kamigata To Boots  The Mass Missile    rock   \n",
            "2    20EC38      Funiculì funiculà       Mario Lanza     pop   \n",
            "3  A3DD03C9  Dragons in the Sunset        Fire + Ice    folk   \n",
            "5  842029A1              Преданная         IMPERVTOR  rusrap   \n",
            "9  E772D5C0              Pessimist           unknown   dance   \n",
            "\n",
            "               city      time        day  \n",
            "0  Saint-Petersburg  20:28:33  Wednesday  \n",
            "2  Saint-Petersburg  20:58:07  Wednesday  \n",
            "3  Saint-Petersburg  08:37:09     Monday  \n",
            "5  Saint-Petersburg  13:09:41     Friday  \n",
            "9  Saint-Petersburg  21:20:49  Wednesday  \n"
          ]
        }
      ],
      "source": [
        "# получение таблицы moscow_general из тех строк таблицы df,\n",
        "# для которых значение в столбце 'city' равно 'Moscow'\n",
        "# <получение таблицы spb_general>\n",
        "moscow_general = df[df['city'] == 'Moscow']\n",
        "\n",
        "spb_general = df[df['city'] == 'Saint-Petersburg']\n",
        "\n",
        "print(moscow_general.head())\n",
        "print(spb_general.head())\n"
      ]
    },
    {
      "cell_type": "markdown",
      "metadata": {
        "id": "ce6NWsdWMRHV"
      },
      "source": [
        "Создаём функцию genre_weekday(), которая возвращает список жанров по запрошенному дню недели и времени суток с такого-то часа по такой-то."
      ]
    },
    {
      "cell_type": "code",
      "execution_count": null,
      "metadata": {
        "id": "nCkPV-EmMRHV"
      },
      "outputs": [],
      "source": [
        "# объявление функции genre_weekday() с параметрами df, day, time1, time2\n",
        "# в переменной genre_list сохраняются те строки df, для которых одновременно:\n",
        "# 1) значение в столбце 'weekday' равно параметру day,\n",
        "# 2) значение в столбце 'time' больше time1 и\n",
        "# 3) меньше time2.\n",
        "# в переменной genre_list_sorted сохраняются в порядке убывания\n",
        "# первые 10 значений Series, полученной подсчётом числа значений 'genre_name'\n",
        "# сгруппированной по столбцу 'genre_name' таблицы genre_list\n",
        "# функция возвращает значение genre_list_sorted\n",
        "def genre_weekday(df, day, time1, time2):\n",
        "    genre_list = df[(df['day'] == day) & (df['time'] > time1) & (df['time'] < time2)]\n",
        "\n",
        "    # Подсчитываем количество жанров и сортируем по убыванию\n",
        "    genre_list_sorted = genre_list['genre'].value_counts().head(10)\n",
        "\n",
        "    # Возвращаем отсортированный список жанров\n",
        "    return genre_list_sorted\n"
      ]
    },
    {
      "cell_type": "markdown",
      "metadata": {
        "id": "WaucftH3MRHV"
      },
      "source": [
        "Cравниваем полученные результаты по таблице для Москвы и Санкт-Петербурга в понедельник утром (с 7 до 11) и в пятницу вечером (с 17 до 23)."
      ]
    },
    {
      "cell_type": "code",
      "execution_count": null,
      "metadata": {
        "id": "FAb_glNrMRHV",
        "outputId": "3764a1ce-132d-41e6-dd11-fc4aab117315"
      },
      "outputs": [
        {
          "name": "stdout",
          "output_type": "stream",
          "text": [
            "genre\n",
            "pop            781\n",
            "dance          549\n",
            "electronic     480\n",
            "rock           474\n",
            "hip            281\n",
            "ruspop         186\n",
            "world          181\n",
            "rusrap         175\n",
            "alternative    164\n",
            "classical      157\n",
            "Name: count, dtype: int64\n"
          ]
        }
      ],
      "source": [
        "# Вызов функции для утра понедельника в Москве (с 06:00 до 12:00)\n",
        "print(genre_weekday(moscow_general, 'Monday', '06:00:00', '12:00:00'))\n"
      ]
    },
    {
      "cell_type": "code",
      "execution_count": null,
      "metadata": {
        "id": "eOgFTMUmMRHV",
        "outputId": "b6e2ee99-7a83-42e0-bebc-31f6741f7107"
      },
      "outputs": [
        {
          "name": "stdout",
          "output_type": "stream",
          "text": [
            "genre\n",
            "pop            218\n",
            "dance          182\n",
            "rock           162\n",
            "electronic     147\n",
            "hip             79\n",
            "ruspop          64\n",
            "alternative     58\n",
            "rusrap          55\n",
            "jazz            44\n",
            "classical       40\n",
            "Name: count, dtype: int64\n"
          ]
        }
      ],
      "source": [
        "# Вызов функции для утра понедельника в Санкт-Петербурге (с 06:00 до 12:00)\n",
        "print(genre_weekday(spb_general, 'Monday', '06:00:00', '12:00:00'))\n"
      ]
    },
    {
      "cell_type": "code",
      "execution_count": null,
      "metadata": {
        "id": "AqEVukU6MRHV",
        "outputId": "8fa95d27-dfa0-4a11-bbc4-fabc2c52fa92"
      },
      "outputs": [
        {
          "name": "stdout",
          "output_type": "stream",
          "text": [
            "genre\n",
            "pop            713\n",
            "rock           517\n",
            "dance          495\n",
            "electronic     482\n",
            "hip            267\n",
            "world          208\n",
            "ruspop         170\n",
            "classical      163\n",
            "alternative    163\n",
            "rusrap         142\n",
            "Name: count, dtype: int64\n"
          ]
        }
      ],
      "source": [
        "# Вызов функции для вечера пятницы в Москве (с 18:00 до 23:59)\n",
        "print(genre_weekday(moscow_general, 'Friday', '18:00:00', '23:59:59'))\n"
      ]
    },
    {
      "cell_type": "code",
      "execution_count": null,
      "metadata": {
        "id": "RmOWtMLzMRHW",
        "outputId": "44dbf94b-cd3d-4d7a-fb95-7f5207243c1c"
      },
      "outputs": [
        {
          "name": "stdout",
          "output_type": "stream",
          "text": [
            "genre\n",
            "pop            256\n",
            "electronic     216\n",
            "rock           216\n",
            "dance          210\n",
            "hip             94\n",
            "alternative     63\n",
            "jazz            61\n",
            "classical       60\n",
            "rusrap          59\n",
            "world           54\n",
            "Name: count, dtype: int64\n"
          ]
        }
      ],
      "source": [
        "# Вызов функции для вечера пятницы в Санкт-Петербурге (с 18:00 до 23:59)\n",
        "print(genre_weekday(spb_general, 'Friday', '18:00:00', '23:59:59'))\n"
      ]
    },
    {
      "cell_type": "markdown",
      "metadata": {
        "id": "G8BKu6aiMRHW"
      },
      "source": [
        "Популярные жанры в понедельник утром в Питере и Москве оказались похожи: везде, как и предполагалось, популярен *(pop)*. Несмотря на это, концовка топ-10 для двух городов различается: в Питере в топ-10 входит джаз и русский рэп, а в Москве жанр world.\n",
        "\n",
        "*(Опишите здесь, меняется ли ситуация в музыкальными предпочтениями в конце недели, заметна ли разница в концовке ТОП-10)*\n",
        "\n",
        "## Вывод\n",
        "Жанр *pop* безусловный лидер, а топ-5 в целом не различается в обеих столицах. При этом видно, что концовка списка более «живая»: для каждого города выделяются более характерные жанры, которые действительно меняют свои позиции в зависимости от дня недели и времени.\n"
      ]
    },
    {
      "cell_type": "markdown",
      "metadata": {
        "id": "K-OsivvtMRHW"
      },
      "source": [
        "# Москва и Питер — две разные столицы, два разных направления в музыке. Правда?\n",
        "\n",
        "Гипотеза: Питер богат своей рэп-культурой, поэтому это направление там слушают чаще, а Москва — город контрастов, но основная масса пользователей слушает попсу.\n",
        "\n",
        "Сгруппируем таблицу moscow_general по жанру, сосчитаем численность композиций каждого жанра методом count(), отсортируем в порядке убывания и сохраним результат в таблице moscow_genres.\n",
        "\n",
        "Просмотрим первые 10 строк этой новой таблицы.\n"
      ]
    },
    {
      "cell_type": "code",
      "execution_count": null,
      "metadata": {
        "id": "qZD6oE_mMRHW"
      },
      "outputs": [],
      "source": [
        "# одной строкой: группировка таблицы moscow_general по столбцу 'genre_name',\n",
        "# подсчёт числа значений 'genre_name' в этой группировке методом count(),\n",
        "# сортировка Series в порядке убывания и сохранение в moscow_genres\n",
        "moscow_genres = moscow_general.groupby('genre').count()['track'].sort_values(ascending=False)\n"
      ]
    },
    {
      "cell_type": "code",
      "execution_count": null,
      "metadata": {
        "id": "M-426U_eMRHW",
        "outputId": "1873fe21-5487-4ea3-dbe6-e9f53c8fe72b"
      },
      "outputs": [
        {
          "name": "stdout",
          "output_type": "stream",
          "text": [
            "genre\n",
            "pop            5892\n",
            "dance          4435\n",
            "rock           3965\n",
            "electronic     3786\n",
            "hip            2041\n",
            "classical      1616\n",
            "world          1432\n",
            "alternative    1379\n",
            "ruspop         1372\n",
            "rusrap         1161\n",
            "Name: track, dtype: int64\n"
          ]
        }
      ],
      "source": [
        "# <просмотр первых 10 строк moscow_genres>\n",
        "print(moscow_genres.head(10))\n"
      ]
    },
    {
      "cell_type": "markdown",
      "metadata": {
        "id": "5vHK0SwJMRHW"
      },
      "source": [
        "Сгруппируем таблицу spb_general по жанру, сосчитаем численность композиций каждого жанра методом count(), отсортируем в порядке убывания и сохраним результат в таблице spb_genres.\n",
        "\n",
        "Просматриваем первые 10 строк этой таблицы. Теперь можно сравнивать два города.\n"
      ]
    },
    {
      "cell_type": "code",
      "execution_count": null,
      "metadata": {
        "id": "IPUZBuNyMRHX"
      },
      "outputs": [],
      "source": [
        "# <группировка таблицы spb_general, расчёт, сохранение в spb_genres>\n",
        "spb_genres = spb_general.groupby('genre').count()['track'].sort_values(ascending=False)\n"
      ]
    },
    {
      "cell_type": "code",
      "execution_count": null,
      "metadata": {
        "id": "TYNW7P-wMRHX",
        "outputId": "3af78f6c-f96f-4c1f-fa21-6151f83d9551"
      },
      "outputs": [
        {
          "name": "stdout",
          "output_type": "stream",
          "text": [
            "genre\n",
            "pop            2431\n",
            "dance          1932\n",
            "rock           1879\n",
            "electronic     1736\n",
            "hip             934\n",
            "alternative     649\n",
            "classical       646\n",
            "rusrap          564\n",
            "ruspop          538\n",
            "world           515\n",
            "Name: track, dtype: int64\n"
          ]
        }
      ],
      "source": [
        "# <просмотр первых 10 строк spb_genres>\n",
        "print(spb_genres.head(10))\n"
      ]
    },
    {
      "cell_type": "markdown",
      "metadata": {
        "id": "Ki-otZ5HMRHX"
      },
      "source": [
        "## Вывод\n",
        "В Москве, кроме абсолютно популярного жанра поп, есть направление русской популярной музыки. Значит, что интерес к этому жанру шире. А рэп, вопреки предположению, занимает в обоих городах близкие позиции.\n"
      ]
    },
    {
      "cell_type": "markdown",
      "metadata": {
        "id": "btwoBp8nMRHX"
      },
      "source": [
        "# Результаты исследования\n",
        "\n",
        "Рабочие гипотезы:\n",
        "\n",
        "•\tмузыку в двух городах — Москве и Санкт-Петербурге — слушают в разном режиме;\n",
        "\n",
        "•\tсписки десяти самых популярных жанров утром в понедельник и вечером в пятницу имеют характерные отличия;\n",
        "\n",
        "•\tнаселение двух городов предпочитает разные музыкальные жанры.\n",
        "\n",
        "**Общие результаты**\n",
        "\n",
        "Москва и Петербург сходятся во вкусах: везде преобладает популярная музыка. При этом зависимости предпочтений от дня недели в каждом отдельном городе нет — люди постоянно слушают то, что им нравится. Но между городами в разрезе дней неделей наблюдается зеркальность относительно среды: Москва больше слушает в понедельник и пятницу, а Петербург наоборот - больше в среду, но меньше в понедельник и пятницу.\n",
        "В результате первая гипотеза *подтверждена / не подтверждена*, вторая гипотеза *подтверждена / не подтверждена* и третья не подтверждена >.*подтверждена / не подтверждена*\n"
      ]
    },
    {
      "cell_type": "code",
      "execution_count": null,
      "metadata": {
        "id": "ZvOBPJagMRHX"
      },
      "outputs": [],
      "source": []
    },
    {
      "cell_type": "code",
      "execution_count": null,
      "metadata": {
        "id": "8V26echUMRHX"
      },
      "outputs": [],
      "source": []
    }
  ],
  "metadata": {
    "kernelspec": {
      "display_name": "Python 3",
      "language": "python",
      "name": "python3"
    },
    "language_info": {
      "codemirror_mode": {
        "name": "ipython",
        "version": 3
      },
      "file_extension": ".py",
      "mimetype": "text/x-python",
      "name": "python",
      "nbconvert_exporter": "python",
      "pygments_lexer": "ipython3",
      "version": "3.11.9"
    },
    "colab": {
      "provenance": [],
      "include_colab_link": true
    }
  },
  "nbformat": 4,
  "nbformat_minor": 0
}